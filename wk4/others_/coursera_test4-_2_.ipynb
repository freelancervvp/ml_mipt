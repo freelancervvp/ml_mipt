{
 "cells": [
  {
   "cell_type": "code",
   "execution_count": 1,
   "metadata": {
    "collapsed": true
   },
   "outputs": [],
   "source": [
    "import pandas as pd\n",
    "import numpy as np\n",
    "import matplotlib.pyplot as plt\n",
    "import scipy.stats as sts\n",
    "import math \n",
    "%matplotlib inline"
   ]
  },
  {
   "cell_type": "markdown",
   "metadata": {},
   "source": [
    "## Биномиальное распределение"
   ]
  },
  {
   "cell_type": "code",
   "execution_count": 2,
   "metadata": {
    "collapsed": true
   },
   "outputs": [],
   "source": [
    "n = 5\n",
    "p = 0.7\n",
    "binomial_rv1 = sts.binom(n, p)\n",
    "# сгенерируем выборку объема 1000\n",
    "sample1 = binomial_rv1.rvs(1000)"
   ]
  },
  {
   "cell_type": "code",
   "execution_count": 3,
   "metadata": {
    "collapsed": true
   },
   "outputs": [],
   "source": [
    "#мат.ожидание\n",
    "EX1 = n*p\n",
    "# дисперсия\n",
    "DX1 = n*p*(1-p)\n",
    "# параметры нормального распределения Xn ~ N(EX, DX/n) ~ N(n*p, p*(1-p))"
   ]
  },
  {
   "cell_type": "code",
   "execution_count": 4,
   "metadata": {
    "collapsed": false
   },
   "outputs": [
    {
     "name": "stdout",
     "output_type": "stream",
     "text": [
      "3.5\n",
      "1.05\n"
     ]
    }
   ],
   "source": [
    "print EX1\n",
    "print DX1"
   ]
  },
  {
   "cell_type": "code",
   "execution_count": 16,
   "metadata": {
    "collapsed": true
   },
   "outputs": [],
   "source": [
    "# нормальное распределение\n",
    "mu = n*p\n",
    "sigma = math.sqrt(p*(1-p))\n",
    "norm_rv1 = sts.norm(mu, sigma)"
   ]
  },
  {
   "cell_type": "code",
   "execution_count": 17,
   "metadata": {
    "collapsed": false
   },
   "outputs": [
    {
     "data": {
      "text/plain": [
       "<matplotlib.text.Text at 0xb4c7ac8>"
      ]
     },
     "execution_count": 17,
     "metadata": {},
     "output_type": "execute_result"
    },
    {
     "data": {
      "image/png": "[encoded data removed]",
      "text/plain": [
       "<matplotlib.figure.Figure at 0xb618550>"
      ]
     },
     "metadata": {},
     "output_type": "display_data"
    }
   ],
   "source": [
    "# гистограмма выборки\n",
    "plt.hist(sample1, normed=True)\n",
    "\n",
    "# на том же графике построим теоретическую плотность распределения:\n",
    "x = np.linspace(0,8)\n",
    "pdf1 = norm_rv1.pdf(x)\n",
    "plt.plot(x, pdf1, 'o')\n",
    "plt.ylabel('$f(x)$')\n",
    "plt.xlabel('$x$')"
   ]
  },
  {
   "cell_type": "markdown",
   "metadata": {},
   "source": [
    "## ------------------------------------------"
   ]
  },
  {
   "cell_type": "code",
   "execution_count": 7,
   "metadata": {
    "collapsed": true
   },
   "outputs": [],
   "source": [
    "n2 = 10\n",
    "p2 = 0.7\n",
    "binomial_rv2 = sts.binom(n2, p2)\n",
    "# сгенерируем выборку объема 1000\n",
    "sample2 = binomial_rv2.rvs(1000)"
   ]
  },
  {
   "cell_type": "code",
   "execution_count": 8,
   "metadata": {
    "collapsed": true
   },
   "outputs": [],
   "source": [
    "#мат.ожидание\n",
    "EX2 = n2*p2\n",
    "# дисперсия\n",
    "DX2 = n2*p2*(1-p2)\n",
    "# параметры нормального распределения Xn ~ N(EX, DX/n) ~ N(n*p, p*(1-p))"
   ]
  },
  {
   "cell_type": "code",
   "execution_count": 9,
   "metadata": {
    "collapsed": true
   },
   "outputs": [],
   "source": [
    "# нормальное распределение\n",
    "mu2 = n2*p2\n",
    "sigma2 = math.sqrt(n2*p2*(1-p2))\n",
    "norm_rv2 = sts.norm(mu2, sigma2)"
   ]
  },
  {
   "cell_type": "code",
   "execution_count": 10,
   "metadata": {
    "collapsed": false
   },
   "outputs": [
    {
     "data": {
      "text/plain": [
       "<matplotlib.text.Text at 0x9b64be0>"
      ]
     },
     "execution_count": 10,
     "metadata": {},
     "output_type": "execute_result"
    },
    {
     "data": {
      "image/png": "[encoded data removed]",
      "text/plain": [
       "<matplotlib.figure.Figure at 0x9872390>"
      ]
     },
     "metadata": {},
     "output_type": "display_data"
    }
   ],
   "source": [
    "# гистограмма выборки\n",
    "plt.hist(sample2, normed=True)\n",
    "\n",
    "# на том же графике построим теоретическую плотность распределения:\n",
    "x2 = np.linspace(0,10)\n",
    "pdf2 = norm_rv2.pdf(x2)\n",
    "plt.plot(x2, pdf2, 'o')\n",
    "plt.ylabel('$f(x)$')\n",
    "plt.xlabel('$x$')"
   ]
  },
  {
   "cell_type": "markdown",
   "metadata": {},
   "source": [
    "## -------------------------------------------"
   ]
  },
  {
   "cell_type": "code",
   "execution_count": 11,
   "metadata": {
    "collapsed": true
   },
   "outputs": [],
   "source": [
    "n3 = 1000\n",
    "p3 = 0.7\n",
    "binomial_rv3 = sts.binom(n3, p3)\n",
    "# сгенерируем выборку объема 1000\n",
    "sample3 = binomial_rv3.rvs(1000)"
   ]
  },
  {
   "cell_type": "code",
   "execution_count": 12,
   "metadata": {
    "collapsed": true
   },
   "outputs": [],
   "source": [
    "#мат.ожидание\n",
    "EX3 = n3*p3\n",
    "# дисперсия\n",
    "DX3 = n3*p3*(1-p3)\n",
    "# параметры нормального распределения Xn ~ N(EX, DX/n) ~ N(n*p, p*(1-p))"
   ]
  },
  {
   "cell_type": "code",
   "execution_count": 13,
   "metadata": {
    "collapsed": true
   },
   "outputs": [],
   "source": [
    "# нормальное распределение\n",
    "mu3 = n3*p3\n",
    "sigma3 = math.sqrt(n3*p3*(1-p3))\n",
    "# функция нормального распределения принимает на вход не дисперсию, а стандартное отклонение\n",
    "norm_rv3 = sts.norm(mu3, sigma3)"
   ]
  },
  {
   "cell_type": "code",
   "execution_count": 14,
   "metadata": {
    "collapsed": false
   },
   "outputs": [
    {
     "data": {
      "text/plain": [
       "<matplotlib.text.Text at 0xb4eecc0>"
      ]
     },
     "execution_count": 14,
     "metadata": {},
     "output_type": "execute_result"
    },
    {
     "data": {
      "image/png": "[encoded data removed]",
      "text/plain": [
       "<matplotlib.figure.Figure at 0x9b64630>"
      ]
     },
     "metadata": {},
     "output_type": "display_data"
    }
   ],
   "source": [
    "# гистограмма выборки\n",
    "plt.hist(sample3, normed=True)\n",
    "\n",
    "# на том же графике построим теоретическую плотность распределения:\n",
    "x3 = np.linspace(600,800)\n",
    "pdf3 = norm_rv3.pdf(x3)\n",
    "plt.plot(x3, pdf3, 'o')\n",
    "plt.ylabel('$f(x)$')\n",
    "plt.xlabel('$x$')"
   ]
  },
  {
   "cell_type": "markdown",
   "metadata": {},
   "source": [
    "Вывод: с увеличением объема выборки, точность увеличивается, гистограмма и график плотности распределения практически совпадают; график распределения приближается к графику нормального распределения, следовательно, Центральная предельная теорема верна."
   ]
  }
 ],
 "metadata": {
  "kernelspec": {
   "display_name": "Python 2",
   "language": "python",
   "name": "python2"
  },
  "language_info": {
   "codemirror_mode": {
    "name": "ipython",
    "version": 2
   },
   "file_extension": ".py",
   "mimetype": "text/x-python",
   "name": "python",
   "nbconvert_exporter": "python",
   "pygments_lexer": "ipython2",
   "version": "2.7.12"
  }
 },
 "nbformat": 4,
 "nbformat_minor": 0
}

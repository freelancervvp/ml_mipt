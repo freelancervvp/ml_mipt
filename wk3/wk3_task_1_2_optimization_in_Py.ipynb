{
 "cells": [
  {
   "cell_type": "code",
   "execution_count": 72,
   "metadata": {
    "collapsed": true
   },
   "outputs": [],
   "source": [
    "import numpy as np\n",
    "import scipy.linalg as linalg\n",
    "import math\n",
    "import matplotlib.pyplot as plt\n",
    "%matplotlib inline"
   ]
  },
  {
   "cell_type": "code",
   "execution_count": 88,
   "metadata": {
    "collapsed": true
   },
   "outputs": [],
   "source": [
    "def func(x):\n",
    "    return np.sin(x / 5.) * np.exp(x / 10.) + 5. * np.exp(-x / 2.)"
   ]
  },
  {
   "cell_type": "code",
   "execution_count": 146,
   "metadata": {
    "collapsed": false
   },
   "outputs": [
    {
     "name": "stdout",
     "output_type": "stream",
     "text": [
      "-5.6122087764738\n",
      "-5.61220877647\n"
     ]
    }
   ],
   "source": [
    "x = 30\n",
    "print(math.sin(x / 5.) * math.exp(x / 10.) + 5 * math.exp(-x / 2.))\n",
    "print(func(x))"
   ]
  },
  {
   "cell_type": "code",
   "execution_count": 105,
   "metadata": {
    "collapsed": false
   },
   "outputs": [
    {
     "data": {
      "image/png": "[encoded data removed]",
      "text/plain": [
       "<matplotlib.figure.Figure at 0x764dbd6828>"
      ]
     },
     "metadata": {},
     "output_type": "display_data"
    }
   ],
   "source": [
    "t = np.arange(1., 30., 0.1)\n",
    "\n",
    "plt.plot(t, func(t), 'r--')\n",
    "plt.show()"
   ]
  },
  {
   "cell_type": "markdown",
   "metadata": {},
   "source": [
    "# TASK 1"
   ]
  },
  {
   "cell_type": "code",
   "execution_count": 127,
   "metadata": {
    "collapsed": false
   },
   "outputs": [
    {
     "name": "stdout",
     "output_type": "stream",
     "text": [
      "4.14\n",
      "1.75 1.75\n"
     ]
    }
   ],
   "source": [
    "from scipy.optimize import minimize\n",
    "\n",
    "x0 = [2]\n",
    "#print(type(x0))\n",
    "res = minimize(func, x0)\n",
    "print(round(float(res.x), 2))\n",
    "print(round(float(res.fun), 2), round(float(func(res.x)), 2))"
   ]
  },
  {
   "cell_type": "code",
   "execution_count": 143,
   "metadata": {
    "collapsed": false
   },
   "outputs": [
    {
     "name": "stdout",
     "output_type": "stream",
     "text": [
      "4.14\n",
      "1.75\n"
     ]
    }
   ],
   "source": [
    "x0 = [2]\n",
    "res = minimize(func, x0, method='BFGS')\n",
    "print(round(float(res.x), 2))\n",
    "res1 = round(float(res.fun), 2)\n",
    "print(res1)"
   ]
  },
  {
   "cell_type": "code",
   "execution_count": 136,
   "metadata": {
    "collapsed": false
   },
   "outputs": [],
   "source": [
    "#with open('wk3_task1.txt', 'w') as file_obj:\n",
    "#    file_obj.write(str(res1))"
   ]
  },
  {
   "cell_type": "code",
   "execution_count": 144,
   "metadata": {
    "collapsed": false
   },
   "outputs": [
    {
     "name": "stdout",
     "output_type": "stream",
     "text": [
      "25.88\n",
      "-11.9\n",
      "Iterations:  5 Func evaluations:  18\n"
     ]
    }
   ],
   "source": [
    "x0 = [30]\n",
    "res = minimize(func, x0, method='BFGS')\n",
    "print(round(float(res.x), 2))\n",
    "res2 = round(float(res.fun), 2)\n",
    "print(res2)\n",
    "print('Iterations: ', res.nit, 'Func evaluations: ', res.nfev)"
   ]
  },
  {
   "cell_type": "code",
   "execution_count": 145,
   "metadata": {
    "collapsed": true
   },
   "outputs": [],
   "source": [
    "with open('wk3_task1.txt', 'w') as file_obj:\n",
    "    file_obj.write(str(res1) + ' ' + str(res2))"
   ]
  },
  {
   "cell_type": "markdown",
   "metadata": {},
   "source": [
    "# TASK 2"
   ]
  },
  {
   "cell_type": "code",
   "execution_count": 131,
   "metadata": {
    "collapsed": false
   },
   "outputs": [
    {
     "name": "stdout",
     "output_type": "stream",
     "text": [
      "25.88\n",
      "-11.9\n",
      "Iterations:  5 Func evaluations:  96\n"
     ]
    }
   ],
   "source": [
    "from scipy.optimize import differential_evolution\n",
    "\n",
    "bounds = [(1, 30)]\n",
    "res = differential_evolution(func, bounds)\n",
    "print(round(float(res.x), 2))\n",
    "res3 = round(float(res.fun), 2)\n",
    "print(res3)\n",
    "print('Iterations: ', res.nit, 'Func evaluations: ', res.nfev)"
   ]
  },
  {
   "cell_type": "code",
   "execution_count": 132,
   "metadata": {
    "collapsed": true
   },
   "outputs": [],
   "source": [
    "with open('wk3_task2.txt', 'w') as file_obj:\n",
    "    file_obj.write(str(res3))"
   ]
  },
  {
   "cell_type": "code",
   "execution_count": null,
   "metadata": {
    "collapsed": true
   },
   "outputs": [],
   "source": [
    "#nfev, njev, nhev \t(int) Number of evaluations of the objective functions and of its Jacobian and Hessian.\n",
    "#nit \t(int) Number of iterations performed by the optimizer."
   ]
  },
  {
   "cell_type": "markdown",
   "metadata": {},
   "source": [
    "# TASK 3"
   ]
  },
  {
   "cell_type": "code",
   "execution_count": 160,
   "metadata": {
    "collapsed": true
   },
   "outputs": [],
   "source": [
    "def hunc(x):\n",
    "    return func(x).astype(int) # ой как некрасиво\n",
    "    #return np.round(func(x))"
   ]
  },
  {
   "cell_type": "code",
   "execution_count": 166,
   "metadata": {
    "collapsed": false
   },
   "outputs": [
    {
     "name": "stdout",
     "output_type": "stream",
     "text": [
      "1.87783841659\n",
      "1\n",
      "1\n",
      "1\n",
      "-5\n",
      "-6.0\n"
     ]
    }
   ],
   "source": [
    "x = 3\n",
    "print(func(x))\n",
    "print(int(func(x)))\n",
    "print(int(math.sin(x / 5.) * math.exp(x / 10.) + 5 * math.exp(-x / 2.)))\n",
    "print(hunc(x))\n",
    "print(int(-5.5))\n",
    "print(np.rint(-5.5))"
   ]
  },
  {
   "cell_type": "code",
   "execution_count": 167,
   "metadata": {
    "collapsed": false
   },
   "outputs": [
    {
     "data": {
      "image/png": "[encoded data removed]",
      "text/plain": [
       "<matplotlib.figure.Figure at 0x764dcf29b0>"
      ]
     },
     "metadata": {},
     "output_type": "display_data"
    }
   ],
   "source": [
    "t = np.arange(1., 30., 0.1)\n",
    "\n",
    "plt.plot(t, func(t), 'r--', t, hunc(t), 'b--')\n",
    "plt.show()"
   ]
  },
  {
   "cell_type": "code",
   "execution_count": 168,
   "metadata": {
    "collapsed": false
   },
   "outputs": [
    {
     "name": "stdout",
     "output_type": "stream",
     "text": [
      "30.0\n",
      "-5.0\n",
      "Iterations:  0 Func evaluations:  3\n"
     ]
    }
   ],
   "source": [
    "x0 = [30]\n",
    "res = minimize(hunc, x0, method='BFGS')\n",
    "print(round(float(res.x), 2))\n",
    "res1 = round(float(res.fun), 2)\n",
    "print(res1)\n",
    "print('Iterations: ', res.nit, 'Func evaluations: ', res.nfev)"
   ]
  },
  {
   "cell_type": "code",
   "execution_count": 169,
   "metadata": {
    "collapsed": true
   },
   "outputs": [],
   "source": [
    "#with open('wk3_task3.txt', 'w') as file_obj:\n",
    "#    file_obj.write(str(res1) + '\\n')"
   ]
  },
  {
   "cell_type": "code",
   "execution_count": 170,
   "metadata": {
    "collapsed": false
   },
   "outputs": [
    {
     "name": "stdout",
     "output_type": "stream",
     "text": [
      "25.82\n",
      "-11.0\n",
      "Iterations:  5 Func evaluations:  92\n"
     ]
    }
   ],
   "source": [
    "bounds = [(1, 30)]\n",
    "res = differential_evolution(hunc, bounds)\n",
    "print(round(float(res.x), 2))\n",
    "res2 = round(float(res.fun), 2)\n",
    "print(res2)\n",
    "print('Iterations: ', res.nit, 'Func evaluations: ', res.nfev)"
   ]
  },
  {
   "cell_type": "code",
   "execution_count": 171,
   "metadata": {
    "collapsed": false
   },
   "outputs": [],
   "source": [
    "with open('wk3_task3.txt', 'w') as file_obj:\n",
    "    file_obj.write(str(res1) + ' ' + str(res2))"
   ]
  },
  {
   "cell_type": "code",
   "execution_count": null,
   "metadata": {
    "collapsed": false
   },
   "outputs": [],
   "source": []
  },
  {
   "cell_type": "code",
   "execution_count": null,
   "metadata": {
    "collapsed": true
   },
   "outputs": [],
   "source": []
  }
 ],
 "metadata": {
  "anaconda-cloud": {},
  "kernelspec": {
   "display_name": "Python [Root]",
   "language": "python",
   "name": "Python [Root]"
  },
  "language_info": {
   "codemirror_mode": {
    "name": "ipython",
    "version": 3
   },
   "file_extension": ".py",
   "mimetype": "text/x-python",
   "name": "python",
   "nbconvert_exporter": "python",
   "pygments_lexer": "ipython3",
   "version": "3.5.2"
  }
 },
 "nbformat": 4,
 "nbformat_minor": 0
}

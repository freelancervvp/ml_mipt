{
 "cells": [
  {
   "cell_type": "markdown",
   "metadata": {},
   "source": [
    "# Метод главных компонент\n",
    "\n",
    "В данном задании вам будет предложено ознакомиться с подходом, который переоткрывался в самых разных областях, имеет множество разных интерпретаций, а также несколько интересных обобщений: методом главных компонент (principal component analysis)."
   ]
  },
  {
   "cell_type": "markdown",
   "metadata": {},
   "source": [
    "## Programming assignment\n",
    "\n",
    "Задание разбито на две части: \n",
    "- работа с модельными данными,\n",
    "- работа с реальными данными.\n",
    "\n",
    "В конце каждого пункта от вас требуется получить ответ и загрузить в соответствующую форму в виде набора текстовых файлов."
   ]
  },
  {
   "cell_type": "code",
   "execution_count": 1,
   "metadata": {
    "collapsed": false
   },
   "outputs": [],
   "source": [
    "import numpy as np\n",
    "import pandas as pd\n",
    "import matplotlib\n",
    "from matplotlib import pyplot as plt\n",
    "import matplotlib.patches as mpatches\n",
    "matplotlib.style.use('ggplot')\n",
    "%matplotlib inline"
   ]
  },
  {
   "cell_type": "markdown",
   "metadata": {},
   "source": [
    "## Теория\n",
    "\n",
    "Любой набор данных представляет собой матрицу $X$.\n",
    "\n",
    "Метод главных компонент последовательно находит следующие линейные комбинации признаков (компоненты) из $X$:\n",
    "- каждая компонента ортогональна всем остальным и нормированна: $<w_i, w_j> = 0, \\quad ||w_i||=1$,\n",
    "- каждая компонента описывает максимально возможную дисперсию данных (с учётом предыдущего ограничения).\n",
    "\n",
    "Предположения, в рамках которых данный подход будет работать хорошо:\n",
    "- линейность компонент: мы предполагаем, что данные можно анализировать линейными методами,\n",
    "- большие дисперсии важны: предполагается, что наиболее важны те направления в данных, вдоль которых они имеют наибольшую дисперсию,\n",
    "- все компоненты ортогональны: это предположение позволяет проводить анализ главных компонент при помощи техник линейной алгебры (например, сингулярное разложение матрицы $X$ или спектральное разложение матрицы $X^TX$).\n",
    "\n",
    "Как это выглядит математически?\n",
    "\n",
    "Обозначим следующим образом выборочную матрицу ковариации данных: $\\hat{C} \\propto Q = X^TX$. ($Q$ отличается от $\\hat{C}$ нормировкой на число объектов).\n",
    "\n",
    "Сингулярное разложение матрицы $Q$ выглядит следующим образом:\n",
    "\n",
    "$$Q = X^TX = W \\Lambda W^T$$\n",
    "\n",
    "Можно строго показать, что столбцы матрицы $W$ являются главными компонентами матрицы $X$, т.е. комбинациями признаков, удовлетворяющих двум условиям, указанным в начале. При этом дисперсия данных вдоль направления, заданного каждой компонентой, равна соответствующему значению диагональной матрицы $\\Lambda$.\n",
    "\n",
    "Как же на основании этого преобразования производить уменьшение размерности? Мы можем отранжировать компоненты, используя значения дисперсий данных вдоль них.\n",
    "\n",
    "Сделаем это: $\\lambda_{(1)} > \\lambda_{(2)} > \\dots > \\lambda_{(D)}$.\n",
    "\n",
    "Тогда, если мы выберем компоненты, соответствующие первым $d$ дисперсиям из этого списка, мы получим набор из $d$ новых признаков, которые наилучшим образом описывают дисперсию изначального набора данных среди всех других возможных линейных комбинаций исходных признаков матрицы $X$. \n",
    "- Если $d=D$, то мы вообще не теряем никакой информации.\n",
    "- Если $d<D$, то мы теряем информацию, которая, при справедливости указанных выше предположений, будет пропорциональна сумме дисперсий отброшенных компонент.\n",
    "\n",
    "Получается, что метод главных компонент позволяет нам ранжировать полученные компоненты по \"значимости\", а также запустить процесс их отбора."
   ]
  },
  {
   "cell_type": "markdown",
   "metadata": {},
   "source": [
    "## Пример\n",
    "\n",
    "Рассмотрим набор данных, который сэмплирован из многомерного нормального распределения с матрицей ковариации $C = \\begin{pmatrix} 3 & 1 \\\\ 1 & 2 \\end{pmatrix}$."
   ]
  },
  {
   "cell_type": "code",
   "execution_count": 2,
   "metadata": {
    "collapsed": false
   },
   "outputs": [
    {
     "data": {
      "image/png": "[encoded data removed]",
      "text/plain": [
       "<matplotlib.figure.Figure at 0x8dc1908>"
      ]
     },
     "metadata": {},
     "output_type": "display_data"
    }
   ],
   "source": [
    "from sklearn.decomposition import PCA\n",
    "\n",
    "mu = np.zeros(2)\n",
    "C = np.array([[3,1],[1,2]])\n",
    "\n",
    "data = np.random.multivariate_normal(mu, C, size=50)\n",
    "plt.scatter(data[:,0], data[:,1])\n",
    "plt.show()"
   ]
  },
  {
   "cell_type": "markdown",
   "metadata": {},
   "source": [
    "Путём диагонализации истинной матрицы ковариаций $C$, мы можем найти преобразование исходного набора данных, компоненты которого наилучшим образом будут описывать дисперсию, с учётом их ортогональности друг другу:"
   ]
  },
  {
   "cell_type": "code",
   "execution_count": 3,
   "metadata": {
    "collapsed": false
   },
   "outputs": [
    {
     "data": {
      "image/png": "[encoded data removed]",
      "text/plain": [
       "<matplotlib.figure.Figure at 0xb6674a8>"
      ]
     },
     "metadata": {},
     "output_type": "display_data"
    }
   ],
   "source": [
    "v, W_true = np.linalg.eig(C)\n",
    "\n",
    "plt.scatter(data[:,0], data[:,1])\n",
    "# построим истинные компоненты, вдоль которых максимальна дисперсия данных\n",
    "plt.plot(data[:,0], (W_true[0,0]/W_true[0,1])*data[:,0], color=\"g\")\n",
    "plt.plot(data[:,0], (W_true[1,0]/W_true[1,1])*data[:,0], color=\"g\")\n",
    "g_patch = mpatches.Patch(color='g', label='True components')\n",
    "plt.legend(handles=[g_patch])\n",
    "plt.axis('equal')\n",
    "limits = [np.minimum(np.amin(data[:,0]), np.amin(data[:,1])),\n",
    "          np.maximum(np.amax(data[:,0]), np.amax(data[:,1]))]\n",
    "plt.xlim(limits[0],limits[1])\n",
    "plt.ylim(limits[0],limits[1])\n",
    "plt.draw()"
   ]
  },
  {
   "cell_type": "markdown",
   "metadata": {},
   "source": [
    "А теперь сравним эти направления с направлениями, которые выбирает метод главных компонент:"
   ]
  },
  {
   "cell_type": "code",
   "execution_count": 5,
   "metadata": {
    "collapsed": true
   },
   "outputs": [],
   "source": [
    "def plot_principal_components(data, model, scatter=True, legend=True):\n",
    "    W_pca = model.components_\n",
    "    if scatter:\n",
    "        plt.scatter(data[:,0], data[:,1])\n",
    "    plt.plot(data[:,0], -(W_pca[0,0]/W_pca[0,1])*data[:,0], color=\"c\")\n",
    "    plt.plot(data[:,0], -(W_pca[1,0]/W_pca[1,1])*data[:,0], color=\"c\")\n",
    "    if legend:\n",
    "        c_patch = mpatches.Patch(color='c', label='Principal components')\n",
    "        plt.legend(handles=[c_patch], loc='lower right')\n",
    "    # сделаем графики красивыми:\n",
    "    plt.axis('equal')\n",
    "    limits = [np.minimum(np.amin(data[:,0]), np.amin(data[:,1]))-0.5,\n",
    "              np.maximum(np.amax(data[:,0]), np.amax(data[:,1]))+0.5]\n",
    "    plt.xlim(limits[0],limits[1])\n",
    "    plt.ylim(limits[0],limits[1])\n",
    "    plt.draw()"
   ]
  },
  {
   "cell_type": "code",
   "execution_count": 6,
   "metadata": {
    "collapsed": false
   },
   "outputs": [
    {
     "data": {
      "image/png": "[encoded data removed]",
      "text/plain": [
       "<matplotlib.figure.Figure at 0x8dc1390>"
      ]
     },
     "metadata": {},
     "output_type": "display_data"
    }
   ],
   "source": [
    "model = PCA(n_components=2)\n",
    "model.fit(data)\n",
    "\n",
    "plt.scatter(data[:,0], data[:,1])\n",
    "# построим истинные компоненты, вдоль которых максимальна дисперсия данных\n",
    "plt.plot(data[:,0], (W_true[0,0]/W_true[0,1])*data[:,0], color=\"g\")\n",
    "plt.plot(data[:,0], (W_true[1,0]/W_true[1,1])*data[:,0], color=\"g\")\n",
    "# построим компоненты, полученные с использованием метода PCA:\n",
    "plot_principal_components(data, model, scatter=False, legend=False)\n",
    "c_patch = mpatches.Patch(color='c', label='Principal components')\n",
    "plt.legend(handles=[g_patch, c_patch])\n",
    "plt.draw()"
   ]
  },
  {
   "cell_type": "markdown",
   "metadata": {},
   "source": [
    "Видно, что уже при небольшом количестве данных они отличаются незначительно. Увеличим размер выборки:"
   ]
  },
  {
   "cell_type": "code",
   "execution_count": 7,
   "metadata": {
    "collapsed": false
   },
   "outputs": [
    {
     "data": {
      "image/png": "[encoded data removed]",
      "text/plain": [
       "<matplotlib.figure.Figure at 0xb726dd8>"
      ]
     },
     "metadata": {},
     "output_type": "display_data"
    }
   ],
   "source": [
    "data_large = np.random.multivariate_normal(mu, C, size=5000)\n",
    "\n",
    "model = PCA(n_components=2)\n",
    "model.fit(data_large)\n",
    "plt.scatter(data_large[:,0], data_large[:,1], alpha=0.1)\n",
    "# построим истинные компоненты, вдоль которых максимальна дисперсия данных\n",
    "plt.plot(data_large[:,0], (W_true[0,0]/W_true[0,1])*data_large[:,0], color=\"g\")\n",
    "plt.plot(data_large[:,0], (W_true[1,0]/W_true[1,1])*data_large[:,0], color=\"g\")\n",
    "# построим компоненты, полученные с использованием метода PCA:\n",
    "plot_principal_components(data_large, model, scatter=False, legend=False)\n",
    "c_patch = mpatches.Patch(color='c', label='Principal components')\n",
    "plt.legend(handles=[g_patch, c_patch])\n",
    "plt.draw()"
   ]
  },
  {
   "cell_type": "markdown",
   "metadata": {},
   "source": [
    "В этом случае главные компоненты значительно точнее приближают истинные направления данных, вдоль которых наблюдается наибольшая дисперсия."
   ]
  },
  {
   "cell_type": "markdown",
   "metadata": {},
   "source": [
    "## Статистический взгляд на модель\n",
    "\n",
    "Как формализовать предположения метода, указанные выше? При помощи вероятностной модели!\n",
    "\n",
    "Задача, стоящая за любым методом уменьшения размерности: получить из набора зашумлённых признаков $X$ истинные значения $Y$, которые на самом деле определяют набор данных (т.е. сведение датасета с большим количеством признаков к данным, имеющим т.н. \"эффективную размерность\").\n",
    "\n",
    "В случае метода главных компонент мы хотим найти направления, вдоль которых максимальна дисперсия, с учётом описанных выше предположений о структуре данных и компонент.\n",
    "\n",
    "Материал, описанный ниже в данной секции, не обязателен для ознакомления для выполнения следующего задания, т.к. требует некоторых знаний статистики.\n",
    "\n",
    "Для тех, кто собирается его пропустить: в конце раздела мы получим метрику качества, которая должна определять, насколько данные хорошо описываются построенной моделью при заданном числе компонент. Отбор признаков при этом сводится к тому, что мы выбираем то количество компонент, при котором используемая метрика (логарифм правдоподобия) является максимальной.\n",
    "\n",
    "С учётом предположений задача метода главных компонент выглядит следующим образом:\n",
    "\n",
    "$$ x = Wy + \\mu + \\epsilon$$\n",
    "\n",
    "где:\n",
    "- $x$ -- наблюдаемые данные\n",
    "- $W$ -- матрица главных компонент (каждый стобец -- одна компонента)\n",
    "- $y$ -- их проекция на главные компоненты\n",
    "- $\\mu$ -- среднее наблюдаемых данных\n",
    "- $\\epsilon \\sim \\mathcal{N}(0, \\sigma^2I)$ -- нормальный шум\n",
    "\n",
    "Исходя из распределения шума, выпишем распределение на $x$:\n",
    "\n",
    "$$p(x \\mid y) = \\mathcal{N}(Wx + \\mu, \\sigma^2I) $$\n",
    "\n",
    "Введём априорное распределение на $y$:\n",
    "\n",
    "$$p(y) = \\mathcal{N}(0, 1)$$\n",
    "\n",
    "Выведем из этого при помощи формулы Байеса маргинальное распределение на $p(x)$:\n",
    "\n",
    "$$p(x) = \\mathcal{N}(\\mu, \\sigma^2I + WW^T)$$\n",
    "\n",
    "Тогда правдоподобие набора данных при условии используемой модели выглядит следующим образом:\n",
    "\n",
    "$$\\mathcal{L} = \\sum_{i=1}^N \\log p(x_i) = -N/2 \\Big( d\\log(2\\pi) + \\log |C| + \\text{tr}(C^{-1}S) \\Big)$$\n",
    "\n",
    "где:\n",
    "- $C = \\sigma^2I + WW^T$ -- матрица ковариации в маргинальной модели\n",
    "- $S = \\frac{1}{N} \\sum_{i=1}^N (x_i - \\mu)(x_i - \\mu)^T$ -- выборочная ковариация\n",
    "\n",
    "Значение $\\mathcal{L}$ имеет смысл логарифма вероятности получения набора данных $X$ при условии, что он удовлетворяет предположениям модели метода главных компонент. Чем оно больше -- тем лучше модель описывает наблюдаемые данные."
   ]
  },
  {
   "cell_type": "markdown",
   "metadata": {},
   "source": [
    "## Задание 1. Автоматическое уменьшение размерности данных при помощи логарифма правдоподобия $\\mathcal{L}$\n",
    "\n",
    "Рассмотрим набор данных размерности $D$, чья реальная размерность значительно меньше наблюдаемой (назовём её $d$). От вас требуется:\n",
    "\n",
    "1. Для каждого значения $\\hat{d}$ в интервале [1,D] построить модель PCA с $\\hat{d}$ главными компонентами.\n",
    "2. Оценить средний логарифм правдоподобия данных для каждой модели на генеральной совокупности, используя метод кросс-валидации с 3 фолдами (итоговая оценка значения логарифма правдоподобия усредняется по всем фолдам).\n",
    "3. Найти модель, для которой он максимален, и внести в файл ответа число компонент в данной модели, т.е. значение $\\hat{d}_{opt}$.\n",
    "\n",
    "Для оценки логарифма правдоподобия модели для заданного числа главных компонент при помощи метода кросс-валидации используйте следующие функции:\n",
    "\n",
    "    model = PCA(n_components=n)\n",
    "    scores = cv_score(model, data)\n",
    "        \n",
    "Обратите внимание, что scores -- это вектор, длина которого равна числу фолдов. Для получения оценки на правдоподобие модели его значения требуется усреднить.\n",
    "\n",
    "Для визуализации оценок можете использовать следующую функцию:\n",
    "\n",
    "    plot_scores(d_scores)\n",
    "    \n",
    "которой на вход передаётся вектор полученных оценок логарифма правдоподобия данных для каждого $\\hat{d}$.\n",
    "\n",
    "Для интересующихся: данные для заданий 1 и 2 были сгенерированны в соответствии с предполагаемой PCA моделью. То есть: данные $Y$ с эффективной размерностью $d$, полученные из независимых равномерных распределений, линейно траснформированны случайной матрицей $W$ в пространство размерностью $D$, после чего ко всем признакам был добавлен независимый нормальный шум с дисперсией $\\sigma$."
   ]
  },
  {
   "cell_type": "code",
   "execution_count": 10,
   "metadata": {
    "collapsed": false
   },
   "outputs": [],
   "source": [
    "from sklearn.decomposition import PCA\n",
    "from sklearn.cross_validation import cross_val_score as cv_score\n",
    "\n",
    "def plot_scores(d_scores):\n",
    "    n_components = np.arange(1,d_scores.size+1)\n",
    "    plt.plot(n_components, d_scores, 'b', label='PCA scores')\n",
    "    plt.xlim(n_components[0], n_components[-1])\n",
    "    plt.xlabel('n components')\n",
    "    plt.ylabel('cv scores')\n",
    "    plt.legend(loc='lower right')\n",
    "    plt.show()\n",
    "    \n",
    "def write_answer_1(optimal_d):\n",
    "    with open(\"pca_answer1.txt\", \"w\") as fout:\n",
    "        fout.write(str(optimal_d))\n",
    "        \n",
    "data = pd.read_csv('data_task1.csv')\n",
    "\n",
    "# place your code here\n"
   ]
  },
  {
   "cell_type": "code",
   "execution_count": 26,
   "metadata": {
    "collapsed": false
   },
   "outputs": [
    {
     "name": "stdout",
     "output_type": "stream",
     "text": [
      "80\n",
      "          0         1         2         3         4         5         6  \\\n",
      "0 -0.238399 -1.311330 -0.782298 -0.341821  0.469353 -0.431860  0.602948   \n",
      "1 -0.223940 -1.277836 -0.202433 -0.317682  0.081900 -0.624267 -0.577119   \n",
      "2 -0.278740  1.342790 -0.734591  0.618881  1.365690 -1.397553 -1.446412   \n",
      "3  0.585189  0.344587  1.512917  0.272105  0.480314 -0.688009 -1.473050   \n",
      "4  0.992821 -0.654237  2.431634 -1.167275  0.347093  0.772373  0.766213   \n",
      "5 -2.051408 -0.448177  0.915687  1.754705 -0.362706 -1.154868  0.426559   \n",
      "\n",
      "          7         8         9    ...           70        71        72  \\\n",
      "0  1.220206  1.525103 -0.991354    ...    -0.559927 -0.532534 -0.465923   \n",
      "1 -0.489564  0.704099 -0.511071    ...    -0.055943 -2.208109  0.027813   \n",
      "2 -0.844917  0.845916 -1.574979    ...    -1.616313  2.144484 -1.110290   \n",
      "3 -0.732295  0.407361  0.900369    ...     1.107443 -0.948995  0.555096   \n",
      "4 -0.441367  0.632604  1.543905    ...     0.088682  1.357311  0.739249   \n",
      "5 -0.937740  0.073794  3.010739    ...     2.145549  0.057568  0.842781   \n",
      "\n",
      "         73        74        75        76        77        78        79  \n",
      "0  0.874697 -0.108972 -0.080328  0.448971  2.080754 -1.535373 -0.460125  \n",
      "1 -1.663044  0.018190 -0.432993  1.204321  0.705121 -1.106140  0.145533  \n",
      "2 -0.524140 -2.176645 -1.903969  1.715735  0.054220 -1.125896  1.309994  \n",
      "3  0.645465  1.291971  0.690657 -0.322088  0.341865 -1.436627  0.231027  \n",
      "4 -0.213874  0.521273 -0.885125 -1.262695  0.974920  1.139357 -0.104045  \n",
      "5 -1.333269  0.416446  0.964969 -0.306818  1.049819 -0.071293 -1.935360  \n",
      "\n",
      "[6 rows x 80 columns]\n"
     ]
    }
   ],
   "source": [
    "print data.ix[0].size\n",
    "print data[:6]"
   ]
  },
  {
   "cell_type": "code",
   "execution_count": 38,
   "metadata": {
    "collapsed": false
   },
   "outputs": [
    {
     "data": {
      "image/png": "[encoded data removed]",
      "text/plain": [
       "<matplotlib.figure.Figure at 0xc240cf8>"
      ]
     },
     "metadata": {},
     "output_type": "display_data"
    }
   ],
   "source": [
    "d_scores = np.zeros(data.ix[0].size)\n",
    "\n",
    "for n in range(1, data.ix[0].size + 1):\n",
    "    model = PCA(n_components=n)\n",
    "    model.fit(data)\n",
    "    scores = cv_score(model, data)\n",
    "    d_scores[n-1] = np.mean(scores)\n",
    "\n",
    "plot_scores(d_scores)"
   ]
  },
  {
   "cell_type": "code",
   "execution_count": 42,
   "metadata": {
    "collapsed": false
   },
   "outputs": [
    {
     "name": "stdout",
     "output_type": "stream",
     "text": [
      "20\n"
     ]
    }
   ],
   "source": [
    "optimal_d = np.argmax(d_scores) + 1\n",
    "print optimal_d\n",
    "write_answer_1(optimal_d)"
   ]
  },
  {
   "cell_type": "markdown",
   "metadata": {},
   "source": [
    "## Вариационный взгляд на модель\n",
    "\n",
    "Мы знаем, что каждой главной компоненте соответствует описываемая ей дисперсия данных (дисперсия данных при проекции на эту компоненту). Она численно равна значению диагональных элементов матрицы $\\Lambda$, получаемой из спектрального разложения матрицы ковариации данных (смотри теорию выше).\n",
    "\n",
    "Исходя из этого, мы можем отсортировать дисперсию данных вдоль этих компонент по убыванию, и уменьшить размерность данных, отбросив $q$ итоговых главных компонент, имеющих наименьшую дисперсию.\n",
    "\n",
    "Делать это можно двумя разными способами. Например, если вы вдальнейшем обучаете на данных с уменьшенной размерностью модель классификации или регрессии, то можно запустить итерационный процесс: удалять компоненты с наименьшей дисперсией по одной, пока качество итоговой модели не станет значительно хуже.\n",
    "\n",
    "Более общий способ отбора признаков заключается в том, что вы можете посмотреть на разности в дисперсиях в отсортированном ряде $\\lambda_{(1)} > \\lambda_{(2)} > \\dots > \\lambda_{(D)}$: $\\lambda_{(1)}-\\lambda_{(2)}, \\dots, \\lambda_{(D-1)} - \\lambda_{(D)}$, и удалить те компоненты, на которых разность будет наибольшей. Именно этим методом вам и предлагается воспользоваться для тестового набора данных."
   ]
  },
  {
   "cell_type": "markdown",
   "metadata": {},
   "source": [
    "## Задание 2. Ручное уменьшение размерности признаков посредством анализа дисперсии данных вдоль главных компонент\n",
    "\n",
    "Рассмотрим ещё один набор данных размерности $D$, чья реальная размерность значительно меньше наблюдаемой (назовём её также $d$). От вас требуется:\n",
    "\n",
    "1. Построить модель PCA с $D$ главными компонентами по этим данным.\n",
    "2. Спроецировать данные на главные компоненты.\n",
    "3. Оценить их дисперсию вдоль главных компонент.\n",
    "4. Отсортировать дисперсии в порядке убывания и получить их попарные разности: $\\lambda_{(i-1)} - \\lambda_{(i)}$.\n",
    "5. Найти разность с наибольшим значением и получить по ней оценку на эффективную размерность данных $\\hat{d}$.\n",
    "6. Построить график дисперсий и убедиться, что полученная оценка на $\\hat{d}_{opt}$ действительно имеет смысл, после этого внести полученное значение $\\hat{d}_{opt}$ в файл ответа.\n",
    "\n",
    "Для построения модели PCA используйте функцию:\n",
    "\n",
    "    model.fit(data)\n",
    "    \n",
    "Для трансформации данных используйте метод:\n",
    "\n",
    "    model.transform(data)\n",
    "    \n",
    "Оценку дисперсий на трансформированных данных от вас потребуется реализовать вручную. Для построения графиков можно воспользоваться функцией\n",
    "\n",
    "    plot_variances(d_variances)\n",
    "    \n",
    "которой следует передать на вход отсортированный по убыванию вектор дисперсий вдоль компонент."
   ]
  },
  {
   "cell_type": "code",
   "execution_count": 65,
   "metadata": {
    "collapsed": true
   },
   "outputs": [],
   "source": [
    "from sklearn.decomposition import PCA\n",
    "from sklearn.cross_validation import cross_val_score as cv_score\n",
    "\n",
    "def plot_variances(d_variances):\n",
    "    n_components = np.arange(1,d_variances.size+1)\n",
    "    plt.plot(n_components, d_variances, 'b', label='Component variances')\n",
    "    plt.xlim(n_components[0], n_components[-1])\n",
    "    plt.xlabel('n components')\n",
    "    plt.ylabel('variance')\n",
    "    plt.legend(loc='upper right')\n",
    "    plt.show()\n",
    "    \n",
    "def write_answer_2(optimal_d):\n",
    "    with open(\"pca_answer2.txt\", \"w\") as fout:\n",
    "        fout.write(str(optimal_d))\n",
    "        \n",
    "data = pd.read_csv('data_task2.csv')\n",
    "\n",
    "# place your code here"
   ]
  },
  {
   "cell_type": "code",
   "execution_count": 51,
   "metadata": {
    "collapsed": false
   },
   "outputs": [
    {
     "name": "stdout",
     "output_type": "stream",
     "text": [
      "(3000, 100)\n",
      "          0         1         2         3         4         5         6  \\\n",
      "0  0.848776 -0.666596 -0.724109 -0.584370 -0.460105  1.161415 -0.153160   \n",
      "1  0.560569 -0.493592 -0.149612 -0.262415  0.967470 -1.094108  0.815526   \n",
      "2 -1.484923 -0.622672  0.305978  0.040120 -2.851857  0.092543 -0.029286   \n",
      "3 -1.487085 -0.252582 -0.429568 -0.124176 -0.547003  0.942490 -0.783337   \n",
      "4  0.462349  0.751057  0.140967 -0.006099 -0.244748 -0.075261  0.924772   \n",
      "5 -0.578311  0.442156  0.200033 -1.627047 -0.582478  1.091936  1.173913   \n",
      "\n",
      "          7         8         9    ...           90        91        92  \\\n",
      "0 -2.253871  1.375337  0.561841    ...     1.328021  0.615259  1.447412   \n",
      "1  0.487121  1.537931 -2.168744    ...     0.523245 -0.979103  2.280059   \n",
      "2 -0.624243 -1.155940  0.658744    ...     0.916887  1.494340 -1.801660   \n",
      "3 -0.994770  2.140593 -0.978872    ...    -1.177229 -0.892356 -0.166295   \n",
      "4  0.417142 -0.985730 -1.375670    ...    -1.392519  0.502969  1.538669   \n",
      "5  0.624537  2.171133  1.627821    ...    -0.643135  0.298881 -0.835620   \n",
      "\n",
      "         93        94        95        96        97        98        99  \n",
      "0  1.177600 -0.643321  0.005454 -1.075457  0.636591  0.075188 -0.461723  \n",
      "1 -1.413170  1.146576 -1.179831  0.569553 -0.073751 -0.841962  0.474029  \n",
      "2  0.164034  0.467053 -0.872597  0.066600  1.388963 -1.446373 -0.002239  \n",
      "3 -1.507428  1.218209 -0.769020  1.439147  0.713580  0.765335 -0.452884  \n",
      "4  1.002944 -0.832352  0.990356 -1.733266 -0.201313 -0.834691 -1.118169  \n",
      "5  0.751372 -0.463203 -0.338722 -0.297098  1.140231  1.934360  1.397821  \n",
      "\n",
      "[6 rows x 100 columns]\n"
     ]
    }
   ],
   "source": [
    "print data.shape\n",
    "print data[:6]"
   ]
  },
  {
   "cell_type": "code",
   "execution_count": 63,
   "metadata": {
    "collapsed": false
   },
   "outputs": [
    {
     "name": "stdout",
     "output_type": "stream",
     "text": [
      "(80L,)\n",
      "[ 2.45219016  2.34643354  2.3275981   2.29139233  2.2598353   2.23599205\n",
      "  2.22980061  2.16077896  2.1234893   2.11651427  2.10080549  2.08592078\n",
      "  2.06883539  2.01807705  2.01502369  1.99686475  1.98932893  1.97201885\n",
      "  1.96080564  1.93507023  1.91063755  1.88025573  1.8725106   1.86037971\n",
      "  1.83687745  1.83041513  1.76636583  1.75932312  1.70843562  1.67386055\n",
      "  1.30169831  1.27370171  1.25946722  1.24788131  1.23694265  1.22614383\n",
      "  1.21563096  1.202975    1.19138346  1.17665658  1.17113592  1.15930714\n",
      "  1.14383287  1.13695952  1.12771577  1.12054233  1.1190401   1.10850396\n",
      "  1.10116834  1.0924444   1.08045379  1.0712418   1.06858888  1.05917817\n",
      "  1.05882369  1.03964578  1.03146802  1.02123126  1.01529859  1.00556259\n",
      "  1.00380692  0.99350793  0.98790046  0.98386303  0.97989345  0.96881449\n",
      "  0.96015348  0.95542389  0.94836408  0.94311211  0.94066112  0.93121512\n",
      "  0.92400082  0.92130205  0.91371832  0.91054578  0.90518982  0.89260491\n",
      "  0.88420927  0.88345969]\n"
     ]
    }
   ],
   "source": [
    "model = PCA(n_components=80)\n",
    "model.fit(data)\n",
    "data_new = model.transform(data)\n",
    "\n",
    "# print(data.shape)\n",
    "# print(data_new.shape)\n",
    "# print(data[:6])\n",
    "# print(data_new[:6])\n",
    "\n",
    "deviations = np.power(np.std(data_new, axis = 0), 2)\n",
    "print deviations.shape\n",
    "print deviations"
   ]
  },
  {
   "cell_type": "code",
   "execution_count": 67,
   "metadata": {
    "collapsed": false
   },
   "outputs": [
    {
     "data": {
      "image/png": "[encoded data removed]",
      "text/plain": [
       "<matplotlib.figure.Figure at 0xc240898>"
      ]
     },
     "metadata": {},
     "output_type": "display_data"
    }
   ],
   "source": [
    "d_variances = np.array(sorted(deviations, reverse=True))\n",
    "\n",
    "plot_variances(d_variances)"
   ]
  },
  {
   "cell_type": "code",
   "execution_count": 73,
   "metadata": {
    "collapsed": false
   },
   "outputs": [
    {
     "name": "stdout",
     "output_type": "stream",
     "text": [
      "[0.10575662439618538, 0.018835436936297079, 0.03620576926333241, 0.031557033600239315, 0.023843244233674454, 0.0061914434186585154, 0.069021649802367246, 0.037289661576823896, 0.0069750334227043354, 0.015708773263339193, 0.014884714311852676, 0.01708538540129112, 0.050758340738438434, 0.0030533581831280188, 0.018158942499521213, 0.0075358188152871985, 0.017310080774427083, 0.011213213688793466, 0.025735405303558556, 0.024432685645809027, 0.030381816585562049, 0.0077451316547230142, 0.012130891305269564, 0.02350225379566262, 0.0064623220452852959, 0.064049300872162096, 0.0070427121858642749, 0.050887496866516946, 0.03457507052498543, 0.37216224685837118, 0.027996594315220058, 0.014234489465320577, 0.011585911982348041, 0.010938658767235099, 0.010798818348733974, 0.010512873163623038, 0.012655962985824276, 0.011591540489979346, 0.014726874728999029, 0.0055206565356413773, 0.011828787810088226, 0.015474270515050126, 0.0068733461398886586, 0.0092437509402885087, 0.0071734370573532935, 0.0015022360567564785, 0.010536135203881081, 0.0073356228630161446, 0.0087239366065905433, 0.011990614487982221, 0.009211989565309775, 0.0026529187365953444, 0.0094107069375117813, 0.00035447869220384121, 0.019177916228473535, 0.0081777576166235377, 0.010236762529975074, 0.0059326636410490519, 0.009736006851878809, 0.0017556636112239232, 0.01029899187874761, 0.0056074733950609579, 0.004037424311907456, 0.0039695835652271416, 0.011078959897293794, 0.0086610118363362742, 0.0047295921114940409, 0.0070598095643332748, 0.0052519652803479921, 0.0024509948189693764, 0.009445998569605929, 0.0072142992540222828, 0.0026987668357461025, 0.0075837348016557504, 0.00317253205745327, 0.005355961274104426, 0.012584916216371145, 0.0083956373849755073, 0.00074958243649070333]\n",
      "30\n"
     ]
    }
   ],
   "source": [
    "d_var_diff = [d_variances[i-1]-d_variances[i] for i in range(1,80)]\n",
    "\n",
    "print d_var_diff\n",
    "\n",
    "optimal_d = np.argmax(d_var_diff) + 1\n",
    "\n",
    "print optimal_d\n",
    "\n",
    "write_answer_2(optimal_d)"
   ]
  },
  {
   "cell_type": "markdown",
   "metadata": {},
   "source": [
    "## Интерпретация главных компонент\n",
    "\n",
    "В качестве главных компонент мы получаем линейные комбинации исходных призанков, поэтому резонно возникает вопрос об их интерпретации.\n",
    "\n",
    "Для этого существует несколько подходов, мы рассмотрим два:\n",
    "- рассчитать взаимосвязи главных компонент с исходными признаками\n",
    "- рассчитать вклады каждого конкретного наблюдения в главные компоненты\n",
    "\n",
    "Первый способ подходит в том случае, когда все объекты из набора данных не несут для нас никакой семантической информации, которая уже не запечатлена в наборе признаков.\n",
    "\n",
    "Второй способ подходит для случая, когда данные имеют более сложную структуру. Например, лица для человека несут больший семантический смысл, чем вектор значений пикселей, которые анализирует PCA.\n",
    "\n",
    "Рассмотрим подробнее способ 1: он заключается в подсчёте коэффициентов корреляций между исходными признаками и набором главных компонент.\n",
    "\n",
    "Так как метод главных компонент является линейным, то предлагается для анализа использовать корреляцию Пирсона, выборочный аналог которой имеет следующую формулу:\n",
    "\n",
    "$$r_{jk} = \\frac{\\sum_{i=1}^N (x_{ij} - \\bar{x}_j) (y_{ik} - \\bar{y}_k)}{\\sqrt{\\sum_{i=1}^N (x_{ij} - \\bar{x}_j)^2 \\sum_{i=1}^N (y_{ik} - \\bar{y}_k)^2}} $$\n",
    "\n",
    "где:\n",
    "- $\\bar{x}_j$ -- среднее значение j-го признака,\n",
    "- $\\bar{y}_k$ -- среднее значение проекции на k-ю главную компоненту.\n",
    "\n",
    "Корреляция Пирсона является мерой линейной зависимости. Она равна 0 в случае, когда величины независимы, и $\\pm 1$, если они линейно зависимы. Исходя из степени корреляции новой компоненты с исходными признаками, можно строить её семантическую интерпретацию, т.к. смысл исходных признаков мы знаем."
   ]
  },
  {
   "cell_type": "markdown",
   "metadata": {},
   "source": [
    "## Задание 3. Анализ главных компонент при помощи корреляций с исходными признаками.\n",
    "\n",
    "1. Обучите метод главных компонент на датасете iris, получите преобразованные данные.\n",
    "2. Посчитайте корреляции исходных признаков с их проекциями на первые две главные компоненты.\n",
    "3. Для каждого признака найдите компоненту (из двух построенных), с которой он коррелирует больше всего.\n",
    "4. На основании п.3 сгруппируйте признаки по компонентам. Составьте два списка: список номеров признаков, которые сильнее коррелируют с первой компонентой, и такой же список для второй. Нумерацию начинать с единицы. Передайте оба списка функции write_answer_3.\n",
    "\n",
    "Набор данных состоит из 4 признаков, посчитанных для 150 ирисов. Каждый из них принадлежит одному из трёх видов. Визуализацию проекции данного датасета на две компоненты, которые описывают наибольшую дисперсию данных, можно получить при помощи функции\n",
    "\n",
    "    plot_iris(transformed_data, target, target_names)\n",
    "    \n",
    "на вход которой требуется передать данные, преобразованные при помощи PCA, а также информацию о классах. Цвет точек отвечает одному из трёх видов ириса.\n",
    "\n",
    "Для того чтобы получить имена исходных признаков, используйте следующий список:\n",
    "\n",
    "    iris.feature_names\n",
    "    \n",
    "При подсчёте корреляций не забудьте центрировать признаки и проекции на главные компоненты (вычитать из них среднее)."
   ]
  },
  {
   "cell_type": "code",
   "execution_count": 79,
   "metadata": {
    "collapsed": false
   },
   "outputs": [],
   "source": [
    "from sklearn import datasets\n",
    "\n",
    "def plot_iris(transformed_data, target, target_names):\n",
    "    plt.figure()\n",
    "    for c, i, target_name in zip(\"rgb\", [0, 1, 2], target_names):\n",
    "        plt.scatter(transformed_data[target == i, 0],\n",
    "                    transformed_data[target == i, 1], c=c, label=target_name)\n",
    "    plt.legend()\n",
    "    plt.show()\n",
    "    \n",
    "def write_answer_3(list_pc1, list_pc2):\n",
    "    with open(\"pca_answer3.txt\", \"w\") as fout:\n",
    "        fout.write(\" \".join([str(num) for num in list_pc1]))\n",
    "        fout.write(\" \")\n",
    "        fout.write(\" \".join([str(num) for num in list_pc2]))\n",
    "\n",
    "# загрузим датасет iris\n",
    "iris = datasets.load_iris()\n",
    "data = iris.data\n",
    "target = iris.target\n",
    "target_names = iris.target_names\n",
    "\n",
    "# place your code here"
   ]
  },
  {
   "cell_type": "code",
   "execution_count": 81,
   "metadata": {
    "collapsed": false
   },
   "outputs": [
    {
     "name": "stdout",
     "output_type": "stream",
     "text": [
      "(150L, 4L)\n",
      "[[ 5.1  3.5  1.4  0.2]\n",
      " [ 4.9  3.   1.4  0.2]\n",
      " [ 4.7  3.2  1.3  0.2]\n",
      " [ 4.6  3.1  1.5  0.2]\n",
      " [ 5.   3.6  1.4  0.2]\n",
      " [ 5.4  3.9  1.7  0.4]]\n"
     ]
    }
   ],
   "source": [
    "print data.shape\n",
    "print data[:6]"
   ]
  },
  {
   "cell_type": "code",
   "execution_count": 88,
   "metadata": {
    "collapsed": false
   },
   "outputs": [],
   "source": [
    "from scipy.stats import pearsonr\n",
    "from sklearn import preprocessing"
   ]
  },
  {
   "cell_type": "code",
   "execution_count": 87,
   "metadata": {
    "collapsed": false
   },
   "outputs": [
    {
     "name": "stdout",
     "output_type": "stream",
     "text": [
      "(150L, 4L)\n",
      "[[ -2.68420713e+00  -3.26607315e-01   2.15118370e-02   1.00615724e-03]\n",
      " [ -2.71539062e+00   1.69556848e-01   2.03521425e-01   9.96024240e-02]\n",
      " [ -2.88981954e+00   1.37345610e-01  -2.47092410e-02   1.93045428e-02]\n",
      " [ -2.74643720e+00   3.11124316e-01  -3.76719753e-02  -7.59552741e-02]\n",
      " [ -2.72859298e+00  -3.33924564e-01  -9.62296998e-02  -6.31287327e-02]\n",
      " [ -2.27989736e+00  -7.47782713e-01  -1.74325619e-01  -2.71468037e-02]\n",
      " [ -2.82089068e+00   8.21045110e-02  -2.64251085e-01  -5.00996251e-02]\n",
      " [ -2.62648199e+00  -1.70405349e-01   1.58015103e-02  -4.62817610e-02]\n",
      " [ -2.88795857e+00   5.70798026e-01  -2.73354061e-02  -2.66154143e-02]\n",
      " [ -2.67384469e+00   1.06691704e-01   1.91533300e-01  -5.58909660e-02]\n",
      " [ -2.50652679e+00  -6.51935014e-01   6.92749958e-02  -1.66082478e-02]\n",
      " [ -2.61314272e+00  -2.15206320e-02  -1.07650353e-01  -1.57704569e-01]\n",
      " [ -2.78743398e+00   2.27740189e-01   2.00327788e-01  -7.23508674e-03]\n",
      " [ -3.22520045e+00   5.03279909e-01  -6.84136292e-02  -2.19466641e-02]\n",
      " [ -2.64354322e+00  -1.18619490e+00   1.44505704e-01   1.56980962e-01]\n",
      " [ -2.38386932e+00  -1.34475434e+00  -2.83730664e-01   1.92618171e-03]\n",
      " [ -2.62252620e+00  -8.18089675e-01  -1.45315989e-01   1.64740791e-01]\n",
      " [ -2.64832273e+00  -3.19136668e-01  -3.33942541e-02   7.61182133e-02]\n",
      " [ -2.19907796e+00  -8.79244088e-01   1.14521465e-01   2.53269397e-02]\n",
      " [ -2.58734619e+00  -5.20473639e-01  -2.19572088e-01  -6.90819912e-02]\n",
      " [ -2.31053170e+00  -3.97867822e-01   2.33695607e-01  -1.53237396e-02]\n",
      " [ -2.54323491e+00  -4.40031755e-01  -2.14836370e-01   3.84395001e-02]\n",
      " [ -3.21585769e+00  -1.41615572e-01  -2.99618982e-01   1.85704335e-03]\n",
      " [ -2.30312854e+00  -1.05522678e-01  -4.56800413e-02   1.47245500e-01]\n",
      " [ -2.35617109e+00   3.12095891e-02  -1.29407576e-01  -3.01620265e-01]\n",
      " [ -2.50791723e+00   1.39056340e-01   2.47116338e-01   3.53840813e-02]\n",
      " [ -2.46905600e+00  -1.37887315e-01  -1.01263079e-01   5.59704524e-02]\n",
      " [ -2.56239095e+00  -3.74684563e-01   7.23591574e-02  -1.52402868e-02]\n",
      " [ -2.63982127e+00  -3.19290066e-01   1.39253374e-01   6.51410472e-02]\n",
      " [ -2.63284791e+00   1.90075831e-01  -4.64664636e-02  -1.24611153e-01]\n",
      " [ -2.58846205e+00   1.97393079e-01   7.12750731e-02  -6.04762634e-02]\n",
      " [ -2.41007734e+00  -4.18080008e-01   1.38388240e-01   2.30844170e-01]\n",
      " [ -2.64763667e+00  -8.19982633e-01  -2.30585604e-01  -2.84808954e-01]\n",
      " [ -2.59715948e+00  -1.10002193e+00  -1.63581913e-01  -9.89580706e-02]\n",
      " [ -2.67384469e+00   1.06691704e-01   1.91533300e-01  -5.58909660e-02]\n",
      " [ -2.86699985e+00  -7.71930957e-02   1.56842350e-01   1.62452806e-01]\n",
      " [ -2.62522846e+00  -6.06800008e-01   2.61163156e-01   1.75879875e-01]\n",
      " [ -2.67384469e+00   1.06691704e-01   1.91533300e-01  -5.58909660e-02]\n",
      " [ -2.98184266e+00   4.80250049e-01  -7.97248074e-02  -1.10529508e-02]\n",
      " [ -2.59032303e+00  -2.36059337e-01   7.39012382e-02  -1.45563062e-02]\n",
      " [ -2.77013891e+00  -2.71059420e-01  -8.42415745e-02   9.23646573e-02]\n",
      " [ -2.85221108e+00   9.32865367e-01   3.40961491e-01   3.22650607e-01]\n",
      " [ -2.99829644e+00   3.34307575e-01  -1.99008425e-01  -7.58718213e-02]\n",
      " [ -2.40551410e+00  -1.95917258e-01  -2.70717070e-01   1.73785129e-01]\n",
      " [ -2.20883295e+00  -4.42696030e-01  -3.03487809e-01  -1.85857530e-01]\n",
      " [ -2.71566519e+00   2.42681483e-01   9.05156060e-02   1.42989025e-01]\n",
      " [ -2.53757337e+00  -5.10367545e-01  -1.71918404e-01  -1.92165946e-01]\n",
      " [ -2.84032130e+00   2.20576338e-01  -9.00613765e-02  -6.03928106e-02]\n",
      " [ -2.54268576e+00  -5.86281025e-01   1.11752678e-02  -4.83337025e-02]\n",
      " [ -2.70391231e+00  -1.15010852e-01   8.26957266e-02   3.40995730e-02]\n",
      " [  1.28479459e+00  -6.85439186e-01   4.06129553e-01   1.92901169e-02]\n",
      " [  9.32410753e-01  -3.19198090e-01   1.71299092e-02  -6.75794171e-06]\n",
      " [  1.46406132e+00  -5.04189833e-01   3.38260728e-01  -8.57644048e-04]\n",
      " [  1.80967206e-01   8.25603944e-01   1.77082856e-01   9.57844484e-02]\n",
      " [  1.08713449e+00  -7.53903893e-02   3.06544465e-01   1.13384539e-01]\n",
      " [  6.40436750e-01   4.17323483e-01  -4.11887694e-02  -2.42671312e-01]\n",
      " [  1.09522371e+00  -2.83891211e-01  -1.70022534e-01  -8.49733893e-02]\n",
      " [ -7.51467141e-01   1.00110751e+00  -1.56721942e-02  -1.65105922e-02]\n",
      " [  1.04329778e+00  -2.28956909e-01   4.14814566e-01  -3.75235536e-02]\n",
      " [ -1.01900707e-02   7.20574867e-01  -2.83437246e-01  -5.94570198e-03]\n",
      " [ -5.11086196e-01   1.26249195e+00   2.66489954e-01   4.89088061e-02]\n",
      " [  5.11098061e-01   1.02284105e-01  -1.32327890e-01   5.01005352e-02]\n",
      " [  2.62335756e-01   5.47893298e-01   6.91941578e-01   6.14849891e-02]\n",
      " [  9.84044545e-01   1.24360420e-01   6.21574276e-02  -1.69010670e-01]\n",
      " [ -1.74864002e-01   2.51815571e-01  -9.36586382e-02   1.24940887e-01]\n",
      " [  9.27572942e-01  -4.68236205e-01   3.13229401e-01   1.00438884e-01]\n",
      " [  6.59592789e-01   3.51976291e-01  -3.28384297e-01  -1.88991525e-01]\n",
      " [  2.34540586e-01   3.31921829e-01   2.70280671e-01  -2.11984995e-01]\n",
      " [  9.42361707e-01   5.41822258e-01   4.97348541e-01   2.60636685e-01]\n",
      " [  4.32464003e-02   5.81489447e-01   2.32963556e-01  -3.95611807e-02]\n",
      " [  1.11624072e+00   8.42140139e-02  -4.59844227e-01  -7.72135596e-02]\n",
      " [  3.56786568e-01   6.68238279e-02   2.27472180e-01   1.24090000e-01]\n",
      " [  1.29646885e+00   3.27561520e-01   3.47513213e-01   3.24623910e-03]\n",
      " [  9.20502649e-01   1.82390363e-01   2.31611419e-01  -2.86825347e-01]\n",
      " [  7.14008214e-01  -1.50379153e-01   3.20372333e-01   4.29412332e-02]\n",
      " [  8.99640863e-01  -3.29610980e-01   3.14771481e-01   1.01122865e-01]\n",
      " [  1.33104142e+00  -2.44669521e-01   5.21244925e-01   3.75050497e-02]\n",
      " [  1.55739627e+00  -2.67392585e-01   1.64638491e-01   7.03530951e-02]\n",
      " [  8.12455549e-01   1.62331575e-01  -3.63435763e-02  -2.96802711e-02]\n",
      " [ -3.07334756e-01   3.65086613e-01   3.15337197e-01   7.65303776e-02]\n",
      " [ -7.03428889e-02   7.02537932e-01   2.41758045e-01   9.09469852e-03]\n",
      " [ -1.91884492e-01   6.77490544e-01   3.03916543e-01  -1.80454588e-02]\n",
      " [  1.34994950e-01   3.11709643e-01   1.74973304e-01   3.41829142e-02]\n",
      " [  1.37873698e+00   4.21205138e-01  -1.54804951e-02  -1.77580737e-01]\n",
      " [  5.87274854e-01   4.83284268e-01  -4.44583753e-01  -2.52442435e-01]\n",
      " [  8.07205497e-01  -1.95053964e-01  -3.89458711e-01  -1.16615391e-01]\n",
      " [  1.22042897e+00  -4.08035337e-01   2.36566087e-01   3.16352440e-02]\n",
      " [  8.12867790e-01   3.70678998e-01   6.12871050e-01   1.57700491e-01]\n",
      " [  2.45195162e-01   2.66728036e-01  -1.89562485e-01  -1.47328042e-01]\n",
      " [  1.64513428e-01   6.79661469e-01   5.77992388e-02   3.09655779e-02]\n",
      " [  4.63030989e-01   6.69526547e-01   2.40538909e-02  -2.68443508e-01]\n",
      " [  8.90160446e-01   3.38124427e-02   9.76802637e-03  -1.53448206e-01]\n",
      " [  2.28879050e-01   4.02257620e-01   2.27362705e-01   1.86204508e-02]\n",
      " [ -7.07081284e-01   1.00842476e+00   1.02069343e-01   4.76242978e-02]\n",
      " [  3.55533039e-01   5.03218487e-01  -1.78894659e-02  -9.80716353e-02]\n",
      " [  3.31126947e-01   2.11180141e-01  -8.38090732e-02  -2.38686542e-01]\n",
      " [  3.75238229e-01   2.91622025e-01  -7.90733555e-02  -1.31165051e-01]\n",
      " [  6.41690278e-01  -1.90711765e-02   2.04172877e-01  -2.05096763e-02]\n",
      " [ -9.08463333e-01   7.51568725e-01   7.73658451e-03   2.33558634e-01]\n",
      " [  2.97807907e-01   3.47016522e-01  -1.21791392e-02  -5.07837171e-02]\n",
      " [  2.53172698e+00   1.18422366e-02  -7.58458652e-01  -3.25995685e-02]\n",
      " [  1.41407223e+00   5.74925056e-01  -2.96398224e-01  -1.56954783e-02]\n",
      " [  2.61648461e+00  -3.41935287e-01   1.12141371e-01   6.59560495e-02]\n",
      " [  1.97081495e+00   1.81125695e-01  -1.06539149e-01  -2.36858625e-01]\n",
      " [  2.34975798e+00   4.18825497e-02  -2.84110681e-01  -1.31272400e-03]\n",
      " [  3.39687992e+00  -5.47168046e-01   3.51873158e-01  -1.11219968e-01]\n",
      " [  5.19383245e-01   1.19135169e+00  -5.46685531e-01  -9.87984199e-02]\n",
      " [  2.93200510e+00  -3.52377006e-01   4.23691278e-01  -2.55407369e-01]\n",
      " [  2.31967279e+00   2.45548171e-01   3.49922183e-01  -7.62628625e-02]\n",
      " [  2.91813423e+00  -7.80380629e-01  -4.21738934e-01   1.07729319e-01]\n",
      " [  1.66193495e+00  -2.42038401e-01  -2.42815263e-01   1.19447585e-01]\n",
      " [  1.80234045e+00   2.16154607e-01   3.76953285e-02   7.87134526e-02]\n",
      " [  2.16537886e+00  -2.15280283e-01  -3.31481832e-02   1.62667280e-01]\n",
      " [  1.34459422e+00   7.76415425e-01  -2.82868018e-01   1.40481892e-01]\n",
      " [  1.58526730e+00   5.39307054e-01  -6.30570488e-01   3.27455367e-01]\n",
      " [  1.90474358e+00  -1.18818991e-01  -4.80138080e-01   2.17114500e-01]\n",
      " [  1.94924878e+00  -4.07302594e-02  -4.27290939e-02  -1.57845252e-01]\n",
      " [  3.48876538e+00  -1.17154454e+00  -1.29320083e-01  -3.11629838e-01]\n",
      " [  3.79468686e+00  -2.53265571e-01   5.16970716e-01   5.64516435e-02]\n",
      " [  1.29832982e+00   7.61013937e-01   3.44887047e-01  -4.26737181e-02]\n",
      " [  2.42816726e+00  -3.76781971e-01  -2.18649070e-01   1.83854179e-01]\n",
      " [  1.19809737e+00   6.05578962e-01  -5.12640765e-01   5.95000305e-02]\n",
      " [  3.49926548e+00  -4.56773467e-01   5.76910187e-01  -1.37759598e-01]\n",
      " [  1.38766825e+00   2.04030987e-01   6.35113218e-02   1.63763537e-01]\n",
      " [  2.27585365e+00  -3.33386526e-01  -2.84678153e-01  -6.22302776e-02]\n",
      " [  2.61419383e+00  -5.58366950e-01   2.08423347e-01  -2.40445433e-01]\n",
      " [  1.25762518e+00   1.79136997e-01  -4.69778074e-02   1.47600546e-01]\n",
      " [  1.29066965e+00   1.16425252e-01  -2.31613561e-01   3.08432157e-03]\n",
      " [  2.12285398e+00   2.10854885e-01  -1.53515885e-01   5.26124332e-02]\n",
      " [  2.38756440e+00  -4.62519251e-01   4.52023961e-01  -2.29906877e-01]\n",
      " [  2.84096093e+00  -3.72742591e-01   5.01031539e-01  -2.02166254e-02]\n",
      " [  3.23234290e+00  -1.37052404e+00   1.18448777e-01  -2.54487344e-01]\n",
      " [  2.15873837e+00   2.18325532e-01  -2.08421976e-01   1.27724489e-01]\n",
      " [  1.44310260e+00   1.43801289e-01   1.54082971e-01  -1.89925864e-01]\n",
      " [  1.77964011e+00   5.01464795e-01   1.75811186e-01  -5.03529453e-01]\n",
      " [  3.07652162e+00  -6.85764442e-01   3.36422741e-01   3.10589092e-01]\n",
      " [  2.14498686e+00  -1.38906609e-01  -7.34184739e-01   5.17665351e-02]\n",
      " [  1.90486293e+00  -4.80475082e-02  -1.60470631e-01  -2.21980142e-01]\n",
      " [  1.16885347e+00   1.64502500e-01  -2.82460881e-01   1.93307656e-02]\n",
      " [  2.10765373e+00  -3.71482249e-01  -2.74378565e-02   2.09955199e-01]\n",
      " [  2.31430339e+00  -1.82608851e-01  -3.22860401e-01   2.75896660e-01]\n",
      " [  1.92245088e+00  -4.09271176e-01  -1.15492816e-01   5.04095007e-01]\n",
      " [  1.41407223e+00   5.74925056e-01  -2.96398224e-01  -1.56954783e-02]\n",
      " [  2.56332271e+00  -2.75974502e-01  -2.91253613e-01   5.61849270e-02]\n",
      " [  2.41939122e+00  -3.03503938e-01  -5.04302517e-01   2.38217947e-01]\n",
      " [  1.94401705e+00  -1.87415222e-01  -1.79302871e-01   4.25081634e-01]\n",
      " [  1.52566363e+00   3.75020848e-01   1.20636441e-01   2.55722565e-01]\n",
      " [  1.76404594e+00  -7.85191864e-02  -1.30784053e-01   1.36294556e-01]\n",
      " [  1.90162908e+00  -1.15876748e-01  -7.22873561e-01   4.08728218e-02]\n",
      " [  1.38966613e+00   2.82886709e-01  -3.62317832e-01  -1.56310385e-01]]\n"
     ]
    }
   ],
   "source": [
    "model = PCA()\n",
    "model.fit(data)\n",
    "data_new = model.transform(data)\n",
    "\n",
    "print data_new.shape\n",
    "print data_new"
   ]
  },
  {
   "cell_type": "code",
   "execution_count": 94,
   "metadata": {
    "collapsed": false
   },
   "outputs": [
    {
     "name": "stdout",
     "output_type": "stream",
     "text": [
      "[[ -1.31027769e+00  -6.65813002e-01   7.70245271e-02   6.55993818e-03]\n",
      " [ -1.32549971e+00   3.45654089e-01   7.28721658e-01   6.49387309e-01]\n",
      " [ -1.41064601e+00   2.79989114e-01  -8.84730395e-02   1.25861647e-01]\n",
      " [ -1.34065489e+00   6.34249771e-01  -1.34886950e-01  -4.95212758e-01]\n",
      " [ -1.33194435e+00  -6.80729751e-01  -3.44556679e-01  -4.11586347e-01]\n",
      " [ -1.11291660e+00  -1.52440999e+00  -6.24184182e-01  -1.76991574e-01]\n",
      " [ -1.37699885e+00   1.67376077e-01  -9.46168144e-01  -3.26639246e-01]\n",
      " [ -1.28209956e+00  -3.47383821e-01   5.65783320e-02  -3.01747558e-01]\n",
      " [ -1.40973759e+00   1.16361370e+00  -9.78761939e-02  -1.73527025e-01]\n",
      " [ -1.30521934e+00   2.17498875e-01   6.85797398e-01  -3.64397597e-01]\n",
      " [ -1.22354423e+00  -1.32901741e+00   2.48043614e-01  -1.08282358e-01]\n",
      " [ -1.27558808e+00  -4.38713890e-02  -3.85449069e-01  -1.02820134e+00]\n",
      " [ -1.36066719e+00   4.64265104e-01   7.17286634e-01  -4.71712768e-02]\n",
      " [ -1.57435995e+00   1.02597306e+00  -2.44959435e-01  -1.43087734e-01]\n",
      " [ -1.29042788e+00  -2.41814543e+00   5.17412042e-01   1.02348357e+00]\n",
      " [ -1.16366981e+00  -2.74138051e+00  -1.01591604e+00   1.25583084e-02]\n",
      " [ -1.28016857e+00  -1.66773589e+00  -5.20313320e-01   1.07407606e+00]\n",
      " [ -1.29276097e+00  -6.50583539e-01  -1.19570292e-01   4.96275088e-01]\n",
      " [ -1.07346515e+00  -1.79240366e+00   4.10051530e-01   1.65126435e-01]\n",
      " [ -1.26299568e+00  -1.06102374e+00  -7.86192097e-01  -4.50400367e-01]\n",
      " [ -1.12787054e+00  -8.11082780e-01   8.36762273e-01  -9.99076288e-02]\n",
      " [ -1.24146305e+00  -8.97037054e-01  -7.69235553e-01   2.50617631e-01]\n",
      " [ -1.56979935e+00  -2.88693745e-01  -1.07280519e+00   1.21075405e-02]\n",
      " [ -1.12425674e+00  -2.15115731e-01  -1.63560350e-01   9.60010359e-01]\n",
      " [ -1.15014910e+00   6.36230398e-02  -4.63352216e-01  -1.96650206e+00]\n",
      " [ -1.22422296e+00   2.83476563e-01   8.84816070e-01   2.30696929e-01]\n",
      " [ -1.20525311e+00  -2.81093419e-01  -3.62579021e-01   3.64915832e-01]\n",
      " [ -1.25081394e+00  -7.63822004e-01   2.59086655e-01  -9.93635337e-02]\n",
      " [ -1.28861104e+00  -6.50896253e-01   4.98605734e-01   4.24706224e-01]\n",
      " [ -1.28520704e+00   3.87483543e-01  -1.66376186e-01  -8.12439078e-01]\n",
      " [ -1.26354038e+00   4.02400292e-01   2.55205021e-01  -3.94292793e-01]\n",
      " [ -1.17646308e+00  -8.52286807e-01   4.95508066e-01   1.50505649e+00]\n",
      " [ -1.29242607e+00  -1.67159483e+00  -8.25626706e-01  -1.85689578e+00]\n",
      " [ -1.26778597e+00  -2.24247550e+00  -5.85715644e-01  -6.45186257e-01]\n",
      " [ -1.30521934e+00   2.17498875e-01   6.85797398e-01  -3.64397597e-01]\n",
      " [ -1.39950673e+00  -1.57363796e-01   5.61584205e-01   1.05915886e+00]\n",
      " [ -1.28148766e+00  -1.23700639e+00   9.35111615e-01   1.14670059e+00]\n",
      " [ -1.30521934e+00   2.17498875e-01   6.85797398e-01  -3.64397597e-01]\n",
      " [ -1.45556648e+00   9.79025001e-01  -2.85459842e-01  -7.20629651e-02]\n",
      " [ -1.26444880e+00  -4.81224299e-01   2.64608175e-01  -9.49041215e-02]\n",
      " [ -1.35222472e+00  -5.52574538e-01  -3.01632419e-01   6.02198559e-01]\n",
      " [ -1.39228770e+00   1.90171458e+00   1.22083473e+00   2.10361556e+00]\n",
      " [ -1.46359829e+00   6.81510547e-01  -7.12562569e-01  -4.94668663e-01]\n",
      " [ -1.17423556e+00  -3.99391721e-01  -9.69320023e-01   1.13304328e+00]\n",
      " [ -1.07822698e+00  -9.02468376e-01  -1.08665778e+00  -1.21175285e+00]\n",
      " [ -1.32563374e+00   4.94724029e-01   3.24096996e-01   9.32259022e-01]\n",
      " [ -1.23869941e+00  -1.04042173e+00  -6.15564994e-01  -1.25288243e+00]\n",
      " [ -1.38648378e+00   4.49661068e-01  -3.22470598e-01  -3.93748698e-01]\n",
      " [ -1.24119499e+00  -1.19517694e+00   4.00137710e-02  -3.15125795e-01]\n",
      " [ -1.31989665e+00  -2.34458070e-01   2.96097411e-01   2.22322199e-01]\n",
      " [  6.27163855e-01  -1.39731813e+00   1.45417320e+00   1.25767593e-01]\n",
      " [  4.55150051e-01  -6.50708753e-01   6.13347506e-02  -4.40603894e-05]\n",
      " [  7.14671709e-01  -1.02782801e+00   1.21116447e+00  -5.59166271e-03]\n",
      " [  8.83379272e-02   1.68305428e+00   6.34056649e-01   6.24494894e-01]\n",
      " [  5.30677404e-01  -1.53688846e-01   1.09760233e+00   7.39243863e-01]\n",
      " [  3.12624901e-01   8.50744574e-01  -1.47479059e-01  -1.58216702e+00]\n",
      " [  5.34626104e-01  -5.78733087e-01  -6.08776706e-01  -5.54009013e-01]\n",
      " [ -3.66823641e-01   2.04083120e+00  -5.61153076e-02  -1.07645663e-01]\n",
      " [  5.09278810e-01  -4.66745477e-01   1.48527045e+00  -2.44645848e-01]\n",
      " [ -4.97421464e-03   1.46894480e+00  -1.01486544e+00  -3.87647534e-02]\n",
      " [ -2.49483296e-01   2.57368258e+00   9.54184558e-01   3.18875351e-01]\n",
      " [  2.49489088e-01   2.08513661e-01  -4.73808592e-01   3.26645180e-01]\n",
      " [  1.28057439e-01   1.11692073e+00   2.47754168e+00   4.00869477e-01]\n",
      " [  4.80354740e-01   2.53517852e-01   2.22558700e-01  -1.10191479e+00]\n",
      " [ -8.53586890e-02   5.13344539e-01  -3.35350827e-01   8.14588871e-01]\n",
      " [  4.52788506e-01  -9.54533898e-01   1.12153818e+00   6.54840857e-01]\n",
      " [  3.21975793e-01   7.17529524e-01  -1.17580127e+00  -1.23218586e+00]\n",
      " [  1.14489413e-01   6.76647030e-01   9.67757466e-01  -1.38209855e+00]\n",
      " [  4.60007543e-01   1.10454447e+00   1.78078870e+00   1.69929755e+00]\n",
      " [  2.11104401e-02   1.18540895e+00   8.34141119e-01  -2.57930758e-01]\n",
      " [  5.44885418e-01   1.71676453e-01  -1.64650207e+00  -5.03416520e-01]\n",
      " [  1.74162969e-01   1.36225282e-01   8.14478890e-01   8.09041269e-01]\n",
      " [  6.32862568e-01   6.67758219e-01   1.24429359e+00   2.11648110e-02]\n",
      " [  4.49337190e-01   3.71816153e-01   8.29299701e-01  -1.87004224e+00]\n",
      " [  3.48538318e-01  -3.06558950e-01   1.14711391e+00   2.79968004e-01]\n",
      " [  4.39153650e-01  -6.71936193e-01   1.12705970e+00   6.59300269e-01]\n",
      " [  6.49738936e-01  -4.98776790e-01   1.86635125e+00   2.44525206e-01]\n",
      " [  7.60232538e-01  -5.45099425e-01   5.89498791e-01   4.58687703e-01]\n",
      " [  3.96594724e-01   3.30924839e-01  -1.30130531e-01  -1.93509260e-01]\n",
      " [ -1.50023398e-01   7.44255878e-01   1.12908528e+00   4.98962314e-01]\n",
      " [ -3.43374091e-02   1.43217518e+00   8.65630354e-01   5.92955629e-02]\n",
      " [ -9.36671270e-02   1.38111424e+00   1.08819289e+00  -1.17652678e-01]\n",
      " [  6.58968791e-02   6.35443003e-01   6.26503259e-01   2.22865567e-01]\n",
      " [  6.73021205e-01   8.58657614e-01  -5.54289165e-02  -1.15778986e+00]\n",
      " [  2.86674278e-01   9.85210479e-01  -1.59186095e+00  -1.64587273e+00]\n",
      " [  3.94031946e-01  -3.97631833e-01  -1.39448217e+00  -7.60308355e-01]\n",
      " [  5.95744209e-01  -8.31810007e-01   8.47040212e-01   2.06255281e-01]\n",
      " [  3.96795956e-01   7.55656366e-01   2.19442453e+00   1.02817475e+00]\n",
      " [  1.19690373e-01   5.43744693e-01  -6.78740767e-01  -9.60548520e-01]\n",
      " [  8.03061259e-02   1.38553983e+00   2.06953922e-01   2.01889196e-01]\n",
      " [  2.26025470e-01   1.36487905e+00   8.61265159e-02  -1.75019644e+00]\n",
      " [  4.34525847e-01   6.89291482e-02   3.49750517e-02  -1.00045073e+00]\n",
      " [  1.11725772e-01   8.20031707e-01   8.14086907e-01   1.21401507e-01]\n",
      " [ -3.45156983e-01   2.05574795e+00   3.65465899e-01   3.10500622e-01]\n",
      " [  1.73551067e-01   1.02584785e+00  -6.40543925e-02  -6.39406882e-01]\n",
      " [  1.61637397e-01   4.30506229e-01  -3.00083821e-01  -1.55618714e+00]\n",
      " [  1.83170023e-01   5.94492919e-01  -2.83127276e-01  -8.55169143e-01]\n",
      " [  3.13236803e-01  -3.88779941e-02   7.31054223e-01  -1.33718869e-01]\n",
      " [ -4.43460279e-01   1.53212805e+00   2.77013424e-02   1.52275424e+00]\n",
      " [  1.45372931e-01   7.07418669e-01  -4.36081974e-02  -3.31099386e-01]\n",
      " [  1.23584553e+00   2.41412693e-02  -2.71571038e+00  -2.12542479e-01]\n",
      " [  6.90269866e-01   1.17202696e+00  -1.06127306e+00  -1.02331289e-01]\n",
      " [  1.27721940e+00  -6.97060199e-01   4.01529448e-01   4.30019871e-01]\n",
      " [  9.62040089e-01   3.69238033e-01  -3.81470329e-01  -1.54426950e+00]\n",
      " [  1.14701859e+00   8.53806539e-02  -1.01727671e+00  -8.55869038e-03]\n",
      " [  1.65816414e+00  -1.11544225e+00   1.25990466e+00  -7.25131306e-01]\n",
      " [  2.53533445e-01   2.42865793e+00  -1.95744299e+00  -6.44145368e-01]\n",
      " [  1.43123861e+00  -7.18346411e-01   1.51705409e+00  -1.66520349e+00]\n",
      " [  1.13233271e+00   5.00567982e-01   1.25291907e+00  -4.97218171e-01]\n",
      " [  1.42446764e+00  -1.59086324e+00  -1.51006360e+00   7.02372995e-01]\n",
      " [  8.11262391e-01  -4.93413059e-01  -8.69415794e-01   7.78773672e-01]\n",
      " [  8.79800396e-01   4.40647043e-01   1.34970568e-01   5.13195514e-01]\n",
      " [  1.05701516e+00  -4.38864671e-01  -1.18689219e-01   1.06055720e+00]\n",
      " [  6.56354643e-01   1.58277988e+00  -1.01282728e+00   9.15913030e-01]\n",
      " [  7.73837593e-01   1.09941704e+00  -2.25779852e+00   2.13494161e+00]\n",
      " [  9.29787794e-01  -2.42221241e-01  -1.71916553e+00   1.41554187e+00]\n",
      " [  9.51512711e-01  -8.30316257e-02  -1.52994291e-01  -1.02911856e+00]\n",
      " [  1.70301741e+00  -2.38827961e+00  -4.63038943e-01  -2.03176242e+00]\n",
      " [  1.85235092e+00  -5.16300470e-01   1.85104717e+00   3.68053100e-01]\n",
      " [  6.33770990e-01   1.55138281e+00   1.23489043e+00  -2.78223861e-01]\n",
      " [  1.18529355e+00  -7.68097725e-01  -7.82887172e-01   1.19869142e+00]\n",
      " [  5.84843191e-01   1.23451720e+00  -1.83554350e+00   3.87927956e-01]\n",
      " [  1.70814296e+00  -9.31166265e-01   2.06566433e+00  -8.98164229e-01]\n",
      " [  6.77380943e-01   4.15932153e-01   2.27406405e-01   1.06770456e+00]\n",
      " [  1.11094268e+00  -6.79632922e-01  -1.01930858e+00  -4.05728605e-01]\n",
      " [  1.27610117e+00  -1.13827204e+00   7.46273306e-01  -1.56765475e+00]\n",
      " [  6.13901293e-01   3.65183928e-01  -1.68207085e-01   9.62325185e-01]\n",
      " [  6.30031726e-01   2.37341428e-01  -8.29307371e-01   2.01091420e-02]\n",
      " [  1.03625692e+00   4.29843170e-01  -5.49673580e-01   3.43022238e-01]\n",
      " [  1.16547354e+00  -9.42879467e-01   1.61850110e+00  -1.49894553e+00]\n",
      " [  1.38679601e+00  -7.59863152e-01   1.79397591e+00  -1.31808237e-01]\n",
      " [  1.57784649e+00  -2.79391392e+00   4.24113527e-01  -1.65920512e+00]\n",
      " [  1.05377365e+00   4.45072633e-01  -7.46268399e-01   8.32737388e-01]\n",
      " [  7.04440851e-01   2.93149491e-01   5.51704068e-01  -1.23827755e+00]\n",
      " [  8.68719374e-01   1.02227282e+00   6.29503351e-01  -3.28290842e+00]\n",
      " [  1.50178338e+00  -1.39798119e+00   1.20458344e+00   2.02497697e+00]\n",
      " [  1.04706094e+00  -2.83171326e-01  -2.62879606e+00   3.37507157e-01]\n",
      " [  9.29846053e-01  -9.79483749e-02  -5.74575498e-01  -1.44726485e+00]\n",
      " [  5.70567977e-01   3.35350429e-01  -1.01136950e+00   1.26032614e-01]\n",
      " [  1.02883702e+00  -7.57293852e-01  -9.82430240e-02   1.36886469e+00]\n",
      " [  1.12971167e+00  -3.72261556e-01  -1.15602260e+00   1.79878945e+00]\n",
      " [  9.38431497e-01  -8.34329356e-01  -4.13529516e-01   3.28659572e+00]\n",
      " [  6.90269866e-01   1.17202696e+00  -1.06127306e+00  -1.02331289e-01]\n",
      " [  1.25126878e+00  -5.62594294e-01  -1.04285245e+00   3.66314163e-01]\n",
      " [  1.18100959e+00  -6.18715071e-01  -1.80568786e+00   1.55313199e+00]\n",
      " [  9.48958875e-01  -3.82059697e-01  -6.42005554e-01   2.77144478e+00]\n",
      " [  7.44742462e-01   7.64507546e-01   4.31946598e-01   1.66725850e+00]\n",
      " [  8.61107184e-01  -1.60067129e-01  -4.68280783e-01   8.88612462e-01]\n",
      " [  9.28267471e-01  -2.36223263e-01  -2.58829565e+00   2.66482388e-01]\n",
      " [  6.78356196e-01   5.76685336e-01  -1.29730249e+00  -1.01911155e+00]]\n",
      "-3.5527136788e-17\n"
     ]
    }
   ],
   "source": [
    "data_new_scaled = preprocessing.scale(data_new, axis = 0)\n",
    "print data_new_scaled\n",
    "print np.mean(data_new_scaled[:,1])"
   ]
  },
  {
   "cell_type": "code",
   "execution_count": 95,
   "metadata": {
    "collapsed": false
   },
   "outputs": [
    {
     "name": "stdout",
     "output_type": "stream",
     "text": [
      "[[ -9.00681170e-01   1.03205722e+00  -1.34127240e+00  -1.31297673e+00]\n",
      " [ -1.14301691e+00  -1.24957601e-01  -1.34127240e+00  -1.31297673e+00]\n",
      " [ -1.38535265e+00   3.37848329e-01  -1.39813811e+00  -1.31297673e+00]\n",
      " [ -1.50652052e+00   1.06445364e-01  -1.28440670e+00  -1.31297673e+00]\n",
      " [ -1.02184904e+00   1.26346019e+00  -1.34127240e+00  -1.31297673e+00]\n",
      " [ -5.37177559e-01   1.95766909e+00  -1.17067529e+00  -1.05003079e+00]\n",
      " [ -1.50652052e+00   8.00654259e-01  -1.34127240e+00  -1.18150376e+00]\n",
      " [ -1.02184904e+00   8.00654259e-01  -1.28440670e+00  -1.31297673e+00]\n",
      " [ -1.74885626e+00  -3.56360566e-01  -1.34127240e+00  -1.31297673e+00]\n",
      " [ -1.14301691e+00   1.06445364e-01  -1.28440670e+00  -1.44444970e+00]\n",
      " [ -5.37177559e-01   1.49486315e+00  -1.28440670e+00  -1.31297673e+00]\n",
      " [ -1.26418478e+00   8.00654259e-01  -1.22754100e+00  -1.31297673e+00]\n",
      " [ -1.26418478e+00  -1.24957601e-01  -1.34127240e+00  -1.44444970e+00]\n",
      " [ -1.87002413e+00  -1.24957601e-01  -1.51186952e+00  -1.44444970e+00]\n",
      " [ -5.25060772e-02   2.18907205e+00  -1.45500381e+00  -1.31297673e+00]\n",
      " [ -1.73673948e-01   3.11468391e+00  -1.28440670e+00  -1.05003079e+00]\n",
      " [ -5.37177559e-01   1.95766909e+00  -1.39813811e+00  -1.05003079e+00]\n",
      " [ -9.00681170e-01   1.03205722e+00  -1.34127240e+00  -1.18150376e+00]\n",
      " [ -1.73673948e-01   1.72626612e+00  -1.17067529e+00  -1.18150376e+00]\n",
      " [ -9.00681170e-01   1.72626612e+00  -1.28440670e+00  -1.18150376e+00]\n",
      " [ -5.37177559e-01   8.00654259e-01  -1.17067529e+00  -1.31297673e+00]\n",
      " [ -9.00681170e-01   1.49486315e+00  -1.28440670e+00  -1.05003079e+00]\n",
      " [ -1.50652052e+00   1.26346019e+00  -1.56873522e+00  -1.31297673e+00]\n",
      " [ -9.00681170e-01   5.69251294e-01  -1.17067529e+00  -9.18557817e-01]\n",
      " [ -1.26418478e+00   8.00654259e-01  -1.05694388e+00  -1.31297673e+00]\n",
      " [ -1.02184904e+00  -1.24957601e-01  -1.22754100e+00  -1.31297673e+00]\n",
      " [ -1.02184904e+00   8.00654259e-01  -1.22754100e+00  -1.05003079e+00]\n",
      " [ -7.79513300e-01   1.03205722e+00  -1.28440670e+00  -1.31297673e+00]\n",
      " [ -7.79513300e-01   8.00654259e-01  -1.34127240e+00  -1.31297673e+00]\n",
      " [ -1.38535265e+00   3.37848329e-01  -1.22754100e+00  -1.31297673e+00]\n",
      " [ -1.26418478e+00   1.06445364e-01  -1.22754100e+00  -1.31297673e+00]\n",
      " [ -5.37177559e-01   8.00654259e-01  -1.28440670e+00  -1.05003079e+00]\n",
      " [ -7.79513300e-01   2.42047502e+00  -1.28440670e+00  -1.44444970e+00]\n",
      " [ -4.16009689e-01   2.65187798e+00  -1.34127240e+00  -1.31297673e+00]\n",
      " [ -1.14301691e+00   1.06445364e-01  -1.28440670e+00  -1.44444970e+00]\n",
      " [ -1.02184904e+00   3.37848329e-01  -1.45500381e+00  -1.31297673e+00]\n",
      " [ -4.16009689e-01   1.03205722e+00  -1.39813811e+00  -1.31297673e+00]\n",
      " [ -1.14301691e+00   1.06445364e-01  -1.28440670e+00  -1.44444970e+00]\n",
      " [ -1.74885626e+00  -1.24957601e-01  -1.39813811e+00  -1.31297673e+00]\n",
      " [ -9.00681170e-01   8.00654259e-01  -1.28440670e+00  -1.31297673e+00]\n",
      " [ -1.02184904e+00   1.03205722e+00  -1.39813811e+00  -1.18150376e+00]\n",
      " [ -1.62768839e+00  -1.74477836e+00  -1.39813811e+00  -1.18150376e+00]\n",
      " [ -1.74885626e+00   3.37848329e-01  -1.39813811e+00  -1.31297673e+00]\n",
      " [ -1.02184904e+00   1.03205722e+00  -1.22754100e+00  -7.87084847e-01]\n",
      " [ -9.00681170e-01   1.72626612e+00  -1.05694388e+00  -1.05003079e+00]\n",
      " [ -1.26418478e+00  -1.24957601e-01  -1.34127240e+00  -1.18150376e+00]\n",
      " [ -9.00681170e-01   1.72626612e+00  -1.22754100e+00  -1.31297673e+00]\n",
      " [ -1.50652052e+00   3.37848329e-01  -1.34127240e+00  -1.31297673e+00]\n",
      " [ -6.58345429e-01   1.49486315e+00  -1.28440670e+00  -1.31297673e+00]\n",
      " [ -1.02184904e+00   5.69251294e-01  -1.34127240e+00  -1.31297673e+00]\n",
      " [  1.40150837e+00   3.37848329e-01   5.35295827e-01   2.64698913e-01]\n",
      " [  6.74501145e-01   3.37848329e-01   4.21564419e-01   3.96171883e-01]\n",
      " [  1.28034050e+00   1.06445364e-01   6.49027235e-01   3.96171883e-01]\n",
      " [ -4.16009689e-01  -1.74477836e+00   1.37235899e-01   1.33225943e-01]\n",
      " [  7.95669016e-01  -5.87763531e-01   4.78430123e-01   3.96171883e-01]\n",
      " [ -1.73673948e-01  -5.87763531e-01   4.21564419e-01   1.33225943e-01]\n",
      " [  5.53333275e-01   5.69251294e-01   5.35295827e-01   5.27644853e-01]\n",
      " [ -1.14301691e+00  -1.51337539e+00  -2.60824029e-01  -2.61192967e-01]\n",
      " [  9.16836886e-01  -3.56360566e-01   4.78430123e-01   1.33225943e-01]\n",
      " [ -7.79513300e-01  -8.19166497e-01   8.03701950e-02   2.64698913e-01]\n",
      " [ -1.02184904e+00  -2.43898725e+00  -1.47092621e-01  -2.61192967e-01]\n",
      " [  6.86617933e-02  -1.24957601e-01   2.50967307e-01   3.96171883e-01]\n",
      " [  1.89829664e-01  -1.97618132e+00   1.37235899e-01  -2.61192967e-01]\n",
      " [  3.10997534e-01  -3.56360566e-01   5.35295827e-01   2.64698913e-01]\n",
      " [ -2.94841818e-01  -3.56360566e-01  -9.02269170e-02   1.33225943e-01]\n",
      " [  1.03800476e+00   1.06445364e-01   3.64698715e-01   2.64698913e-01]\n",
      " [ -2.94841818e-01  -1.24957601e-01   4.21564419e-01   3.96171883e-01]\n",
      " [ -5.25060772e-02  -8.19166497e-01   1.94101603e-01  -2.61192967e-01]\n",
      " [  4.32165405e-01  -1.97618132e+00   4.21564419e-01   3.96171883e-01]\n",
      " [ -2.94841818e-01  -1.28197243e+00   8.03701950e-02  -1.29719997e-01]\n",
      " [  6.86617933e-02   3.37848329e-01   5.92161531e-01   7.90590793e-01]\n",
      " [  3.10997534e-01  -5.87763531e-01   1.37235899e-01   1.33225943e-01]\n",
      " [  5.53333275e-01  -1.28197243e+00   6.49027235e-01   3.96171883e-01]\n",
      " [  3.10997534e-01  -5.87763531e-01   5.35295827e-01   1.75297293e-03]\n",
      " [  6.74501145e-01  -3.56360566e-01   3.07833011e-01   1.33225943e-01]\n",
      " [  9.16836886e-01  -1.24957601e-01   3.64698715e-01   2.64698913e-01]\n",
      " [  1.15917263e+00  -5.87763531e-01   5.92161531e-01   2.64698913e-01]\n",
      " [  1.03800476e+00  -1.24957601e-01   7.05892939e-01   6.59117823e-01]\n",
      " [  1.89829664e-01  -3.56360566e-01   4.21564419e-01   3.96171883e-01]\n",
      " [ -1.73673948e-01  -1.05056946e+00  -1.47092621e-01  -2.61192967e-01]\n",
      " [ -4.16009689e-01  -1.51337539e+00   2.35044910e-02  -1.29719997e-01]\n",
      " [ -4.16009689e-01  -1.51337539e+00  -3.33612130e-02  -2.61192967e-01]\n",
      " [ -5.25060772e-02  -8.19166497e-01   8.03701950e-02   1.75297293e-03]\n",
      " [  1.89829664e-01  -8.19166497e-01   7.62758643e-01   5.27644853e-01]\n",
      " [ -5.37177559e-01  -1.24957601e-01   4.21564419e-01   3.96171883e-01]\n",
      " [  1.89829664e-01   8.00654259e-01   4.21564419e-01   5.27644853e-01]\n",
      " [  1.03800476e+00   1.06445364e-01   5.35295827e-01   3.96171883e-01]\n",
      " [  5.53333275e-01  -1.74477836e+00   3.64698715e-01   1.33225943e-01]\n",
      " [ -2.94841818e-01  -1.24957601e-01   1.94101603e-01   1.33225943e-01]\n",
      " [ -4.16009689e-01  -1.28197243e+00   1.37235899e-01   1.33225943e-01]\n",
      " [ -4.16009689e-01  -1.05056946e+00   3.64698715e-01   1.75297293e-03]\n",
      " [  3.10997534e-01  -1.24957601e-01   4.78430123e-01   2.64698913e-01]\n",
      " [ -5.25060772e-02  -1.05056946e+00   1.37235899e-01   1.75297293e-03]\n",
      " [ -1.02184904e+00  -1.74477836e+00  -2.60824029e-01  -2.61192967e-01]\n",
      " [ -2.94841818e-01  -8.19166497e-01   2.50967307e-01   1.33225943e-01]\n",
      " [ -1.73673948e-01  -1.24957601e-01   2.50967307e-01   1.75297293e-03]\n",
      " [ -1.73673948e-01  -3.56360566e-01   2.50967307e-01   1.33225943e-01]\n",
      " [  4.32165405e-01  -3.56360566e-01   3.07833011e-01   1.33225943e-01]\n",
      " [ -9.00681170e-01  -1.28197243e+00  -4.31421141e-01  -1.29719997e-01]\n",
      " [ -1.73673948e-01  -5.87763531e-01   1.94101603e-01   1.33225943e-01]\n",
      " [  5.53333275e-01   5.69251294e-01   1.27454998e+00   1.71090158e+00]\n",
      " [ -5.25060772e-02  -8.19166497e-01   7.62758643e-01   9.22063763e-01]\n",
      " [  1.52267624e+00  -1.24957601e-01   1.21768427e+00   1.18500970e+00]\n",
      " [  5.53333275e-01  -3.56360566e-01   1.04708716e+00   7.90590793e-01]\n",
      " [  7.95669016e-01  -1.24957601e-01   1.16081857e+00   1.31648267e+00]\n",
      " [  2.12851559e+00  -1.24957601e-01   1.61574420e+00   1.18500970e+00]\n",
      " [ -1.14301691e+00  -1.28197243e+00   4.21564419e-01   6.59117823e-01]\n",
      " [  1.76501198e+00  -3.56360566e-01   1.44514709e+00   7.90590793e-01]\n",
      " [  1.03800476e+00  -1.28197243e+00   1.16081857e+00   7.90590793e-01]\n",
      " [  1.64384411e+00   1.26346019e+00   1.33141568e+00   1.71090158e+00]\n",
      " [  7.95669016e-01   3.37848329e-01   7.62758643e-01   1.05353673e+00]\n",
      " [  6.74501145e-01  -8.19166497e-01   8.76490051e-01   9.22063763e-01]\n",
      " [  1.15917263e+00  -1.24957601e-01   9.90221459e-01   1.18500970e+00]\n",
      " [ -1.73673948e-01  -1.28197243e+00   7.05892939e-01   1.05353673e+00]\n",
      " [ -5.25060772e-02  -5.87763531e-01   7.62758643e-01   1.57942861e+00]\n",
      " [  6.74501145e-01   3.37848329e-01   8.76490051e-01   1.44795564e+00]\n",
      " [  7.95669016e-01  -1.24957601e-01   9.90221459e-01   7.90590793e-01]\n",
      " [  2.24968346e+00   1.72626612e+00   1.67260991e+00   1.31648267e+00]\n",
      " [  2.24968346e+00  -1.05056946e+00   1.78634131e+00   1.44795564e+00]\n",
      " [  1.89829664e-01  -1.97618132e+00   7.05892939e-01   3.96171883e-01]\n",
      " [  1.28034050e+00   3.37848329e-01   1.10395287e+00   1.44795564e+00]\n",
      " [ -2.94841818e-01  -5.87763531e-01   6.49027235e-01   1.05353673e+00]\n",
      " [  2.24968346e+00  -5.87763531e-01   1.67260991e+00   1.05353673e+00]\n",
      " [  5.53333275e-01  -8.19166497e-01   6.49027235e-01   7.90590793e-01]\n",
      " [  1.03800476e+00   5.69251294e-01   1.10395287e+00   1.18500970e+00]\n",
      " [  1.64384411e+00   3.37848329e-01   1.27454998e+00   7.90590793e-01]\n",
      " [  4.32165405e-01  -5.87763531e-01   5.92161531e-01   7.90590793e-01]\n",
      " [  3.10997534e-01  -1.24957601e-01   6.49027235e-01   7.90590793e-01]\n",
      " [  6.74501145e-01  -5.87763531e-01   1.04708716e+00   1.18500970e+00]\n",
      " [  1.64384411e+00  -1.24957601e-01   1.16081857e+00   5.27644853e-01]\n",
      " [  1.88617985e+00  -5.87763531e-01   1.33141568e+00   9.22063763e-01]\n",
      " [  2.49201920e+00   1.72626612e+00   1.50201279e+00   1.05353673e+00]\n",
      " [  6.74501145e-01  -5.87763531e-01   1.04708716e+00   1.31648267e+00]\n",
      " [  5.53333275e-01  -5.87763531e-01   7.62758643e-01   3.96171883e-01]\n",
      " [  3.10997534e-01  -1.05056946e+00   1.04708716e+00   2.64698913e-01]\n",
      " [  2.24968346e+00  -1.24957601e-01   1.33141568e+00   1.44795564e+00]\n",
      " [  5.53333275e-01   8.00654259e-01   1.04708716e+00   1.57942861e+00]\n",
      " [  6.74501145e-01   1.06445364e-01   9.90221459e-01   7.90590793e-01]\n",
      " [  1.89829664e-01  -1.24957601e-01   5.92161531e-01   7.90590793e-01]\n",
      " [  1.28034050e+00   1.06445364e-01   9.33355755e-01   1.18500970e+00]\n",
      " [  1.03800476e+00   1.06445364e-01   1.04708716e+00   1.57942861e+00]\n",
      " [  1.28034050e+00   1.06445364e-01   7.62758643e-01   1.44795564e+00]\n",
      " [ -5.25060772e-02  -8.19166497e-01   7.62758643e-01   9.22063763e-01]\n",
      " [  1.15917263e+00   3.37848329e-01   1.21768427e+00   1.44795564e+00]\n",
      " [  1.03800476e+00   5.69251294e-01   1.10395287e+00   1.71090158e+00]\n",
      " [  1.03800476e+00  -1.24957601e-01   8.19624347e-01   1.44795564e+00]\n",
      " [  5.53333275e-01  -1.28197243e+00   7.05892939e-01   9.22063763e-01]\n",
      " [  7.95669016e-01  -1.24957601e-01   8.19624347e-01   1.05353673e+00]\n",
      " [  4.32165405e-01   8.00654259e-01   9.33355755e-01   1.44795564e+00]\n",
      " [  6.86617933e-02  -1.24957601e-01   7.62758643e-01   7.90590793e-01]]\n",
      "-1.65793305011e-15\n"
     ]
    }
   ],
   "source": [
    "data_scaled = preprocessing.scale(data, axis = 0)\n",
    "print data_scaled\n",
    "print np.mean(data_scaled[:,1])"
   ]
  },
  {
   "cell_type": "code",
   "execution_count": 104,
   "metadata": {
    "collapsed": false
   },
   "outputs": [
    {
     "name": "stdout",
     "output_type": "stream",
     "text": [
      "0 \\ 0 0.897544884941\n",
      "0 \\ 1 -0.39023141074\n",
      "1 \\ 0 -0.389993379048\n",
      "1 \\ 1 -0.828312592883\n",
      "2 \\ 0 0.997854050635\n",
      "2 \\ 1 0.049030056339\n",
      "3 \\ 0 0.966484183154\n",
      "3 \\ 1 0.0481801697401\n"
     ]
    }
   ],
   "source": [
    "for i in range(0,4):\n",
    "    print i,'\\\\', 0, np.corrcoef(data[:,i], data_new_scaled[:,0])[0,1]\n",
    "    print i,'\\\\', 1, np.corrcoef(data[:,i], data_new_scaled[:,1])[0,1]"
   ]
  },
  {
   "cell_type": "code",
   "execution_count": 108,
   "metadata": {
    "collapsed": false
   },
   "outputs": [],
   "source": [
    "list_pc1 = [1, 3, 4]\n",
    "list_pc2 = [2]\n",
    "write_answer_3(list_pc1, list_pc2)"
   ]
  },
  {
   "cell_type": "markdown",
   "metadata": {},
   "source": [
    "## Интерпретация главных компонент с использованием данных\n",
    "\n",
    "Рассмотрим теперь величину, которую можно проинтерпретировать, как квадрат косинуса угла между объектом выборки и главной компонентой:\n",
    "\n",
    "$$ cos^2_{ik} = \\frac{f_{ik}^2}{\\sum_{\\ell=1}^d f_{i\\ell}^2} $$\n",
    "\n",
    "где\n",
    "- i -- номер объекта\n",
    "- k -- номер главной компоненты\n",
    "- $f_{ik}$ -- модуль центрированной проекции объекта на компоненту\n",
    "\n",
    "Очевидно, что\n",
    "\n",
    "$$ \\sum_{k=1}^d cos^2_{ik} = 1 $$\n",
    "\n",
    "Это значит, что для каждого объекта мы в виде данной величины получили веса, пропорциональные вкладу, которую вносит данный объект в дисперсию каждой компоненты. Чем больше вклад, тем более значим объект для описания конкретной главной компоненты."
   ]
  },
  {
   "cell_type": "markdown",
   "metadata": {},
   "source": [
    "## Задание 4. Анализ главных компонент при помощи вкладов в их дисперсию отдельных объектов\n",
    "\n",
    "1. Загрузите датасет лиц Olivetti Faces и обучите на нём модель RandomizedPCA (используется при большом количестве признаков и работает быстрее, чем обычный PCA). Получите проекции признаков на 10 первых главных компонент.\n",
    "2. Посчитайте для каждого объекта его относительный вклад в дисперсию каждой из 10 компонент, используя формулу из предыдущего раздела (d = 10).\n",
    "3. Для каждой компоненты найдите и визуализируйте лицо, которое вносит наибольший относительный вклад в неё. Для визуализации используйте функцию\n",
    "\n",
    "        plt.imshow(image.reshape(image_shape))\n",
    "        \n",
    "4. Передайте в функцию write_answer_4 список номеров лиц с наибольшим относительным вкладом в дисперсию каждой из компонент, список начинается с 0."
   ]
  },
  {
   "cell_type": "code",
   "execution_count": 140,
   "metadata": {
    "collapsed": false
   },
   "outputs": [],
   "source": [
    "from sklearn.datasets import fetch_olivetti_faces\n",
    "from sklearn.decomposition import RandomizedPCA\n",
    "\n",
    "def write_answer_4(list_pc):\n",
    "    with open(\"pca_answer4.txt\", \"w\") as fout:\n",
    "        fout.write(\" \".join([str(num) for num in list_pc]))\n",
    "\n",
    "data = fetch_olivetti_faces(shuffle=True, random_state=0).data\n",
    "image_shape = (64, 64)"
   ]
  },
  {
   "cell_type": "code",
   "execution_count": 141,
   "metadata": {
    "collapsed": false
   },
   "outputs": [
    {
     "name": "stdout",
     "output_type": "stream",
     "text": [
      "(400L, 4096L)\n",
      "[[ 0.66942149  0.63636363  0.64876032 ...,  0.08677686  0.08264463\n",
      "   0.07438017]\n",
      " [ 0.76859504  0.75619835  0.74380165 ...,  0.48347107  0.6280992\n",
      "   0.65289259]\n",
      " [ 0.37190083  0.34710744  0.36776859 ...,  0.70661157  0.68181819\n",
      "   0.54958677]\n",
      " ..., \n",
      " [ 0.55785125  0.60330576  0.6570248  ...,  0.17768595  0.20661157\n",
      "   0.19421488]\n",
      " [ 0.52066118  0.52066118  0.53305787 ...,  0.46694216  0.43801653\n",
      "   0.43801653]\n",
      " [ 0.39669421  0.36776859  0.3429752  ...,  0.37190083  0.26859504\n",
      "   0.29752067]]\n"
     ]
    }
   ],
   "source": [
    "print data.shape\n",
    "print data"
   ]
  },
  {
   "cell_type": "code",
   "execution_count": 142,
   "metadata": {
    "collapsed": false
   },
   "outputs": [
    {
     "name": "stdout",
     "output_type": "stream",
     "text": [
      "(400L, 400L)\n",
      "[[  8.15795104e-01  -4.14403432e+00   2.48326444e+00 ...,   7.35496285e-03\n",
      "    8.77834507e-03   9.87204027e-06]\n",
      " [  3.86336417e+00  -1.33457378e+00  -5.42396544e+00 ...,   6.49480445e-04\n",
      "    6.52147358e-03   9.87236712e-06]\n",
      " [  4.86993369e+00  -5.58657696e-01  -8.84195725e-01 ...,   5.98066229e-03\n",
      "    1.35436159e-02   9.87234830e-06]\n",
      " ..., \n",
      " [ -2.00347135e+00  -1.84494851e+00   5.75459022e+00 ...,   7.61470212e-03\n",
      "    3.66874597e-03   9.87210239e-06]\n",
      " [ -1.97052331e+00   3.37871478e+00   2.06998001e+00 ...,  -1.53093809e-02\n",
      "   -1.57017334e-02   9.87230506e-06]\n",
      " [ -4.10523316e+00   1.99172105e+00  -5.97213154e-02 ...,   3.57098869e-03\n",
      "    3.71855483e-02   9.87265288e-06]]\n"
     ]
    }
   ],
   "source": [
    "model = RandomizedPCA()\n",
    "model.fit(data)\n",
    "data_new = model.transform(data)\n",
    "\n",
    "print data_new.shape\n",
    "print data_new"
   ]
  },
  {
   "cell_type": "code",
   "execution_count": 143,
   "metadata": {
    "collapsed": false
   },
   "outputs": [
    {
     "name": "stdout",
     "output_type": "stream",
     "text": [
      "[[ 0.1881838  -1.24697716  0.99023285 ...,  0.18501572  0.24401863\n",
      "  -0.23687973]\n",
      " [ 0.89118267 -0.40158521 -2.16287362 ...,  0.01633642  0.18128182\n",
      "   0.79708354]\n",
      " [ 1.12337338 -0.16810508 -0.35258386 ...,  0.15044459  0.37648424\n",
      "   0.7375353 ]\n",
      " ..., \n",
      " [-0.4621513  -0.55516156  2.29471478 ...,  0.19154957  0.10198133\n",
      "  -0.04036908]\n",
      " [-0.45455101  1.01668573  0.82543053 ..., -0.38511562 -0.43648176\n",
      "   0.60075617]\n",
      " [-0.94697582  0.59932684 -0.02381441 ...,  0.08982822  1.03368574\n",
      "   1.70103124]]\n",
      "8.881784197e-18\n"
     ]
    }
   ],
   "source": [
    "data_new_scaled = preprocessing.scale(data_new, axis = 0)\n",
    "print data_new_scaled\n",
    "print np.mean(data_new_scaled[:,1])"
   ]
  },
  {
   "cell_type": "code",
   "execution_count": 144,
   "metadata": {
    "collapsed": false
   },
   "outputs": [
    {
     "name": "stdout",
     "output_type": "stream",
     "text": [
      "[[ 1.49215436  1.06795382  0.8867889  ..., -1.25069165 -1.25964439\n",
      "  -1.30855417]\n",
      " [ 2.04168749  1.70110643  1.37543643 ...,  0.86380476  1.71469605\n",
      "   1.89812517]\n",
      " [-0.15644522 -0.46034566 -0.557908   ...,  2.05320907  2.00762343\n",
      "   1.32550371]\n",
      " ..., \n",
      " [ 0.87392962  0.89329088  0.9292801  ..., -0.76611954 -0.58365798\n",
      "  -0.64431345]\n",
      " [ 0.66785467  0.45663413  0.29191381 ...,  0.77570087  0.67818344\n",
      "   0.70707279]\n",
      " [-0.01906195 -0.35118148 -0.68538123 ...,  0.26910269 -0.24566476\n",
      "  -0.07169213]]\n",
      "-2.38419e-08\n"
     ]
    }
   ],
   "source": [
    "data_scaled = preprocessing.scale(data, axis = 0)\n",
    "print data_scaled\n",
    "print np.mean(data_scaled[:,1])"
   ]
  },
  {
   "cell_type": "code",
   "execution_count": 145,
   "metadata": {
    "collapsed": false
   },
   "outputs": [
    {
     "name": "stdout",
     "output_type": "stream",
     "text": [
      "(400L, 10L)\n",
      "400\n"
     ]
    }
   ],
   "source": [
    "data_new_scaled_main = data_new_scaled[:,:10]\n",
    "print data_new_scaled_main.shape\n",
    "print data_new_scaled_main.shape[0]"
   ]
  },
  {
   "cell_type": "code",
   "execution_count": 146,
   "metadata": {
    "collapsed": false
   },
   "outputs": [
    {
     "name": "stdout",
     "output_type": "stream",
     "text": [
      "(400L, 10L)\n",
      "[[  5.08953919e-03   2.23476062e-01   1.40925203e-01 ...,   4.18868246e-01\n",
      "    5.85288057e-03   3.95718230e-02]\n",
      " [  7.43641252e-02   1.51002948e-02   4.38018340e-01 ...,   9.65311774e-03\n",
      "    6.94424760e-02   1.69121418e-02]\n",
      " [  7.53986428e-02   1.68840614e-03   7.42745667e-03 ...,   5.99112937e-02\n",
      "    1.75200384e-01   1.18794522e-01]\n",
      " ..., \n",
      " [  1.82394683e-02   2.63197994e-02   4.49677579e-01 ...,   2.26771798e-02\n",
      "    1.31639652e-01   1.42326919e-01]\n",
      " [  2.68087801e-02   1.34117443e-01   8.84041934e-02 ...,   4.17279483e-02\n",
      "    5.56779828e-02   9.92597692e-02]\n",
      " [  1.74620926e-01   6.99432745e-02   1.10432854e-04 ...,   1.04864077e-01\n",
      "    5.87392995e-02   2.35308983e-01]]\n"
     ]
    }
   ],
   "source": [
    "sum_i = 0\n",
    "components_impact = np.zeros(data_new_scaled_main.shape)\n",
    "for i in range(0, data_new_scaled_main.shape[0]):\n",
    "    sum_i = 0\n",
    "    for j in range(0, data_new_scaled_main.shape[1]):\n",
    "        sum_i += np.power(np.absolute(data_new_scaled_main[i,j]), 2)\n",
    "    for j in range(0, data_new_scaled_main.shape[1]):\n",
    "        components_impact[i,j] = np.power(np.absolute(data_new_scaled_main[i,j]), 2) / sum_i\n",
    "\n",
    "print components_impact.shape\n",
    "print components_impact"
   ]
  },
  {
   "cell_type": "code",
   "execution_count": 147,
   "metadata": {
    "collapsed": false
   },
   "outputs": [
    {
     "name": "stdout",
     "output_type": "stream",
     "text": [
      "1.0\n",
      "1.0\n",
      "1.0\n",
      "1.0\n",
      "1.0\n",
      "1.0\n",
      "1.0\n",
      "1.0\n",
      "1.0\n",
      "1.0\n",
      "1.0\n",
      "1.0\n",
      "1.0\n",
      "1.0\n",
      "1.0\n",
      "1.0\n",
      "1.0\n",
      "1.0\n",
      "1.0\n",
      "1.0\n",
      "1.0\n",
      "1.0\n",
      "1.0\n",
      "1.0\n",
      "1.0\n",
      "1.0\n",
      "1.0\n",
      "1.0\n",
      "1.0\n",
      "1.0\n",
      "1.0\n",
      "1.0\n",
      "1.0\n",
      "1.0\n",
      "1.0\n",
      "1.0\n",
      "1.0\n",
      "1.0\n",
      "1.0\n",
      "1.0\n",
      "1.0\n",
      "1.0\n",
      "1.0\n",
      "1.0\n",
      "1.0\n",
      "1.0\n",
      "1.0\n",
      "1.0\n",
      "1.0\n",
      "1.0\n",
      "1.0\n",
      "1.0\n",
      "1.0\n",
      "1.0\n",
      "1.0\n",
      "1.0\n",
      "1.0\n",
      "1.0\n",
      "1.0\n",
      "1.0\n",
      "1.0\n",
      "1.0\n",
      "1.0\n",
      "1.0\n",
      "1.0\n",
      "1.0\n",
      "1.0\n",
      "1.0\n",
      "1.0\n",
      "1.0\n",
      "1.0\n",
      "1.0\n",
      "1.0\n",
      "1.0\n",
      "1.0\n",
      "1.0\n",
      "1.0\n",
      "1.0\n",
      "1.0\n",
      "1.0\n",
      "1.0\n",
      "1.0\n",
      "1.0\n",
      "1.0\n",
      "1.0\n",
      "1.0\n",
      "1.0\n",
      "1.0\n",
      "1.0\n",
      "1.0\n",
      "1.0\n",
      "1.0\n",
      "1.0\n",
      "1.0\n",
      "1.0\n",
      "1.0\n",
      "1.0\n",
      "1.0\n",
      "1.0\n",
      "1.0\n",
      "1.0\n",
      "1.0\n",
      "1.0\n",
      "1.0\n",
      "1.0\n",
      "1.0\n",
      "1.0\n",
      "1.0\n",
      "1.0\n",
      "1.0\n",
      "1.0\n",
      "1.0\n",
      "1.0\n",
      "1.0\n",
      "1.0\n",
      "1.0\n",
      "1.0\n",
      "1.0\n",
      "1.0\n",
      "1.0\n",
      "1.0\n",
      "1.0\n",
      "1.0\n",
      "1.0\n",
      "1.0\n",
      "1.0\n",
      "1.0\n",
      "1.0\n",
      "1.0\n",
      "1.0\n",
      "1.0\n",
      "1.0\n",
      "1.0\n",
      "1.0\n",
      "1.0\n",
      "1.0\n",
      "1.0\n",
      "1.0\n",
      "1.0\n",
      "1.0\n",
      "1.0\n",
      "1.0\n",
      "1.0\n",
      "1.0\n",
      "1.0\n",
      "1.0\n",
      "1.0\n",
      "1.0\n",
      "1.0\n",
      "1.0\n",
      "1.0\n",
      "1.0\n",
      "1.0\n",
      "1.0\n",
      "1.0\n",
      "1.0\n",
      "1.0\n",
      "1.0\n",
      "1.0\n",
      "1.0\n",
      "1.0\n",
      "1.0\n",
      "1.0\n",
      "1.0\n",
      "1.0\n",
      "1.0\n",
      "1.0\n",
      "1.0\n",
      "1.0\n",
      "1.0\n",
      "1.0\n",
      "1.0\n",
      "1.0\n",
      "1.0\n",
      "1.0\n",
      "1.0\n",
      "1.0\n",
      "1.0\n",
      "1.0\n",
      "1.0\n",
      "1.0\n",
      "1.0\n",
      "1.0\n",
      "1.0\n",
      "1.0\n",
      "1.0\n",
      "1.0\n",
      "1.0\n",
      "1.0\n",
      "1.0\n",
      "1.0\n",
      "1.0\n",
      "1.0\n",
      "1.0\n",
      "1.0\n",
      "1.0\n",
      "1.0\n",
      "1.0\n",
      "1.0\n",
      "1.0\n",
      "1.0\n",
      "1.0\n",
      "1.0\n",
      "1.0\n",
      "1.0\n",
      "1.0\n",
      "1.0\n",
      "1.0\n",
      "1.0\n",
      "1.0\n",
      "1.0\n",
      "1.0\n",
      "1.0\n",
      "1.0\n",
      "1.0\n",
      "1.0\n",
      "1.0\n",
      "1.0\n",
      "1.0\n",
      "1.0\n",
      "1.0\n",
      "1.0\n",
      "1.0\n",
      "1.0\n",
      "1.0\n",
      "1.0\n",
      "1.0\n",
      "1.0\n",
      "1.0\n",
      "1.0\n",
      "1.0\n",
      "1.0\n",
      "1.0\n",
      "1.0\n",
      "1.0\n",
      "1.0\n",
      "1.0\n",
      "1.0\n",
      "1.0\n",
      "1.0\n",
      "1.0\n",
      "1.0\n",
      "1.0\n",
      "1.0\n",
      "1.0\n",
      "1.0\n",
      "1.0\n",
      "1.0\n",
      "1.0\n",
      "1.0\n",
      "1.0\n",
      "1.0\n",
      "1.0\n",
      "1.0\n",
      "1.0\n",
      "1.0\n",
      "1.0\n",
      "1.0\n",
      "1.0\n",
      "1.0\n",
      "1.0\n",
      "1.0\n",
      "1.0\n",
      "1.0\n",
      "1.0\n",
      "1.0\n",
      "1.0\n",
      "1.0\n",
      "1.0\n",
      "1.0\n",
      "1.0\n",
      "1.0\n",
      "1.0\n",
      "1.0\n",
      "1.0\n",
      "1.0\n",
      "1.0\n",
      "1.0\n",
      "1.0\n",
      "1.0\n",
      "1.0\n",
      "1.0\n",
      "1.0\n",
      "1.0\n",
      "1.0\n",
      "1.0\n",
      "1.0\n",
      "1.0\n",
      "1.0\n",
      "1.0\n",
      "1.0\n",
      "1.0\n",
      "1.0\n",
      "1.0\n",
      "1.0\n",
      "1.0\n",
      "1.0\n",
      "1.0\n",
      "1.0\n",
      "1.0\n",
      "1.0\n",
      "1.0\n",
      "1.0\n",
      "1.0\n",
      "1.0\n",
      "1.0\n",
      "1.0\n",
      "1.0\n",
      "1.0\n",
      "1.0\n",
      "1.0\n",
      "1.0\n",
      "1.0\n",
      "1.0\n",
      "1.0\n",
      "1.0\n",
      "1.0\n",
      "1.0\n",
      "1.0\n",
      "1.0\n",
      "1.0\n",
      "1.0\n",
      "1.0\n",
      "1.0\n",
      "1.0\n",
      "1.0\n",
      "1.0\n",
      "1.0\n",
      "1.0\n",
      "1.0\n",
      "1.0\n",
      "1.0\n",
      "1.0\n",
      "1.0\n",
      "1.0\n",
      "1.0\n",
      "1.0\n",
      "1.0\n",
      "1.0\n",
      "1.0\n",
      "1.0\n",
      "1.0\n",
      "1.0\n",
      "1.0\n",
      "1.0\n",
      "1.0\n",
      "1.0\n",
      "1.0\n",
      "1.0\n",
      "1.0\n",
      "1.0\n",
      "1.0\n",
      "1.0\n",
      "1.0\n",
      "1.0\n",
      "1.0\n",
      "1.0\n",
      "1.0\n",
      "1.0\n",
      "1.0\n",
      "1.0\n",
      "1.0\n",
      "1.0\n",
      "1.0\n",
      "1.0\n",
      "1.0\n",
      "1.0\n",
      "1.0\n",
      "1.0\n",
      "1.0\n",
      "1.0\n",
      "1.0\n",
      "1.0\n",
      "1.0\n",
      "1.0\n",
      "1.0\n",
      "1.0\n",
      "1.0\n",
      "1.0\n",
      "1.0\n",
      "1.0\n",
      "1.0\n",
      "1.0\n",
      "1.0\n",
      "1.0\n",
      "1.0\n",
      "1.0\n",
      "1.0\n",
      "1.0\n",
      "1.0\n",
      "1.0\n",
      "1.0\n",
      "1.0\n",
      "1.0\n",
      "1.0\n",
      "1.0\n",
      "1.0\n",
      "1.0\n",
      "1.0\n",
      "1.0\n"
     ]
    }
   ],
   "source": [
    "for i in range(0, data_new_scaled_main.shape[0]):\n",
    "    print(sum(components_impact[i,:]))"
   ]
  },
  {
   "cell_type": "code",
   "execution_count": 148,
   "metadata": {
    "collapsed": false
   },
   "outputs": [
    {
     "name": "stdout",
     "output_type": "stream",
     "text": [
      "[ 378.   18.  276.  255.  363.  131.   10.  382.  370.  140.]\n"
     ]
    },
    {
     "data": {
      "image/png": "[encoded data removed]",
      "text/plain": [
       "<matplotlib.figure.Figure at 0xb9d7240>"
      ]
     },
     "metadata": {},
     "output_type": "display_data"
    }
   ],
   "source": [
    "argmax_faces = np.zeros(data_new_scaled_main.shape[1])\n",
    "for j in range(0, data_new_scaled_main.shape[1]):\n",
    "    argmax_faces[j] = np.argmax(components_impact[:,j])\n",
    "\n",
    "print argmax_faces\n",
    "\n",
    "for j in range(0, data_new_scaled_main.shape[1]):\n",
    "    image = data[j,:]\n",
    "    plt.imshow(image.reshape(image_shape))"
   ]
  },
  {
   "cell_type": "code",
   "execution_count": 151,
   "metadata": {
    "collapsed": false
   },
   "outputs": [],
   "source": [
    "list_pc = np.sort(list(map(lambda x:np.int(x), argmax_faces)))\n",
    "write_answer_4(list_pc)"
   ]
  },
  {
   "cell_type": "markdown",
   "metadata": {},
   "source": [
    "## Анализ основных недостатков метода главных компонент\n",
    "\n",
    "Рассмотренные выше задачи являются, безусловно, модельными, потому что данные для них были сгенерированы в соответствии с предположениями метода главных компонент. На практике эти предположения, естественно, выполняются далеко не всегда. Рассмотрим типичные ошибки PCA, которые следует иметь в виду перед тем, как его применять."
   ]
  },
  {
   "cell_type": "markdown",
   "metadata": {},
   "source": [
    "### Направления с максимальной дисперсией в данных неортогональны\n",
    "\n",
    "Рассмотрим случай выборки, которая сгенерирована из двух вытянутых нормальных распределений:"
   ]
  },
  {
   "cell_type": "code",
   "execution_count": 152,
   "metadata": {
    "collapsed": false
   },
   "outputs": [
    {
     "data": {
      "image/png": "[encoded data removed]",
      "text/plain": [
       "<matplotlib.figure.Figure at 0x9ae1400>"
      ]
     },
     "metadata": {},
     "output_type": "display_data"
    }
   ],
   "source": [
    "C1 = np.array([[10,0],[0,0.5]])\n",
    "phi = np.pi/3\n",
    "C2 = np.dot(C1, np.array([[np.cos(phi), np.sin(phi)],\n",
    "                          [-np.sin(phi),np.cos(phi)]]))\n",
    "\n",
    "data = np.vstack([np.random.multivariate_normal(mu, C1, size=50),\n",
    "                  np.random.multivariate_normal(mu, C2, size=50)])\n",
    "plt.scatter(data[:,0], data[:,1])\n",
    "# построим истинные интересующие нас компоненты\n",
    "plt.plot(data[:,0], np.zeros(data[:,0].size), color=\"g\")\n",
    "plt.plot(data[:,0], 3**0.5*data[:,0], color=\"g\")\n",
    "# обучим модель pca и построим главные компоненты\n",
    "model = PCA(n_components=2)\n",
    "model.fit(data)\n",
    "plot_principal_components(data, model, scatter=False, legend=False)\n",
    "c_patch = mpatches.Patch(color='c', label='Principal components')\n",
    "plt.legend(handles=[g_patch, c_patch])\n",
    "plt.draw()"
   ]
  },
  {
   "cell_type": "markdown",
   "metadata": {},
   "source": [
    "В чём проблема, почему pca здесь работает плохо? Ответ прост: интересующие нас компоненты в данных коррелированны между собой (или неортогональны, в зависимости от того, какой терминологией пользоваться). Для поиска подобных преобразований требуются более сложные методы, которые уже выходят за рамки метода главных компонент.\n",
    "\n",
    "Для интересующихся: то, что можно применить непосредственно к выходу метода главных компонент, для получения подобных неортогональных преобразований, называется методами ротации. Почитать о них можно в связи с другим методом уменьшения размерности, который называется Factor Analysis (FA), но ничего не мешает их применять и к главным компонентам."
   ]
  },
  {
   "cell_type": "markdown",
   "metadata": {},
   "source": [
    "### Интересное направление в данных не совпадает с направлением максимальной дисперсии\n",
    "\n",
    "Рассмотрим пример, когда дисперсии не отражают интересующих нас направлений в данных:"
   ]
  },
  {
   "cell_type": "code",
   "execution_count": 153,
   "metadata": {
    "collapsed": false
   },
   "outputs": [
    {
     "data": {
      "image/png": "[encoded data removed]",
      "text/plain": [
       "<matplotlib.figure.Figure at 0xd0794a8>"
      ]
     },
     "metadata": {},
     "output_type": "display_data"
    }
   ],
   "source": [
    "C = np.array([[0.5,0],[0,10]])\n",
    "mu1 = np.array([-2,0])\n",
    "mu2 = np.array([2,0])\n",
    "\n",
    "data = np.vstack([np.random.multivariate_normal(mu1, C, size=50),\n",
    "                  np.random.multivariate_normal(mu2, C, size=50)])\n",
    "plt.scatter(data[:,0], data[:,1])\n",
    "# обучим модель pca и построим главные компоненты\n",
    "model = PCA(n_components=2)\n",
    "model.fit(data)\n",
    "plot_principal_components(data, model)\n",
    "plt.draw()"
   ]
  },
  {
   "cell_type": "markdown",
   "metadata": {},
   "source": [
    "Очевидно, что в данном случае метод главных компонент будет считать вертикальную компоненту более значимой для описания набора данных, чем горизонтальную. \n",
    "\n",
    "Но, например, в случае, когда данные из левого и правого кластера относятся к разным классам, для их линейной разделимости вертикальная компонента является шумовой. Несмотря на это, её метод главных компонент никогда шумовой не признает, и есть вероятность, что отбор признаков с его помощью выкинет из ваших данных значимые для решаемой вами задачи компоненты просто потому, что вдоль них значения имеют низкую дисперсию.\n",
    "\n",
    "Справляться с такими ситуациями могут некоторые другие методы уменьшения размерности данных, например, метод независимых компонент (Independent Component Analysis, ICA)."
   ]
  }
 ],
 "metadata": {
  "anaconda-cloud": {},
  "kernelspec": {
   "display_name": "Python 2",
   "language": "python",
   "name": "python2"
  },
  "language_info": {
   "codemirror_mode": {
    "name": "ipython",
    "version": 2
   },
   "file_extension": ".py",
   "mimetype": "text/x-python",
   "name": "python",
   "nbconvert_exporter": "python",
   "pygments_lexer": "ipython2",
   "version": "2.7.12"
  }
 },
 "nbformat": 4,
 "nbformat_minor": 0
}

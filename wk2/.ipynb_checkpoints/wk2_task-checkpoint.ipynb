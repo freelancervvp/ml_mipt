{
 "cells": [
  {
   "cell_type": "code",
   "execution_count": 12,
   "metadata": {
    "collapsed": true
   },
   "outputs": [],
   "source": [
    "import numpy as np\n",
    "import re\n",
    "import scipy.spatial"
   ]
  },
  {
   "cell_type": "code",
   "execution_count": 3,
   "metadata": {
    "collapsed": false
   },
   "outputs": [
    {
     "name": "stdout",
     "output_type": "stream",
     "text": [
      "['In comparison to dogs, cats have not undergone major changes during the domestication process.\\n', 'As cat simply catenates streams of bytes, it can be also used to concatenate binary files, where it will just concatenate sequence of bytes.\\n', 'A common interactive use of cat for a single file is to output the content of a file to standard output.\\n']\n"
     ]
    }
   ],
   "source": [
    "file_obj = open('sentences.txt')\n",
    "data_list = list(file_obj)\n",
    "print(data_list[:3])"
   ]
  },
  {
   "cell_type": "code",
   "execution_count": 4,
   "metadata": {
    "collapsed": true
   },
   "outputs": [],
   "source": [
    "data_list = list(map(lambda x: x.lower() , data_list))"
   ]
  },
  {
   "cell_type": "code",
   "execution_count": 5,
   "metadata": {
    "collapsed": false
   },
   "outputs": [
    {
     "name": "stdout",
     "output_type": "stream",
     "text": [
      "['in comparison to dogs, cats have not undergone major changes during the domestication process.\\n', 'as cat simply catenates streams of bytes, it can be also used to concatenate binary files, where it will just concatenate sequence of bytes.\\n', 'a common interactive use of cat for a single file is to output the content of a file to standard output.\\n']\n"
     ]
    }
   ],
   "source": [
    "print(data_list[:3])"
   ]
  },
  {
   "cell_type": "code",
   "execution_count": 6,
   "metadata": {
    "collapsed": false
   },
   "outputs": [
    {
     "name": "stdout",
     "output_type": "stream",
     "text": [
      "22\n",
      "[['in', 'comparison', 'to', 'dogs', '', 'cats', 'have', 'not', 'undergone', 'major', 'changes', 'during', 'the', 'domestication', 'process', '', ''], ['as', 'cat', 'simply', 'catenates', 'streams', 'of', 'bytes', '', 'it', 'can', 'be', 'also', 'used', 'to', 'concatenate', 'binary', 'files', '', 'where', 'it', 'will', 'just', 'concatenate', 'sequence', 'of', 'bytes', '', ''], ['a', 'common', 'interactive', 'use', 'of', 'cat', 'for', 'a', 'single', 'file', 'is', 'to', 'output', 'the', 'content', 'of', 'a', 'file', 'to', 'standard', 'output', '', '']]\n"
     ]
    }
   ],
   "source": [
    "words = list(map(lambda x: re.split('[^a-z]', x), data_list))\n",
    "print(len(words))\n",
    "print(words[:3])"
   ]
  },
  {
   "cell_type": "code",
   "execution_count": 7,
   "metadata": {
    "collapsed": false
   },
   "outputs": [
    {
     "name": "stdout",
     "output_type": "stream",
     "text": [
      "635\n",
      "['in', 'comparison', 'to', 'dogs', '', 'cats', 'have', 'not', 'undergone', 'major', 'changes', 'during', 'the', 'domestication', 'process', '', '', 'as', 'cat', 'simply', 'catenates', 'streams', 'of', 'bytes', '', 'it', 'can', 'be', 'also', 'used', 'to', 'concatenate', 'binary', 'files', '', 'where', 'it', 'will', 'just', 'concatenate', 'sequence', 'of', 'bytes', '', '', 'a', 'common', 'interactive', 'use', 'of', 'cat', 'for', 'a', 'single', 'file', 'is', 'to', 'output', 'the', 'content', 'of', 'a', 'file', 'to', 'standard', 'output', '', '', 'cats', 'can', 'hear', 'sounds', 'too', 'faint', 'or', 'too', 'high', 'in', 'frequency', 'for', 'human', 'ears', '', 'such', 'as', 'those', 'made', 'by', 'mice', 'and', 'other', 'small', 'animals', '', '', 'in', 'one', '', 'people', 'deliberately', 'tamed', 'cats', 'in', 'a', 'process', 'of', 'artificial', 'selection', '', 'as', 'they', 'were', 'useful', 'predators', 'of', 'vermin', '', '', 'the', 'domesticated', 'cat', 'and', 'its', 'closest', 'wild', 'ancestor', 'are', 'both', 'diploid', 'organisms', 'that', 'possess', '', '', '', 'chromosomes', 'and', 'roughly', '', '', '', '', '', '', '', 'genes', '', '', 'domestic', 'cats', 'are', 'similar', 'in', 'size', 'to', 'the', 'other', 'members', 'of', 'the', 'genus', 'felis', '', 'typically', 'weighing', 'between', '', '', 'and', '', '', 'kg', '', '', '', '', '', 'and', '', '', '', '', '', 'lb', '', '', '', 'however', '', 'if', 'the', 'output', 'is', 'piped', 'or', 'redirected', '', 'cat', 'is', 'unnecessary', '', '', 'cat', 'with', 'one', 'named', 'file', 'is', 'safer', 'where', 'human', 'error', 'is', 'a', 'concern', '', '', 'one', 'wrong', 'use', 'of', 'the', 'default', 'redirection', 'symbol', '', '', '', '', 'instead', 'of', '', '', '', '', '', 'often', 'adjacent', 'on', 'keyboards', '', 'may', 'permanently', 'delete', 'the', 'file', 'you', 'were', 'just', 'needing', 'to', 'read', '', '', 'in', 'terms', 'of', 'legibility', '', 'a', 'sequence', 'of', 'commands', 'starting', 'with', 'cat', 'and', 'connected', 'by', 'pipes', 'has', 'a', 'clear', 'left', 'to', 'right', 'flow', 'of', 'information', '', '', 'cat', 'command', 'is', 'one', 'of', 'the', 'basic', 'commands', 'that', 'you', 'learned', 'when', 'you', 'started', 'in', 'the', 'unix', '', '', 'linux', 'world', '', '', 'using', 'cat', 'command', '', 'the', 'lines', 'received', 'from', 'stdin', 'can', 'be', 'redirected', 'to', 'a', 'new', 'file', 'using', 'redirection', 'symbols', '', '', 'when', 'you', 'type', 'simply', 'cat', 'command', 'without', 'any', 'arguments', '', 'it', 'just', 'receives', 'the', 'stdin', 'content', 'and', 'displays', 'it', 'in', 'the', 'stdout', '', '', 'leopard', 'was', 'released', 'on', 'october', '', '', '', '', '', '', '', '', '', 'as', 'the', 'successor', 'of', 'tiger', '', 'version', '', '', '', '', '', '', '', 'and', 'is', 'available', 'in', 'two', 'editions', '', '', 'according', 'to', 'apple', '', 'leopard', 'contains', 'over', '', '', '', '', 'changes', 'and', 'enhancements', 'over', 'its', 'predecessor', '', 'mac', 'os', 'x', 'tiger', '', '', 'as', 'of', 'mid', '', '', '', '', '', '', 'some', 'apple', 'computers', 'have', 'firmware', 'factory', 'installed', 'which', 'will', 'no', 'longer', 'allow', 'installation', 'of', 'mac', 'os', 'x', 'leopard', '', '', 'since', 'apple', 'moved', 'to', 'using', 'intel', 'processors', 'in', 'their', 'computers', '', 'the', 'osx', '', '', 'community', 'has', 'developed', 'and', 'now', 'also', 'allows', 'mac', 'os', 'x', 'tiger', 'and', 'later', 'releases', 'to', 'be', 'installed', 'on', 'non', 'apple', 'x', '', '', 'based', 'computers', '', '', 'os', 'x', 'mountain', 'lion', 'was', 'released', 'on', 'july', '', '', '', '', '', '', '', '', '', 'for', 'purchase', 'and', 'download', 'through', 'apple', 's', 'mac', 'app', 'store', '', 'as', 'part', 'of', 'a', 'switch', 'to', 'releasing', 'os', 'x', 'versions', 'online', 'and', 'every', 'year', '', '', 'apple', 'has', 'released', 'a', 'small', 'patch', 'for', 'the', 'three', 'most', 'recent', 'versions', 'of', 'safari', 'running', 'on', 'os', 'x', 'yosemite', '', 'mavericks', '', 'and', 'mountain', 'lion', '', '', 'the', 'mountain', 'lion', 'release', 'marks', 'the', 'second', 'time', 'apple', 'has', 'offered', 'an', 'incremental', 'upgrade', '', 'rather', 'than', 'releasing', 'a', 'new', 'cat', 'entirely', '', '', 'mac', 'os', 'x', 'mountain', 'lion', 'installs', 'in', 'place', '', 'so', 'you', 'won', 't', 'need', 'to', 'create', 'a', 'separate', 'disk', 'or', 'run', 'the', 'installation', 'off', 'an', 'external', 'drive', '', '', 'the', 'fifth', 'major', 'update', 'to', 'mac', 'os', 'x', '', 'leopard', '', 'contains', 'such', 'a', 'mountain', 'of', 'features', '', '', 'more', 'than', '', '', '', '', 'by', 'apple', 's', 'count', '', '']\n"
     ]
    }
   ],
   "source": [
    "all_words = list()\n",
    "for w in words:\n",
    "    for l in w:\n",
    "        all_words.append(l)\n",
    "print(len(all_words))\n",
    "print(all_words)"
   ]
  },
  {
   "cell_type": "code",
   "execution_count": 8,
   "metadata": {
    "collapsed": false
   },
   "outputs": [],
   "source": [
    "#for w in all_words:\n",
    "#    all_words.remove('')\n",
    "#print(len(all_words))\n",
    "#print(all_words)"
   ]
  },
  {
   "cell_type": "code",
   "execution_count": 9,
   "metadata": {
    "collapsed": false
   },
   "outputs": [
    {
     "name": "stdout",
     "output_type": "stream",
     "text": [
      "254\n",
      "{'x': 0, 'instead': 1, 'redirected': 2, 'single': 3, 'pipes': 4, 'other': 5, 'mac': 6, 'some': 7, 'which': 8, 'unix': 9, 'genus': 10, 'such': 11, 'any': 12, 'have': 13, 'now': 14, 'later': 15, 'apple': 16, 'selection': 17, 'july': 18, 'recent': 19, 'can': 20, 'useful': 21, 'features': 22, 'cat': 23, 'one': 24, 'when': 25, 'domesticated': 26, 'where': 27, 'between': 28, 'enhancements': 29, 'wild': 30, 'during': 31, 'allows': 32, 'predecessor': 33, 'update': 34, 'sounds': 35, 'both': 36, 'as': 37, 'longer': 38, 'changes': 39, 'moved': 40, 'purchase': 41, 'in': 42, 'sequence': 43, 'was': 44, 'run': 45, 'create': 46, 'flow': 47, 'simply': 48, 'installs': 49, 'processors': 50, 'also': 51, 'year': 52, 'upgrade': 53, 'may': 54, 'displays': 55, 'high': 56, 'weighing': 57, 'mavericks': 58, 'they': 59, 'stdout': 60, 'lines': 61, 'mid': 62, 'bytes': 63, 'or': 64, 'process': 65, 'hear': 66, 'learned': 67, 'is': 68, 'interactive': 69, 'patch': 70, 'stdin': 71, 'allow': 72, 'major': 73, 'non': 74, 'just': 75, 'information': 76, 'undergone': 77, 'tiger': 78, 'members': 79, 'safer': 80, 'too': 81, 'symbols': 82, 'use': 83, 'needing': 84, 'named': 85, 'through': 86, 'every': 87, 'external': 88, 'permanently': 89, 'if': 90, 'lb': 91, 'clear': 92, 'linux': 93, 'commands': 94, 'similar': 95, 'people': 96, 'lion': 97, 'time': 98, 'not': 99, 'deliberately': 100, 'according': 101, 'connected': 102, 'installed': 103, 'artificial': 104, 'its': 105, 'releases': 106, 'without': 107, 'symbol': 108, 'of': 109, 'based': 110, 'over': 111, 'won': 112, 'frequency': 113, 'dogs': 114, 'most': 115, 'domestication': 116, 'no': 117, 'chromosomes': 118, 'used': 119, 'genes': 120, 'cats': 121, 'world': 122, 'wrong': 123, 't': 124, 'disk': 125, 'it': 126, 'intel': 127, 'need': 128, 'files': 129, 'starting': 130, 'incremental': 131, 'firmware': 132, 'developed': 133, 'entirely': 134, 'for': 135, 'has': 136, 'place': 137, 'more': 138, 'so': 139, 'kg': 140, 'their': 141, 'mountain': 142, 'marks': 143, 'download': 144, 'diploid': 145, 's': 146, 'with': 147, 'right': 148, 'osx': 149, 'rather': 150, 'the': 151, 'read': 152, 'adjacent': 153, 'factory': 154, 'on': 155, 'were': 156, 'os': 157, 'will': 158, 'vermin': 159, 'successor': 160, 'drive': 161, 'binary': 162, 'often': 163, 'roughly': 164, 'two': 165, 'that': 166, 'part': 167, 'made': 168, 'typically': 169, 'an': 170, 'new': 171, 'you': 172, 'installation': 173, 'type': 174, 'editions': 175, 'to': 176, 'safari': 177, 'file': 178, 'unnecessary': 179, 'small': 180, 'fifth': 181, 'count': 182, 'leopard': 183, 'those': 184, 'available': 185, 'releasing': 186, 'using': 187, 'offered': 188, 'error': 189, 'mice': 190, 'however': 191, 'october': 192, 'redirection': 193, 'arguments': 194, 'predators': 195, 'and': 196, 'felis': 197, 'store': 198, 'possess': 199, 'are': 200, 'delete': 201, 'from': 202, 'standard': 203, 'contains': 204, 'ears': 205, 'switch': 206, 'yosemite': 207, 'legibility': 208, 'human': 209, 'since': 210, 'output': 211, 'faint': 212, 'online': 213, 'a': 214, 'released': 215, 'running': 216, 'by': 217, 'left': 218, 'separate': 219, 'than': 220, 'tamed': 221, 'closest': 222, 'second': 223, 'animals': 224, 'three': 225, 'computers': 226, 'default': 227, 'basic': 228, 'community': 229, 'ancestor': 230, 'content': 231, 'versions': 232, 'streams': 233, 'terms': 234, 'concern': 235, 'version': 236, 'receives': 237, 'concatenate': 238, 'common': 239, 'off': 240, 'piped': 241, 'organisms': 242, 'be': 243, 'comparison': 244, 'catenates': 245, 'command': 246, 'app': 247, 'started': 248, 'keyboards': 249, 'size': 250, 'domestic': 251, 'received': 252, 'release': 253}\n"
     ]
    }
   ],
   "source": [
    "words_dict = dict()\n",
    "for w in all_words:\n",
    "    if w != '':\n",
    "        words_dict[w] = 0\n",
    "i = -1\n",
    "for w in words_dict:\n",
    "    # words_dict[w] = words_dict[w] + 1\n",
    "    i += 1\n",
    "    words_dict[w] = i\n",
    "print(len(words_dict))        \n",
    "print(words_dict)"
   ]
  },
  {
   "cell_type": "code",
   "execution_count": 10,
   "metadata": {
    "collapsed": false
   },
   "outputs": [
    {
     "name": "stdout",
     "output_type": "stream",
     "text": [
      "[[ 0.  0.  0.  0.  0.  0.  0.  0.  0.  0.  0.  0.  0.  1.  0.]\n",
      " [ 0.  0.  0.  0.  0.  0.  0.  0.  0.  0.  0.  0.  0.  0.  0.]\n",
      " [ 0.  0.  0.  1.  0.  0.  0.  0.  0.  0.  0.  0.  0.  0.  0.]\n",
      " [ 0.  0.  0.  0.  0.  1.  0.  0.  0.  0.  0.  1.  0.  0.  0.]\n",
      " [ 0.  0.  0.  0.  0.  0.  0.  0.  0.  0.  0.  0.  0.  0.  0.]\n",
      " [ 0.  0.  0.  0.  0.  0.  0.  0.  0.  0.  0.  0.  0.  0.  0.]\n",
      " [ 0.  0.  0.  0.  0.  1.  0.  0.  0.  0.  1.  0.  0.  0.  0.]\n",
      " [ 0.  0.  1.  0.  0.  0.  0.  0.  0.  0.  0.  0.  0.  0.  0.]\n",
      " [ 0.  1.  0.  0.  0.  0.  0.  0.  0.  0.  0.  0.  0.  0.  0.]\n",
      " [ 0.  0.  0.  0.  1.  0.  0.  0.  0.  0.  0.  0.  0.  0.  0.]\n",
      " [ 0.  0.  0.  0.  0.  0.  0.  0.  0.  1.  0.  0.  0.  0.  0.]\n",
      " [ 0.  0.  1.  0.  0.  0.  0.  0.  0.  0.  0.  0.  0.  0.  0.]\n",
      " [ 0.  0.  0.  0.  0.  0.  0.  0.  0.  0.  0.  0.  1.  0.  0.]\n",
      " [ 0.  0.  0.  0.  0.  0.  0.  0.  0.  0.  0.  0.  0.  0.  0.]\n",
      " [ 1.  0.  0.  0.  0.  0.  1.  0.  0.  0.  0.  0.  0.  0.  0.]]\n"
     ]
    }
   ],
   "source": [
    "words_dist = np.zeros((len(words), len(words_dict)))\n",
    "\n",
    "for i in range(len(words)):\n",
    "    for j in range(len(words[i])):\n",
    "        if words[i][j] != '':\n",
    "            words_dist[i, words_dict[words[i][j]]] = words_dist[i, words_dict[words[i][j]]] + 1\n",
    "            \n",
    "print(words_dist[:15,:15])"
   ]
  },
  {
   "cell_type": "code",
   "execution_count": 29,
   "metadata": {
    "collapsed": false
   },
   "outputs": [
    {
     "name": "stdout",
     "output_type": "stream",
     "text": [
      "[ 0.          0.95275444  0.86447381  0.89517152  0.77708871  0.94023857\n",
      "  0.73273876  0.92587507  0.88427249  0.90550888  0.83281654  0.88047714\n",
      "  0.83964325  0.87035926  0.87401184  0.94427218  0.84063619  0.9566445\n",
      "  0.94427218  0.88854436  0.84275727  0.82503645]\n"
     ]
    }
   ],
   "source": [
    "dist = np.zeros(22)\n",
    "for i in range(len(words)):\n",
    "    dist[i] = scipy.spatial.distance.cosine(words_dist[0], words_dist[i])\n",
    "    \n",
    "print(dist)"
   ]
  },
  {
   "cell_type": "code",
   "execution_count": 34,
   "metadata": {
    "collapsed": false
   },
   "outputs": [
    {
     "data": {
      "text/plain": [
       "array([ 0.        ,  0.73273876,  0.77708871,  0.82503645,  0.83281654,\n",
       "        0.83964325,  0.84063619,  0.84275727,  0.86447381,  0.87035926,\n",
       "        0.87401184,  0.88047714,  0.88427249,  0.88854436,  0.89517152,\n",
       "        0.90550888,  0.92587507,  0.94023857,  0.94427218,  0.94427218,\n",
       "        0.95275444,  0.9566445 ])"
      ]
     },
     "execution_count": 34,
     "metadata": {},
     "output_type": "execute_result"
    }
   ],
   "source": [
    "np.sort(dist)"
   ]
  },
  {
   "cell_type": "code",
   "execution_count": null,
   "metadata": {
    "collapsed": false
   },
   "outputs": [],
   "source": []
  },
  {
   "cell_type": "code",
   "execution_count": null,
   "metadata": {
    "collapsed": true
   },
   "outputs": [],
   "source": []
  },
  {
   "cell_type": "code",
   "execution_count": null,
   "metadata": {
    "collapsed": true
   },
   "outputs": [],
   "source": []
  }
 ],
 "metadata": {
  "anaconda-cloud": {},
  "kernelspec": {
   "display_name": "Python [Root]",
   "language": "python",
   "name": "Python [Root]"
  },
  "language_info": {
   "codemirror_mode": {
    "name": "ipython",
    "version": 3
   },
   "file_extension": ".py",
   "mimetype": "text/x-python",
   "name": "python",
   "nbconvert_exporter": "python",
   "pygments_lexer": "ipython3",
   "version": "3.5.2"
  }
 },
 "nbformat": 4,
 "nbformat_minor": 0
}

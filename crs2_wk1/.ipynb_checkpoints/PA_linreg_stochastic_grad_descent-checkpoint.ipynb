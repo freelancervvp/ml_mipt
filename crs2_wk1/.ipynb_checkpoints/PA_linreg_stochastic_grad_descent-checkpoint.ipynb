{
 "cells": [
  {
   "cell_type": "markdown",
   "metadata": {},
   "source": [
    "# Линейная регрессия и стохастический градиентный спуск"
   ]
  },
  {
   "cell_type": "markdown",
   "metadata": {},
   "source": [
    "Задание основано на материалах лекций по линейной регрессии и градиентному спуску. Вы будете прогнозировать выручку компании в зависимости от уровня ее инвестиций в рекламу по TV, в газетах и по радио."
   ]
  },
  {
   "cell_type": "markdown",
   "metadata": {},
   "source": [
    "## Вы научитесь:\n",
    "- решать задачу восстановления линейной регрессии\n",
    "- реализовывать стохастический градиентный спуск для ее настройки\n",
    "- решать задачу линейной регрессии аналитически"
   ]
  },
  {
   "cell_type": "markdown",
   "metadata": {},
   "source": [
    "## Введение\n",
    "Линейная регрессия - один из наиболее хорошо изученных методов машинного обучения, позволяющий прогнозировать значения количественного признака в виде линейной комбинации прочих признаков с параметрами - весами модели. Оптимальные (в смысле минимальности некоторого функционала ошибки) параметры линейной регрессии можно найти аналитически с помощью нормального уравнения или численно с помощью методов оптимизации.  "
   ]
  },
  {
   "cell_type": "markdown",
   "metadata": {},
   "source": [
    "Линейная регрессия использует простой функционал качества - среднеквадратичную ошибку. Мы будем работать с выборкой, содержащей 3 признака. Для настройки параметров (весов) модели решается следующая задача:\n",
    "$$\\Large \\frac{1}{\\ell}\\sum_{i=1}^\\ell{{((w_0 + w_1x_{i1} + w_2x_{i2} +  w_3x_{i3}) - y_i)}^2} \\rightarrow \\min_{w_0, w_1, w_2, w_3},$$\n",
    "где $x_{i1}, x_{i2}, x_{i3}$ - значения признаков $i$-го объекта, $y_i$ - значение целевого признака $i$-го объекта, $\\ell$ - число объектов в обучающей выборке."
   ]
  },
  {
   "cell_type": "markdown",
   "metadata": {},
   "source": [
    "## Градиентный спуск\n",
    "Параметры $w_0, w_1, w_2, w_3$, по которым минимизируется среднеквадратичная ошибка, можно находить численно с помощью градиентного спуска.\n",
    "Градиентный шаг для весов будет выглядеть следующим образом:\n",
    "$$\\Large w_0 \\leftarrow w_0 - \\frac{2\\eta}{\\ell} \\sum_{i=1}^\\ell{{((w_0 + w_1x_{i1} + w_2x_{i2} +  w_3x_{i3}) - y_i)}}$$\n",
    "$$\\Large w_j \\leftarrow w_j - \\frac{2\\eta}{\\ell} \\sum_{i=1}^\\ell{{x_{ij}((w_0 + w_1x_{i1} + w_2x_{i2} +  w_3x_{i3}) - y_i)}},\\ j \\in \\{1,2,3\\}$$\n",
    "Здесь $\\eta$ - параметр, шаг градиентного спуска."
   ]
  },
  {
   "cell_type": "markdown",
   "metadata": {},
   "source": [
    "## Стохастический градиентный спуск\n",
    "Проблема градиентного спуска, описанного выше, в том, что на больших выборках считать на каждом шаге градиент по всем имеющимся данным может быть очень вычислительно сложно. \n",
    "В стохастическом варианте градиентного спуска поправки для весов вычисляются только с учетом одного случайно взятого объекта обучающей выборки:\n",
    "$$\\Large w_0 \\leftarrow w_0 - \\frac{2\\eta}{\\ell} {((w_0 + w_1x_{k1} + w_2x_{k2} +  w_3x_{k3}) - y_k)}$$\n",
    "$$\\Large w_j \\leftarrow w_j - \\frac{2\\eta}{\\ell} {x_{kj}((w_0 + w_1x_{k1} + w_2x_{k2} +  w_3x_{k3}) - y_k)},\\ j \\in \\{1,2,3\\},$$\n",
    "где $k$ - случайный индекс, $k \\in \\{1, \\ldots, \\ell\\}$."
   ]
  },
  {
   "cell_type": "markdown",
   "metadata": {},
   "source": [
    "## Нормальное уравнение \n",
    "Нахождение вектора оптимальных весов $w$ может быть сделано и аналитически.\n",
    "Мы хотим найти такой вектор весов $w$, чтобы вектор $y$, приближающий целевой признак, получался умножением матрицы $X$ (состоящей из всех признаков объектов обучающей выборки, кроме целевого) на вектор весов $w$. То есть, чтобы выполнялось матричное уравнение:\n",
    "$$\\Large y = Xw$$\n",
    "Домножением слева на $X^T$ получаем:\n",
    "$$\\Large X^Ty = X^TXw$$\n",
    "Это хорошо, поскольку теперь матрица $X^TX$ - квадратная, и можно найти решение (вектор $w$) в виде:\n",
    "$$\\Large w = {(X^TX)}^{-1}X^Ty$$\n",
    "Матрица ${(X^TX)}^{-1}X^T$ - [*псевдообратная*](https://ru.wikipedia.org/wiki/Псевдообратная_матрица) для матрицы $X$. В NumPy такую матрицу можно вычислить с помощью функции [numpy.linalg.pinv](http://docs.scipy.org/doc/numpy-1.10.0/reference/generated/numpy.linalg.pinv.html).\n",
    "\n",
    "Однако, нахождение псевдообратной матрицы - операция вычислительно сложная и нестабильная в случае малого определителя матрицы $X$ (проблема мультиколлинеарности). \n",
    "На практике лучше находить вектор весов $w$ решением матричного уравнения \n",
    "$$\\Large X^TXw = X^Ty$$Это может быть сделано с помощью функции [numpy.linalg.solve](http://docs.scipy.org/doc/numpy-1.10.1/reference/generated/numpy.linalg.solve.html).\n",
    "\n",
    "Но все же на практике для больших матриц $X$ быстрее работает градиентный спуск, особенно его стохастическая версия."
   ]
  },
  {
   "cell_type": "markdown",
   "metadata": {},
   "source": [
    "## Инструкции по выполнению"
   ]
  },
  {
   "cell_type": "markdown",
   "metadata": {},
   "source": [
    "В начале напишем простую функцию для записи ответов в текстовый файл. Ответами будут числа, полученные в ходе решения этого задания, округленные до 3 знаков после запятой. Полученные файлы после выполнения задания надо отправить в форму на странице задания на Coursera.org."
   ]
  },
  {
   "cell_type": "code",
   "execution_count": 1,
   "metadata": {
    "collapsed": true
   },
   "outputs": [],
   "source": [
    "def write_answer_to_file(answer, filename):\n",
    "    with open(filename, 'w') as f_out:\n",
    "        f_out.write(str(round(answer, 3)))"
   ]
  },
  {
   "cell_type": "markdown",
   "metadata": {},
   "source": [
    "**1. Загрузите данные из файла *advertising.csv* в объект pandas DataFrame. [Источник данных](http://www-bcf.usc.edu/~gareth/ISL/data.html).**"
   ]
  },
  {
   "cell_type": "code",
   "execution_count": 2,
   "metadata": {
    "collapsed": false
   },
   "outputs": [],
   "source": [
    "import pandas as pd\n",
    "adver_data = pd.read_csv('advertising.csv')"
   ]
  },
  {
   "cell_type": "markdown",
   "metadata": {
    "collapsed": true
   },
   "source": [
    "**Посмотрите на первые 5 записей и на статистику признаков в этом наборе данных.**"
   ]
  },
  {
   "cell_type": "code",
   "execution_count": 22,
   "metadata": {
    "collapsed": false
   },
   "outputs": [
    {
     "name": "stdout",
     "output_type": "stream",
     "text": [
      "(200, 4)\n"
     ]
    },
    {
     "data": {
      "text/html": [
       "<div>\n",
       "<table border=\"1\" class=\"dataframe\">\n",
       "  <thead>\n",
       "    <tr style=\"text-align: right;\">\n",
       "      <th></th>\n",
       "      <th>TV</th>\n",
       "      <th>Radio</th>\n",
       "      <th>Newspaper</th>\n",
       "      <th>Sales</th>\n",
       "    </tr>\n",
       "  </thead>\n",
       "  <tbody>\n",
       "    <tr>\n",
       "      <th>1</th>\n",
       "      <td>230.1</td>\n",
       "      <td>37.8</td>\n",
       "      <td>69.2</td>\n",
       "      <td>22.1</td>\n",
       "    </tr>\n",
       "    <tr>\n",
       "      <th>2</th>\n",
       "      <td>44.5</td>\n",
       "      <td>39.3</td>\n",
       "      <td>45.1</td>\n",
       "      <td>10.4</td>\n",
       "    </tr>\n",
       "    <tr>\n",
       "      <th>3</th>\n",
       "      <td>17.2</td>\n",
       "      <td>45.9</td>\n",
       "      <td>69.3</td>\n",
       "      <td>9.3</td>\n",
       "    </tr>\n",
       "    <tr>\n",
       "      <th>4</th>\n",
       "      <td>151.5</td>\n",
       "      <td>41.3</td>\n",
       "      <td>58.5</td>\n",
       "      <td>18.5</td>\n",
       "    </tr>\n",
       "    <tr>\n",
       "      <th>5</th>\n",
       "      <td>180.8</td>\n",
       "      <td>10.8</td>\n",
       "      <td>58.4</td>\n",
       "      <td>12.9</td>\n",
       "    </tr>\n",
       "  </tbody>\n",
       "</table>\n",
       "</div>"
      ],
      "text/plain": [
       "      TV  Radio  Newspaper  Sales\n",
       "1  230.1   37.8       69.2   22.1\n",
       "2   44.5   39.3       45.1   10.4\n",
       "3   17.2   45.9       69.3    9.3\n",
       "4  151.5   41.3       58.5   18.5\n",
       "5  180.8   10.8       58.4   12.9"
      ]
     },
     "execution_count": 22,
     "metadata": {},
     "output_type": "execute_result"
    }
   ],
   "source": [
    "print(adver_data.shape)\n",
    "adver_data.head()"
   ]
  },
  {
   "cell_type": "code",
   "execution_count": 9,
   "metadata": {
    "collapsed": false
   },
   "outputs": [
    {
     "data": {
      "text/plain": [
       "<matplotlib.axes._subplots.AxesSubplot at 0x9c13a58>"
      ]
     },
     "execution_count": 9,
     "metadata": {},
     "output_type": "execute_result"
    },
    {
     "data": {
      "image/png": "[encoded data removed]",
      "text/plain": [
       "<matplotlib.figure.Figure at 0x9a165f8>"
      ]
     },
     "metadata": {},
     "output_type": "display_data"
    },
    {
     "data": {
      "image/png": "[encoded data removed]",
      "text/plain": [
       "<matplotlib.figure.Figure at 0xaa65320>"
      ]
     },
     "metadata": {},
     "output_type": "display_data"
    },
    {
     "data": {
      "image/png": "[encoded data removed]",
      "text/plain": [
       "<matplotlib.figure.Figure at 0x9b9a240>"
      ]
     },
     "metadata": {},
     "output_type": "display_data"
    },
    {
     "data": {
      "image/png": "[encoded data removed]",
      "text/plain": [
       "<matplotlib.figure.Figure at 0xab93eb8>"
      ]
     },
     "metadata": {},
     "output_type": "display_data"
    }
   ],
   "source": [
    "%matplotlib inline\n",
    "adver_data.plot(y = 'TV', kind = 'hist', color = 'blue')\n",
    "adver_data.plot(y = 'Radio', kind = 'hist', color = 'green')\n",
    "adver_data.plot(y = 'Newspaper', kind = 'hist', color = 'red')\n",
    "adver_data.plot(y = 'Sales', kind = 'hist', color = 'yellow')"
   ]
  },
  {
   "cell_type": "markdown",
   "metadata": {},
   "source": [
    "**Создайте массивы NumPy *X* из столбцов TV, Radio и Newspaper и *y* - из столбца Sales. Используйте атрибут *values* объекта pandas DataFrame.**"
   ]
  },
  {
   "cell_type": "code",
   "execution_count": 48,
   "metadata": {
    "collapsed": false
   },
   "outputs": [
    {
     "name": "stdout",
     "output_type": "stream",
     "text": [
      "(<type 'numpy.ndarray'>, (200L, 3L))\n",
      "(<type 'numpy.ndarray'>, (200L,))\n"
     ]
    }
   ],
   "source": [
    "X = adver_data[['TV', 'Radio', 'Newspaper']].values\n",
    "print(type(X), X.shape)\n",
    "y = adver_data['Sales'].values\n",
    "print(type(y), y.shape)"
   ]
  },
  {
   "cell_type": "markdown",
   "metadata": {},
   "source": [
    "**Отмасштабируйте столбцы матрицы *X*, вычтя из каждого значения среднее по соответствующему столбцу и поделив результат на стандартное отклонение. Для определенности, используйте методы mean и std векторов NumPy (реализация std в Pandas может отличаться). Обратите внимание, что в numpy вызов функции .mean() без параметров возвращает среднее по всем элементам массива, а не по столбцам, как в pandas. Чтобы произвести вычисление по столбцам, необходимо указать параметр axis.**"
   ]
  },
  {
   "cell_type": "code",
   "execution_count": 49,
   "metadata": {
    "collapsed": false
   },
   "outputs": [
    {
     "name": "stdout",
     "output_type": "stream",
     "text": [
      "(array([ 147.0425,   23.264 ,   30.554 ]), array([ 85.63933176,  14.80964564,  21.72410606]))\n"
     ]
    }
   ],
   "source": [
    "import numpy as np\n",
    "\n",
    "means, stds = np.mean(X, axis = 0), np.std(X, axis = 0)\n",
    "print(means, stds)"
   ]
  },
  {
   "cell_type": "code",
   "execution_count": 50,
   "metadata": {
    "collapsed": false
   },
   "outputs": [
    {
     "name": "stdout",
     "output_type": "stream",
     "text": [
      "[[ 0.96985227  0.98152247  1.77894547]\n",
      " [-1.19737623  1.08280781  0.66957876]\n",
      " [-1.51615499  1.52846331  1.78354865]\n",
      " [ 0.05204968  1.21785493  1.28640506]\n",
      " [ 0.3941822  -0.84161366  1.28180188]]\n"
     ]
    }
   ],
   "source": [
    "for i in range(len(means)):\n",
    "    X[:, i] = (X[:, i] - means[i]) / stds[i] \n",
    "print(X[:5, :])"
   ]
  },
  {
   "cell_type": "markdown",
   "metadata": {},
   "source": [
    "**Добавьте к матрице *X* столбец из единиц, используя методы *hstack*, *ones* и *reshape* библиотеки NumPy. Вектор из единиц нужен для того, чтобы не обрабатывать отдельно коэффициент $w_0$ линейной регрессии.**"
   ]
  },
  {
   "cell_type": "code",
   "execution_count": 51,
   "metadata": {
    "collapsed": false
   },
   "outputs": [
    {
     "name": "stdout",
     "output_type": "stream",
     "text": [
      "[[ 1.          0.96985227  0.98152247  1.77894547]\n",
      " [ 1.         -1.19737623  1.08280781  0.66957876]\n",
      " [ 1.         -1.51615499  1.52846331  1.78354865]\n",
      " [ 1.          0.05204968  1.21785493  1.28640506]\n",
      " [ 1.          0.3941822  -0.84161366  1.28180188]]\n"
     ]
    }
   ],
   "source": [
    "#import numpy as np\n",
    "X = np.hstack(((np.reshape(np.ones(X.shape[0]), (X.shape[0], 1))), X))\n",
    "print(X[:5, :])"
   ]
  },
  {
   "cell_type": "markdown",
   "metadata": {},
   "source": [
    "**2. Реализуйте функцию *mserror* - среднеквадратичную ошибку прогноза. Она принимает два аргумента - объекты Series *y* (значения целевого признака) и *y\\_pred* (предсказанные значения). Не используйте в этой функции циклы - тогда она будет вычислительно неэффективной.**"
   ]
  },
  {
   "cell_type": "code",
   "execution_count": 61,
   "metadata": {
    "collapsed": true
   },
   "outputs": [],
   "source": [
    "def mserror(y, y_pred):\n",
    "    return np.sum((y - y_pred) ** 2) / len(y)"
   ]
  },
  {
   "cell_type": "markdown",
   "metadata": {},
   "source": [
    "**Какова среднеквадратичная ошибка прогноза значений Sales, если всегда предсказывать медианное значение Sales по исходной выборке? Запишите ответ в файл '1.txt'.**"
   ]
  },
  {
   "cell_type": "code",
   "execution_count": 53,
   "metadata": {
    "collapsed": false
   },
   "outputs": [
    {
     "name": "stdout",
     "output_type": "stream",
     "text": [
      "28.34575\n"
     ]
    }
   ],
   "source": [
    "answer1 = mserror(y, np.median(y))\n",
    "print(answer1)\n",
    "write_answer_to_file(answer1, '1.txt')"
   ]
  },
  {
   "cell_type": "markdown",
   "metadata": {},
   "source": [
    "**3. Реализуйте функцию *normal_equation*, которая по заданным матрицам (массивам NumPy) *X* и *y* вычисляет вектор весов $w$ согласно нормальному уравнению линейной регрессии.**"
   ]
  },
  {
   "cell_type": "code",
   "execution_count": 56,
   "metadata": {
    "collapsed": true
   },
   "outputs": [],
   "source": [
    "def normal_equation(X, y):\n",
    "    return np.dot(np.dot(np.linalg.inv(np.dot(X.T, X)), X.T), y)"
   ]
  },
  {
   "cell_type": "code",
   "execution_count": 57,
   "metadata": {
    "collapsed": false
   },
   "outputs": [
    {
     "name": "stdout",
     "output_type": "stream",
     "text": [
      "[ 14.0225       3.91925365   2.79206274  -0.02253861]\n"
     ]
    }
   ],
   "source": [
    "norm_eq_weights = normal_equation(X, y)\n",
    "print(norm_eq_weights)"
   ]
  },
  {
   "cell_type": "markdown",
   "metadata": {},
   "source": [
    "**Какие продажи предсказываются линейной моделью с весами, найденными с помощью нормального уравнения, в случае средних инвестиций в рекламу по ТВ, радио и в газетах? (то есть при нулевых значениях масштабированных признаков TV, Radio и Newspaper). Запишите ответ в файл '2.txt'.**"
   ]
  },
  {
   "cell_type": "code",
   "execution_count": 58,
   "metadata": {
    "collapsed": false
   },
   "outputs": [
    {
     "name": "stdout",
     "output_type": "stream",
     "text": [
      "[ 14.0225]\n"
     ]
    }
   ],
   "source": [
    "answer2 = np.dot(norm_eq_weights, [[1], [0], [0], [0]])\n",
    "print(answer2)\n",
    "write_answer_to_file(answer2, '2.txt')"
   ]
  },
  {
   "cell_type": "markdown",
   "metadata": {},
   "source": [
    "**4. Напишите функцию *linear_prediction*, которая принимает на вход матрицу *X* и вектор весов линейной модели *w*, а возвращает вектор прогнозов в виде линейной комбинации столбцов матрицы *X* с весами *w*.**"
   ]
  },
  {
   "cell_type": "code",
   "execution_count": 69,
   "metadata": {
    "collapsed": true
   },
   "outputs": [],
   "source": [
    "def linear_prediction(X, w):\n",
    "    #print(w.reshape((-1, 1)))\n",
    "    return np.reshape(np.dot(X, w.reshape((-1, 1))), (1, -1))"
   ]
  },
  {
   "cell_type": "markdown",
   "metadata": {},
   "source": [
    "**Какова среднеквадратичная ошибка прогноза значений Sales в виде линейной модели с весами, найденными с помощью нормального уравнения? Запишите ответ в файл '3.txt'.**"
   ]
  },
  {
   "cell_type": "code",
   "execution_count": 71,
   "metadata": {
    "collapsed": false
   },
   "outputs": [
    {
     "name": "stdout",
     "output_type": "stream",
     "text": [
      "2.78412631451\n"
     ]
    }
   ],
   "source": [
    "answer3 = mserror(y, linear_prediction(X, norm_eq_weights))\n",
    "print(answer3)\n",
    "write_answer_to_file(answer3, '3.txt')"
   ]
  },
  {
   "cell_type": "markdown",
   "metadata": {},
   "source": [
    "**5. Напишите функцию *stochastic_gradient_step*, реализующую шаг стохастического градиентного спуска для линейной регрессии. Функция должна принимать матрицу *X*, вектора *y* и *w*, число *train_ind* - индекс объекта обучающей выборки (строки матрицы *X*), по которому считается изменение весов, а также число *$\\eta$* (eta) - шаг градиентного спуска (по умолчанию *eta*=0.01). Результатом будет вектор обновленных весов. Наша реализация функции будет явно написана для данных с 3 признаками, но несложно модифицировать для любого числа признаков, можете это сделать.**"
   ]
  },
  {
   "cell_type": "code",
   "execution_count": 196,
   "metadata": {
    "collapsed": false
   },
   "outputs": [],
   "source": [
    "def stochastic_gradient_step(X, y, w, train_ind, eta = 0.01):\n",
    "    #grad0 = w[0] - 2 * eta / len(y) * (linear_prediction(X[train_ind, :], w) - y[train_ind])\n",
    "    #grad1 = w[1] - 2 * eta / len(y) * X[train_ind, 1] * (linear_prediction(X[train_ind, :], w) - y[train_ind])\n",
    "    #grad2 = w[2] - 2 * eta / len(y) * X[train_ind, 2] * (linear_prediction(X[train_ind, :], w) - y[train_ind])\n",
    "    #grad3 = w[3] - 2 * eta / len(y) * X[train_ind, 3] * (linear_prediction(X[train_ind, :], w) - y[train_ind])\n",
    "    #print(grad0, grad1, grad2, grad3)\n",
    "    grad = []\n",
    "    #print(linear_prediction(X[train_ind, :], w))\n",
    "    #print(y[train_ind])\n",
    "    #print(linear_prediction(X[train_ind, :], w) - y[train_ind])\n",
    "    #print(2 * eta / len(y) * X[train_ind, 1])\n",
    "    #print(2 * eta / len(y) * X[train_ind, 1] * float(linear_prediction(X[train_ind, :], w) - y[train_ind]))\n",
    "    for i in range(len(w)):\n",
    "        grad.append(w[i] + 2 * eta / len(y) * X[train_ind, i] * float(linear_prediction(X[train_ind, :], w) - y[train_ind]))\n",
    "    grad0, grad1, grad2, grad3 = float(grad[0]), float(grad[1]), float(grad[2]), float(grad[3])\n",
    "    #print(grad0, grad1, grad2, grad3)\n",
    "    #print(grad0.shape)\n",
    "    return  w - eta * np.array([grad0, grad1, grad2, grad3])"
   ]
  },
  {
   "cell_type": "markdown",
   "metadata": {},
   "source": [
    "**6. Напишите функцию *stochastic_gradient_descent*, реализующую стохастический градиентный спуск для линейной регрессии. Функция принимает на вход следующие аргументы:**\n",
    "- X - матрица, соответствующая обучающей выборке\n",
    "- y - вектор значений целевого признака\n",
    "- w_init - вектор начальных весов модели\n",
    "- eta - шаг градиентного спуска (по умолчанию 0.01)\n",
    "- max_iter - максимальное число итераций градиентного спуска (по умолчанию 10000)\n",
    "- max_weight_dist - минимальное евклидово расстояние между векторами весов на соседних итерациях градиентного спуска,\n",
    "при котором алгоритм прекращает работу (по умолчанию 1e-8)\n",
    "- seed - число, используемое для воспроизводимости сгенерированных псевдослучайных чисел (по умолчанию 42)\n",
    "- verbose - флаг печати информации (например, для отладки, по умолчанию False)\n",
    "\n",
    "**На каждой итерации в вектор (список) должно записываться текущее значение среднеквадратичной ошибки. Функция должна возвращать вектор весов $w$, а также вектор (список) ошибок.**"
   ]
  },
  {
   "cell_type": "code",
   "execution_count": 205,
   "metadata": {
    "collapsed": true
   },
   "outputs": [],
   "source": [
    "def stochastic_gradient_descent(X, y, w_init, eta = 1e-2, max_iter = 1e4,\n",
    "                                min_weight_dist = 1e-8, seed = 42, verbose = False):\n",
    "    # Инициализируем расстояние между векторами весов на соседних\n",
    "    # итерациях большим числом. \n",
    "    weight_dist = np.inf\n",
    "    # Инициализируем вектор весов\n",
    "    w = w_init\n",
    "    # Сюда будем записывать ошибки на каждой итерации\n",
    "    errors = []\n",
    "    # Счетчик итераций\n",
    "    iter_num = 0\n",
    "    # Будем порождать псевдослучайные числа \n",
    "    # (номер объекта, который будет менять веса), а для воспроизводимости\n",
    "    # этой последовательности псевдослучайных чисел используем seed.\n",
    "    np.random.seed(seed)\n",
    "        \n",
    "    # Основной цикл\n",
    "    while weight_dist > min_weight_dist and iter_num < max_iter:\n",
    "        # порождаем псевдослучайный \n",
    "        # индекс объекта обучающей выборки\n",
    "        random_ind = np.random.randint(X.shape[0])\n",
    "        #print(random_ind)\n",
    "        iter_num += 1\n",
    "        #print('iter_num = ', iter_num)\n",
    "        w_new = stochastic_gradient_step(X, y, w, random_ind, eta)\n",
    "        weight_dist = np.sqrt(np.sum((w_new - w) ** 2))\n",
    "        w = w_new\n",
    "        print(mserror(y, linear_prediction(X, w)))\n",
    "        errors.append(mserror(y, linear_prediction(X, w)))\n",
    "        \n",
    "    return w, errors"
   ]
  },
  {
   "cell_type": "markdown",
   "metadata": {},
   "source": [
    " **Запустите $10^5$ итераций стохастического градиентного спуска. Укажите вектор начальных весов *w_init*, состоящий из нулей. Оставьте параметры  *eta* и *seed* равными их значениям по умолчанию (*eta*=0.01, *seed*=42 - это важно для проверки ответов).**"
   ]
  },
  {
   "cell_type": "code",
   "execution_count": 206,
   "metadata": {
    "collapsed": false
   },
   "outputs": [
    {
     "name": "stdout",
     "output_type": "stream",
     "text": [
      "223.715741294\n",
      "223.715456325\n",
      "223.714649081\n",
      "223.713922924\n",
      "223.713864246\n",
      "223.713627715\n",
      "223.713104978\n",
      "223.712432195\n",
      "223.711961681\n",
      "223.711882834\n",
      "223.711365762\n",
      "223.710851704\n",
      "223.710623542\n",
      "223.710059516\n",
      "223.709708518\n",
      "223.709524145\n",
      "223.709562032\n",
      "223.709444557\n",
      "223.708538693\n",
      "223.708341447\n",
      "223.707857649\n",
      "223.707752426\n",
      "223.707346315\n",
      "223.707274901\n",
      "223.707230909\n",
      "223.706748768\n",
      "223.706139568\n",
      "223.705831875\n",
      "223.705621354\n",
      "223.705371311\n",
      "223.705118244\n",
      "223.704715157\n",
      "223.703746368\n",
      "223.703371572\n",
      "223.702928033\n",
      "223.702319126\n",
      "223.702387823\n",
      "223.702455834\n",
      "223.702303353\n",
      "223.702372209\n",
      "223.702222164\n",
      "223.702253219\n",
      "223.701591695\n",
      "223.701402687\n",
      "223.701521792\n",
      "223.701380253\n",
      "223.701230696\n",
      "223.700676692\n",
      "223.700662372\n",
      "223.70065351\n",
      "223.699584768\n",
      "223.699340068\n",
      "223.699147324\n",
      "223.698687308\n",
      "223.698722907\n",
      "223.698883397\n",
      "223.698443862\n",
      "223.697648049\n",
      "223.697673622\n",
      "223.697455219\n",
      "223.697583034\n",
      "223.697337327\n",
      "223.696954141\n",
      "223.695808091\n",
      "223.695568997\n",
      "223.695486268\n",
      "223.695403486\n",
      "223.695500078\n",
      "223.695450149\n",
      "223.695072126\n",
      "223.695124589\n",
      "223.694922961\n",
      "223.694724887\n",
      "223.694665796\n",
      "223.694084014\n",
      "223.693377352\n",
      "223.692844745\n",
      "223.692360528\n",
      "223.691671126\n",
      "223.691675698\n",
      "223.691752581\n",
      "223.691645906\n",
      "223.691501768\n",
      "223.691678638\n",
      "223.691784318\n",
      "223.691817679\n",
      "223.691065879\n",
      "223.690575633\n",
      "223.690459848\n",
      "223.690647136\n",
      "223.690005709\n",
      "223.689901689\n",
      "223.689732807\n",
      "223.689024144\n",
      "223.688789343\n",
      "223.688346037\n",
      "223.688052782\n",
      "223.68790351\n",
      "223.687638545\n",
      "223.687414171\n",
      "223.686960454\n",
      "223.68709329\n",
      "223.686768247\n",
      "223.686701245\n",
      "223.686322346\n",
      "223.68660683\n",
      "223.686340447\n",
      "223.685591374\n",
      "223.685598049\n",
      "223.68538156\n",
      "223.685516294\n",
      "223.685566208\n",
      "223.685573138\n",
      "223.685442726\n",
      "223.68531362\n",
      "223.685484442\n",
      "223.685498912\n",
      "223.68542911\n",
      "223.685188892\n",
      "223.684968552\n",
      "223.684983144\n",
      "223.685035444\n",
      "223.684793088\n",
      "223.684717486\n",
      "223.684894273\n",
      "223.684211738\n",
      "223.683925788\n",
      "223.683053231\n",
      "223.682243311\n",
      "223.681273567\n",
      "223.681179835\n",
      "223.681117663\n",
      "223.681357101\n",
      "223.681658502\n",
      "223.681657739\n",
      "223.681713249\n",
      "223.682029245\n",
      "223.681353786\n",
      "223.681325443\n",
      "223.68086223\n",
      "223.680707467\n",
      "223.680640958\n",
      "223.680801862\n",
      "223.680414287\n",
      "223.680159503\n",
      "223.679906797\n",
      "223.679838993\n",
      "223.679835789\n",
      "223.67967694\n",
      "223.679444322\n",
      "223.679650499\n",
      "223.679418145\n",
      "223.679375137\n",
      "223.679137576\n",
      "223.678707714\n",
      "223.678975897\n",
      "223.678622311\n",
      "223.678595066\n",
      "223.67874176\n",
      "223.678793616\n",
      "223.678493813\n",
      "223.678682645\n",
      "223.678536931\n",
      "223.67838313\n",
      "223.678652733\n",
      "223.678528923\n",
      "223.678746067\n",
      "223.677925341\n",
      "223.677651532\n",
      "223.677239955\n",
      "223.677099129\n",
      "223.676959712\n",
      "223.677243379\n",
      "223.677281819\n",
      "223.677267346\n",
      "223.677458144\n",
      "223.677775438\n",
      "223.677599503\n",
      "223.677898592\n",
      "223.678221961\n",
      "223.678531619\n",
      "223.677860656\n",
      "223.677769656\n",
      "223.677732531\n",
      "223.678047084\n",
      "223.67795422\n",
      "223.677979629\n",
      "223.67809169\n",
      "223.677964645\n",
      "223.6780583\n",
      "223.678067716\n",
      "223.678001243\n",
      "223.678188544\n",
      "223.677373377\n",
      "223.677536202\n",
      "223.677634537\n",
      "223.677577201\n",
      "223.677714161\n",
      "223.677015493\n",
      "223.677309059\n",
      "223.677375246\n",
      "223.67716564\n",
      "223.677266457\n",
      "223.677310809\n",
      "223.676504424\n",
      "223.675970887\n",
      "223.676211807\n",
      "223.676057712\n",
      "223.676257128\n",
      "223.676496606\n",
      "223.676864765\n",
      "223.676913136\n",
      "223.67695984\n",
      "223.677007262\n",
      "223.67598741\n",
      "223.676132611\n",
      "223.676345062\n",
      "223.67639863\n",
      "223.676522807\n",
      "223.676759629\n",
      "223.676226264\n",
      "223.67636921\n",
      "223.675719886\n",
      "223.675755158\n",
      "223.675977758\n",
      "223.676220031\n",
      "223.675646536\n",
      "223.675609081\n",
      "223.675692268\n",
      "223.675808651\n",
      "223.675889843\n",
      "223.676004931\n",
      "223.676301227\n",
      "223.675288435\n",
      "223.675404888\n",
      "223.675577424\n",
      "223.675493112\n",
      "223.675393649\n",
      "223.675117906\n",
      "223.675171679\n",
      "223.675120757\n",
      "223.675242856\n",
      "223.675478975\n",
      "223.675706599\n",
      "223.675852904\n",
      "223.675825646\n",
      "223.67604117\n",
      "223.675491913\n",
      "223.675084444\n",
      "223.675225452\n",
      "223.674388421\n",
      "223.674618312\n",
      "223.67444865\n",
      "223.674496636\n",
      "223.67430102\n",
      "223.674191068\n",
      "223.67424163\n",
      "223.673414445\n",
      "223.673244453\n",
      "223.672335635\n",
      "223.672612902\n",
      "223.672640515\n",
      "223.672769323\n",
      "223.673116711\n",
      "223.673345537\n",
      "223.673408142\n",
      "223.673423704\n",
      "223.672803852\n",
      "223.673130105\n",
      "223.672904257\n",
      "223.673051193\n",
      "223.672876889\n",
      "223.673147826\n",
      "223.672965243\n",
      "223.672088316\n",
      "223.672263013\n",
      "223.672522791\n",
      "223.672346919\n",
      "223.671865981\n",
      "223.671678843\n",
      "223.671779073\n",
      "223.671949449\n",
      "223.671344357\n",
      "223.670797388\n",
      "223.670489352\n",
      "223.670819612\n",
      "223.670132111\n",
      "223.670270063\n",
      "223.670715059\n",
      "223.669860652\n",
      "223.669954521\n",
      "223.669421466\n",
      "223.669860375\n",
      "223.66907705\n",
      "223.669298993\n",
      "223.668840275\n",
      "223.669234724\n",
      "223.669296117\n",
      "223.669515871\n",
      "223.669625666\n",
      "223.669531248\n",
      "223.669652954\n",
      "223.669746427\n",
      "223.669625505\n",
      "223.669684249\n",
      "223.669737051\n",
      "223.669798042\n",
      "223.669342613\n",
      "223.66850195\n",
      "223.668463631\n",
      "223.668126478\n",
      "223.668438849\n",
      "223.668829531\n",
      "223.668569718\n",
      "223.66868008\n",
      "223.668478471\n",
      "223.668027954\n",
      "223.668073019\n",
      "223.668005934\n",
      "223.667844875\n",
      "223.667920169\n",
      "223.668114948\n",
      "223.668457745\n",
      "223.668123215\n",
      "223.667900375\n",
      "223.667387868\n",
      "223.666629288\n",
      "223.667038061\n",
      "223.667230268\n",
      "223.667422227\n",
      "223.667381077\n",
      "223.667633837\n",
      "223.668032567\n",
      "223.668376187\n",
      "223.667451145\n",
      "223.667750393\n",
      "223.667776101\n",
      "223.667674884\n",
      "223.667804337\n",
      "223.668099643\n",
      "223.668090129\n",
      "223.668542498\n",
      "223.66873076\n",
      "223.668873437\n",
      "223.669057674\n",
      "223.669107681\n",
      "223.669157189\n",
      "223.668924005\n",
      "223.66919823\n",
      "223.669409609\n",
      "223.669347099\n",
      "223.669383782\n",
      "223.669718692\n",
      "223.670056659\n",
      "223.670441314\n",
      "223.669903377\n",
      "223.669996823\n",
      "223.66974112\n",
      "223.670094325\n",
      "223.670422134\n",
      "223.670366068\n",
      "223.67038697\n",
      "223.670402114\n",
      "223.670671453\n",
      "223.670672762\n",
      "223.670846415\n",
      "223.671083502\n",
      "223.670225403\n",
      "223.670254425\n",
      "223.669572562\n",
      "223.669532313\n",
      "223.669184468\n",
      "223.669200647\n",
      "223.669480566\n",
      "223.669736966\n",
      "223.668892347\n",
      "223.668793669\n",
      "223.668910685\n",
      "223.669142866\n",
      "223.669290713\n",
      "223.66935155\n",
      "223.669682783\n",
      "223.670061033\n",
      "223.669298383\n",
      "223.669628901\n",
      "223.669166878\n",
      "223.669323029\n",
      "223.669654547\n",
      "223.669707645\n",
      "223.669920521\n",
      "223.669876793\n",
      "223.669851808\n",
      "223.670038498\n",
      "223.670210217\n",
      "223.670149222\n",
      "223.670003945\n",
      "223.669789081\n",
      "223.67009971\n",
      "223.670112929\n",
      "223.670413842\n",
      "223.670434272\n",
      "223.670479575\n",
      "223.670528525\n",
      "223.670790555\n",
      "223.670404268\n",
      "223.669458904\n",
      "223.669724304\n",
      "223.669689802\n",
      "223.669797313\n",
      "223.668952086\n",
      "223.669265735\n",
      "223.669219779\n",
      "223.669440304\n",
      "223.669678533\n",
      "223.669513277\n",
      "223.669682406\n",
      "223.670049604\n",
      "223.670108111\n",
      "223.670469469\n",
      "223.670532045\n",
      "223.670372637\n",
      "223.670541887\n",
      "223.670818876\n",
      "223.670460727\n",
      "223.670459324\n",
      "223.670116262\n",
      "223.670517447\n",
      "223.670513071\n",
      "223.670861378\n",
      "223.671037975\n",
      "223.671248888\n",
      "223.671177506\n",
      "223.671339426\n",
      "223.671272728\n",
      "223.670791531\n",
      "223.670723145\n",
      "223.671107789\n",
      "223.670686305\n",
      "223.670957593\n",
      "223.671095841\n",
      "223.671232707\n",
      "223.671161488\n",
      "223.67109803\n",
      "223.671259525\n",
      "223.671209668\n",
      "223.670708748\n",
      "223.67042212\n",
      "223.669952154\n",
      "223.669842874\n",
      "223.669960282\n",
      "223.670133654\n",
      "223.66962105\n",
      "223.669456365\n",
      "223.669815063\n",
      "223.669902114\n",
      "223.669856985\n",
      "223.670260545\n",
      "223.67050349\n",
      "223.670931736\n",
      "223.671027372\n",
      "223.67041763\n",
      "223.670687878\n",
      "223.669833742\n",
      "223.669496513\n",
      "223.669656765\n",
      "223.669960821\n",
      "223.67024362\n",
      "223.670473823\n",
      "223.670442864\n",
      "223.670469708\n",
      "223.670166227\n",
      "223.670437925\n",
      "223.670526021\n",
      "223.670747344\n",
      "223.671122731\n",
      "223.671051035\n",
      "223.671297551\n",
      "223.671686928\n",
      "223.671817882\n",
      "223.672156046\n",
      "223.671983837\n",
      "223.672144381\n",
      "223.67138968\n",
      "223.67175752\n",
      "223.672048473\n",
      "223.672295304\n",
      "223.671972265\n",
      "223.671366931\n",
      "223.671501086\n",
      "223.671826848\n",
      "223.671253435\n",
      "223.671099971\n",
      "223.670953129\n",
      "223.671223746\n",
      "223.671575226\n",
      "223.671025934\n",
      "223.671116351\n",
      "223.671285568\n",
      "223.670687108\n",
      "223.670135307\n",
      "Wall time: 94 ms\n"
     ]
    }
   ],
   "source": [
    "%%time\n",
    "stoch_grad_desc_weights, stoch_errors_by_iter = stochastic_gradient_descent(X, y, np.array([0,0,0,0]), \n",
    "                                                                            eta = 1e-2, max_iter = 500, \n",
    "                                                                            min_weight_dist = 1e-8, seed = 42, \n",
    "                                                                            verbose = False)"
   ]
  },
  {
   "cell_type": "markdown",
   "metadata": {},
   "source": [
    "**Посмотрим, чему равна ошибка на первых 50 итерациях стохастического градиентного спуска. Видим, что ошибка не обязательно уменьшается на каждой итерации.**"
   ]
  },
  {
   "cell_type": "code",
   "execution_count": 199,
   "metadata": {
    "collapsed": false
   },
   "outputs": [
    {
     "name": "stdout",
     "output_type": "stream",
     "text": [
      "Populating the interactive namespace from numpy and matplotlib\n"
     ]
    },
    {
     "data": {
      "text/plain": [
       "<matplotlib.text.Text at 0xe943eb8>"
      ]
     },
     "execution_count": 199,
     "metadata": {},
     "output_type": "execute_result"
    },
    {
     "data": {
      "image/png": "[encoded data removed]",
      "text/plain": [
       "<matplotlib.figure.Figure at 0xe926a20>"
      ]
     },
     "metadata": {},
     "output_type": "display_data"
    }
   ],
   "source": [
    "%pylab inline\n",
    "plot(range(50), stoch_errors_by_iter[:50])\n",
    "xlabel('Iteration number')\n",
    "ylabel('MSE')"
   ]
  },
  {
   "cell_type": "markdown",
   "metadata": {},
   "source": [
    "**Теперь посмотрим на зависимость ошибки от номера итерации для $10^5$ итераций стохастического градиентного спуска. Видим, что алгоритм сходится.**"
   ]
  },
  {
   "cell_type": "code",
   "execution_count": 178,
   "metadata": {
    "collapsed": false
   },
   "outputs": [
    {
     "name": "stdout",
     "output_type": "stream",
     "text": [
      "Populating the interactive namespace from numpy and matplotlib\n"
     ]
    },
    {
     "data": {
      "text/plain": [
       "<matplotlib.text.Text at 0xdd6c7f0>"
      ]
     },
     "execution_count": 178,
     "metadata": {},
     "output_type": "execute_result"
    },
    {
     "data": {
      "image/png": "[encoded data removed]",
      "text/plain": [
       "<matplotlib.figure.Figure at 0xdd61160>"
      ]
     },
     "metadata": {},
     "output_type": "display_data"
    }
   ],
   "source": [
    "%pylab inline\n",
    "plot(range(len(stoch_errors_by_iter)), stoch_errors_by_iter)\n",
    "xlabel('Iteration number')\n",
    "ylabel('MSE')"
   ]
  },
  {
   "cell_type": "markdown",
   "metadata": {},
   "source": [
    "**Посмотрим на вектор весов, к которому сошелся метод.**"
   ]
  },
  {
   "cell_type": "code",
   "execution_count": 100,
   "metadata": {
    "collapsed": false
   },
   "outputs": [
    {
     "data": {
      "text/plain": [
       "array([-0.00141975, -0.00052567, -0.00033923, -0.0001702 ])"
      ]
     },
     "execution_count": 100,
     "metadata": {},
     "output_type": "execute_result"
    }
   ],
   "source": [
    "stoch_grad_desc_weights"
   ]
  },
  {
   "cell_type": "markdown",
   "metadata": {},
   "source": [
    "**Посмотрим на среднеквадратичную ошибку на последней итерации.**"
   ]
  },
  {
   "cell_type": "code",
   "execution_count": 101,
   "metadata": {
    "collapsed": false
   },
   "outputs": [
    {
     "data": {
      "text/plain": [
       "223.76278853747485"
      ]
     },
     "execution_count": 101,
     "metadata": {},
     "output_type": "execute_result"
    }
   ],
   "source": [
    "stoch_errors_by_iter[-1]"
   ]
  },
  {
   "cell_type": "markdown",
   "metadata": {},
   "source": [
    "**Какова среднеквадратичная ошибка прогноза значений Sales в виде линейной модели с весами, найденными с помощью градиентного спуска? Запишите ответ в файл '4.txt'.**"
   ]
  },
  {
   "cell_type": "code",
   "execution_count": null,
   "metadata": {
    "collapsed": false
   },
   "outputs": [],
   "source": [
    "answer4 = # Ваш код здесь\n",
    "print(answer4)\n",
    "write_answer_to_file(answer4, '4.txt')"
   ]
  },
  {
   "cell_type": "markdown",
   "metadata": {},
   "source": [
    "**Ответами к заданию будут текстовые файлы, полученные в ходе этого решения. Обратите внимание, что отправленные файлы не должны содержать пустую строку в конце. Данный нюанс является ограничением платформы Coursera. Мы работаем над исправлением этого ограничения.**"
   ]
  }
 ],
 "metadata": {
  "kernelspec": {
   "display_name": "Python [py27]",
   "language": "python",
   "name": "Python [py27]"
  },
  "language_info": {
   "codemirror_mode": {
    "name": "ipython",
    "version": 2
   },
   "file_extension": ".py",
   "mimetype": "text/x-python",
   "name": "python",
   "nbconvert_exporter": "python",
   "pygments_lexer": "ipython2",
   "version": "2.7.12"
  }
 },
 "nbformat": 4,
 "nbformat_minor": 0
}

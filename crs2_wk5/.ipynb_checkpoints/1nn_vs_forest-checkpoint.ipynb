{
 "cells": [
  {
   "cell_type": "code",
   "execution_count": 89,
   "metadata": {
    "collapsed": true
   },
   "outputs": [],
   "source": [
    "import pandas as pd\n",
    "import numpy as np\n",
    "import sklearn.datasets\n",
    "from sklearn import cross_validation\n",
    "from sklearn.metrics import euclidean_distances\n",
    "from sklearn import ensemble\n",
    "import math\n",
    "import matplotlib\n",
    "from matplotlib import pyplot as plt\n",
    "matplotlib.style.use('ggplot')\n",
    "%matplotlib inline"
   ]
  },
  {
   "cell_type": "code",
   "execution_count": 2,
   "metadata": {
    "collapsed": false
   },
   "outputs": [
    {
     "name": "stdout",
     "output_type": "stream",
     "text": [
      "(1797L, 64L)\n",
      "[[  0.   0.   5.  13.   9.   1.   0.   0.   0.   0.  13.  15.  10.  15.\n",
      "    5.   0.   0.   3.  15.   2.   0.  11.   8.   0.   0.   4.  12.   0.\n",
      "    0.   8.   8.   0.   0.   5.   8.   0.   0.   9.   8.   0.   0.   4.\n",
      "   11.   0.   1.  12.   7.   0.   0.   2.  14.   5.  10.  12.   0.   0.\n",
      "    0.   0.   6.  13.  10.   0.   0.   0.]\n",
      " [  0.   0.   0.  12.  13.   5.   0.   0.   0.   0.   0.  11.  16.   9.\n",
      "    0.   0.   0.   0.   3.  15.  16.   6.   0.   0.   0.   7.  15.  16.\n",
      "   16.   2.   0.   0.   0.   0.   1.  16.  16.   3.   0.   0.   0.   0.\n",
      "    1.  16.  16.   6.   0.   0.   0.   0.   1.  16.  16.   6.   0.   0.\n",
      "    0.   0.   0.  11.  16.  10.   0.   0.]\n",
      " [  0.   0.   0.   4.  15.  12.   0.   0.   0.   0.   3.  16.  15.  14.\n",
      "    0.   0.   0.   0.   8.  13.   8.  16.   0.   0.   0.   0.   1.   6.\n",
      "   15.  11.   0.   0.   0.   1.   8.  13.  15.   1.   0.   0.   0.   9.\n",
      "   16.  16.   5.   0.   0.   0.   0.   3.  13.  16.  16.  11.   5.   0.\n",
      "    0.   0.   0.   3.  11.  16.   9.   0.]]\n",
      "(1797L,)\n",
      "[0 1 2 ..., 8 9 8]\n"
     ]
    }
   ],
   "source": [
    "digits = sklearn.datasets.load_digits()\n",
    "\n",
    "digits_data = digits.data\n",
    "digits_target = digits.target\n",
    "\n",
    "print digits.data.shape\n",
    "print digits.data[:3,:]\n",
    "print digits.target.shape\n",
    "print digits.target"
   ]
  },
  {
   "cell_type": "code",
   "execution_count": 72,
   "metadata": {
    "collapsed": true
   },
   "outputs": [],
   "source": [
    "# train_data, test_data, train_labels, test_labels = cross_validation.train_test_split(digits_data, \n",
    "#                                                                                      digits_target, \n",
    "#                                                                                      test_size = 0.25,\n",
    "#                                                                                      random_state = 16)\n",
    "train_data = digits_data[:1347,:]\n",
    "test_data = digits_data[1347:,:]\n",
    "train_labels = digits_target[:1347]\n",
    "test_labels = digits_target[1347:]"
   ]
  },
  {
   "cell_type": "code",
   "execution_count": 73,
   "metadata": {
    "collapsed": false
   },
   "outputs": [
    {
     "name": "stdout",
     "output_type": "stream",
     "text": [
      "(1347L, 64L)\n",
      "(450L, 64L)\n",
      "(1347L,)\n",
      "(450L,)\n"
     ]
    }
   ],
   "source": [
    "print train_data.shape\n",
    "print test_data.shape\n",
    "print train_labels.shape\n",
    "print test_labels.shape"
   ]
  },
  {
   "cell_type": "code",
   "execution_count": 74,
   "metadata": {
    "collapsed": false
   },
   "outputs": [
    {
     "name": "stdout",
     "output_type": "stream",
     "text": [
      "[ 3.  7.  3.  3.  4.  6.  6.  6.  4.  9.  1.  5.  0.  9.  6.  2.  8.  2.\n",
      "  0.  0.  1.  7.  6.  3.  2.  1.  7.  4.  6.  3.  1.  3.  9.  1.  7.  6.\n",
      "  8.  4.  3.  1.  4.  0.  5.  3.  6.  9.  6.  1.  7.  5.  4.  4.  7.  2.\n",
      "  8.  2.  2.  5.  7.  9.  5.  4.  8.  8.  4.  9.  0.  8.  0.  1.  2.  3.\n",
      "  4.  5.  6.  7.  8.  9.  0.  1.  2.  3.  4.  5.  6.  7.  8.  9.  0.  1.\n",
      "  2.  3.  4.  5.  6.  7.  8.  9.  0.  9.  5.  5.  6.  5.  0.  9.  8.  9.\n",
      "  8.  4.  1.  7.  7.  3.  5.  1.  0.  0.  2.  2.  7.  8.  2.  0.  1.  2.\n",
      "  6.  3.  3.  7.  3.  3.  4.  6.  6.  6.  4.  9.  1.  5.  0.  9.  5.  2.\n",
      "  8.  2.  0.  0.  1.  7.  6.  3.  2.  1.  7.  4.  6.  3.  1.  3.  9.  1.\n",
      "  7.  6.  8.  4.  3.  1.  4.  0.  5.  3.  6.  9.  6.  1.  7.  5.  4.  4.\n",
      "  7.  2.  8.  2.  2.  5.  7.  9.  5.  4.  8.  8.  4.  9.  0.  9.  9.  8.\n",
      "  0.  1.  2.  3.  4.  5.  6.  7.  1.  9.  0.  1.  2.  3.  4.  5.  6.  9.\n",
      "  0.  1.  2.  3.  4.  5.  6.  7.  1.  9.  0.  9.  5.  5.  6.  5.  0.  9.\n",
      "  8.  5.  8.  4.  1.  7.  7.  3.  5.  1.  0.  0.  2.  2.  7.  8.  2.  0.\n",
      "  1.  2.  6.  3.  3.  7.  7.  8.  4.  6.  6.  6.  9.  9.  1.  5.  0.  9.\n",
      "  5.  2.  8.  0.  1.  7.  6.  3.  2.  1.  7.  9.  6.  3.  1.  9.  9.  1.\n",
      "  7.  6.  8.  4.  3.  1.  4.  0.  5.  3.  6.  9.  6.  1.  7.  5.  4.  4.\n",
      "  7.  2.  2.  5.  7.  3.  5.  9.  4.  5.  0.  8.  9.  8.  0.  1.  2.  3.\n",
      "  4.  5.  6.  7.  8.  9.  0.  1.  2.  3.  4.  5.  6.  7.  8.  9.  0.  1.\n",
      "  2.  5.  4.  5.  6.  7.  8.  9.  0.  9.  5.  5.  6.  5.  0.  9.  8.  9.\n",
      "  8.  4.  1.  7.  7.  3.  5.  1.  0.  0.  2.  2.  7.  8.  2.  0.  1.  2.\n",
      "  6.  3.  8.  7.  3.  3.  4.  6.  6.  6.  4.  9.  1.  5.  0.  9.  5.  2.\n",
      "  8.  2.  0.  0.  1.  7.  6.  3.  2.  1.  7.  4.  6.  3.  1.  3.  9.  1.\n",
      "  7.  6.  8.  4.  5.  1.  4.  0.  5.  3.  6.  9.  6.  1.  7.  5.  4.  4.\n",
      "  7.  2.  8.  2.  2.  5.  7.  9.  5.  4.  8.  1.  4.  9.  0.  8.  9.  8.]\n"
     ]
    }
   ],
   "source": [
    "pred = np.zeros(len(test_labels))\n",
    "for i in range(len(test_labels)): #for each point in test set\n",
    "    nn_index = 0 #default index of nn \n",
    "    min_dist = 10e10 #default distanse\n",
    "    for j in range(len(train_labels)): #for each point in test set\n",
    "        dist = euclidean_distances(test_data[i].reshape(1,-1), train_data[j].reshape(1,-1))[0,0]\n",
    "        if dist < min_dist:\n",
    "            min_dist = dist\n",
    "            nn_index = j\n",
    "    pred[i] = train_labels[nn_index]\n",
    "print pred"
   ]
  },
  {
   "cell_type": "code",
   "execution_count": 88,
   "metadata": {
    "collapsed": false
   },
   "outputs": [
    {
     "name": "stdout",
     "output_type": "stream",
     "text": [
      "0.0377777777778\n"
     ]
    }
   ],
   "source": [
    "ans = (len(test_labels) - np.sum(pred == test_labels))/float(len(test_labels))\n",
    "print ans\n",
    "with open(\"1nn_vs_forest_ans1.txt\", \"w\") as text_file:\n",
    "    text_file.write(\"%s\" % ans)"
   ]
  },
  {
   "cell_type": "code",
   "execution_count": 87,
   "metadata": {
    "collapsed": false
   },
   "outputs": [
    {
     "name": "stdout",
     "output_type": "stream",
     "text": [
      "[[  0.   0.   7.  16.  16.  14.   0.   0.   0.   0.  16.  12.  10.  15.\n",
      "    1.   0.   0.   0.  10.   4.  16.  10.   0.   0.   0.   0.   0.   9.\n",
      "   16.  11.   1.   0.   0.   0.   0.   0.   7.  16.   8.   0.   0.   0.\n",
      "    0.   0.   0.  16.   7.   0.   0.   0.   8.   4.  10.  15.   2.   0.\n",
      "    0.   0.  12.  16.  16.   6.   0.   0.]]\n",
      "[[  0.   0.   5.  13.   9.   1.   0.   0.   0.   0.  13.  15.  10.  15.\n",
      "    5.   0.   0.   3.  15.   2.   0.  11.   8.   0.   0.   4.  12.   0.\n",
      "    0.   8.   8.   0.   0.   5.   8.   0.   0.   9.   8.   0.   0.   4.\n",
      "   11.   0.   1.  12.   7.   0.   0.   2.  14.   5.  10.  12.   0.   0.\n",
      "    0.   0.   6.  13.  10.   0.   0.   0.]]\n",
      "41.1217703899\n",
      "41.1217703899\n"
     ]
    }
   ],
   "source": [
    "print test_data[0].reshape(1,-1)\n",
    "print train_data[0].reshape(1,-1)\n",
    "print euclidean_distances(test_data[0].reshape(1,-1), train_data[0].reshape(1,-1))[0,0]\n",
    "sum1 = float(0)\n",
    "for i in range(len(test_data[0])):\n",
    "    sum1 += np.power(test_data[0][i]-train_data[0][i],2)\n",
    "print math.sqrt(sum1)"
   ]
  },
  {
   "cell_type": "code",
   "execution_count": 90,
   "metadata": {
    "collapsed": false
   },
   "outputs": [
    {
     "data": {
      "text/plain": [
       "RandomForestClassifier(bootstrap=True, class_weight=None, criterion='gini',\n",
       "            max_depth=None, max_features='auto', max_leaf_nodes=None,\n",
       "            min_samples_leaf=1, min_samples_split=2,\n",
       "            min_weight_fraction_leaf=0.0, n_estimators=1000, n_jobs=1,\n",
       "            oob_score=False, random_state=16, verbose=0, warm_start=False)"
      ]
     },
     "execution_count": 90,
     "metadata": {},
     "output_type": "execute_result"
    }
   ],
   "source": [
    "clf_rf = ensemble.RandomForestClassifier(n_estimators = 1000, random_state = 16)\n",
    "clf_rf.fit(train_data, train_labels)"
   ]
  },
  {
   "cell_type": "code",
   "execution_count": 91,
   "metadata": {
    "collapsed": false
   },
   "outputs": [
    {
     "name": "stdout",
     "output_type": "stream",
     "text": [
      "[3 7 3 3 4 6 6 6 4 9 1 5 0 9 6 2 8 2 0 0 1 7 6 3 2 1 7 4 6 3 1 3 9 1 7 6 8\n",
      " 4 3 1 4 0 5 3 6 9 6 1 7 5 4 4 7 2 8 2 2 5 7 9 5 4 8 8 4 9 0 8 0 1 2 3 4 5\n",
      " 6 7 8 9 0 1 2 3 4 5 6 7 8 9 0 1 2 3 4 5 6 7 8 9 0 9 5 5 6 5 0 9 8 9 8 4 1\n",
      " 7 7 3 5 9 0 0 2 2 7 9 2 0 1 2 6 3 3 7 3 3 4 6 6 6 4 9 9 5 0 9 5 2 8 2 0 0\n",
      " 9 7 6 3 2 1 7 4 6 3 1 3 9 1 7 6 8 4 3 9 4 0 5 3 6 9 6 9 7 5 4 4 7 2 8 2 2\n",
      " 5 7 9 5 4 8 8 4 9 0 8 9 8 0 1 2 3 4 5 6 7 1 9 0 1 2 3 4 5 6 9 0 1 2 3 4 5\n",
      " 6 7 8 9 4 9 5 5 6 5 0 9 4 5 8 4 1 7 7 3 5 1 0 0 0 2 7 8 2 0 1 2 6 8 7 7 3\n",
      " 8 4 6 6 6 7 9 1 5 0 9 5 2 8 0 1 7 6 3 2 1 7 7 6 3 1 3 9 1 7 6 8 4 3 1 4 0\n",
      " 5 3 6 9 6 1 7 5 4 4 7 2 2 5 7 3 5 9 4 5 0 8 9 7 0 1 2 3 4 5 6 7 8 9 0 1 2\n",
      " 8 4 5 6 7 8 9 0 1 2 8 4 5 6 7 8 9 0 9 5 5 6 5 0 9 8 9 8 4 1 7 7 3 5 1 0 0\n",
      " 2 2 7 8 2 0 1 2 6 8 8 7 5 8 4 6 6 6 4 9 1 5 0 9 5 2 8 2 0 0 1 7 6 3 2 1 7\n",
      " 4 6 3 1 3 9 1 7 6 8 4 5 1 4 0 5 3 6 9 6 1 7 5 4 4 7 2 8 2 2 5 7 9 5 4 8 1\n",
      " 4 9 0 8 9 8]\n"
     ]
    }
   ],
   "source": [
    "pred_rf = clf_rf.predict(test_data)\n",
    "print pred_rf"
   ]
  },
  {
   "cell_type": "code",
   "execution_count": 92,
   "metadata": {
    "collapsed": false
   },
   "outputs": [
    {
     "name": "stdout",
     "output_type": "stream",
     "text": [
      "0.0644444444444\n"
     ]
    }
   ],
   "source": [
    "ans2 = (len(test_labels) - np.sum(pred_rf == test_labels))/float(len(test_labels))\n",
    "print ans2\n",
    "with open(\"1nn_vs_forest_ans2.txt\", \"w\") as text_file:\n",
    "    text_file.write(\"%s\" % ans2)"
   ]
  },
  {
   "cell_type": "code",
   "execution_count": null,
   "metadata": {
    "collapsed": true
   },
   "outputs": [],
   "source": []
  }
 ],
 "metadata": {
  "anaconda-cloud": {},
  "kernelspec": {
   "display_name": "Python 2",
   "language": "python",
   "name": "python2"
  },
  "language_info": {
   "codemirror_mode": {
    "name": "ipython",
    "version": 2
   },
   "file_extension": ".py",
   "mimetype": "text/x-python",
   "name": "python",
   "nbconvert_exporter": "python",
   "pygments_lexer": "ipython2",
   "version": "2.7.12"
  }
 },
 "nbformat": 4,
 "nbformat_minor": 0
}

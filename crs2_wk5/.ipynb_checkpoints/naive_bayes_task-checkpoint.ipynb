{
 "cells": [
  {
   "cell_type": "code",
   "execution_count": 12,
   "metadata": {
    "collapsed": false
   },
   "outputs": [],
   "source": [
    "import pandas as pd\n",
    "import numpy as np\n",
    "import sklearn.datasets\n",
    "from sklearn.cross_validation import cross_val_score\n",
    "from sklearn.naive_bayes import GaussianNB, BernoulliNB, MultinomialNB \n",
    "import math\n",
    "import matplotlib\n",
    "from matplotlib import pyplot as plt\n",
    "matplotlib.style.use('ggplot')\n",
    "%matplotlib inline"
   ]
  },
  {
   "cell_type": "code",
   "execution_count": 3,
   "metadata": {
    "collapsed": false
   },
   "outputs": [],
   "source": [
    "digits = sklearn.datasets.load_digits()\n",
    "breast_cancer = sklearn.datasets.load_breast_cancer()"
   ]
  },
  {
   "cell_type": "code",
   "execution_count": 4,
   "metadata": {
    "collapsed": false
   },
   "outputs": [],
   "source": [
    "digits_data = digits.data\n",
    "digits_target = digits.target\n",
    "breast_cancer_data = breast_cancer.data\n",
    "breast_cancer_target = breast_cancer.target"
   ]
  },
  {
   "cell_type": "code",
   "execution_count": 6,
   "metadata": {
    "collapsed": false
   },
   "outputs": [
    {
     "name": "stdout",
     "output_type": "stream",
     "text": [
      "(1797L, 64L)\n",
      "[[  0.   0.   5.  13.   9.   1.   0.   0.   0.   0.  13.  15.  10.  15.\n",
      "    5.   0.   0.   3.  15.   2.   0.  11.   8.   0.   0.   4.  12.   0.\n",
      "    0.   8.   8.   0.   0.   5.   8.   0.   0.   9.   8.   0.   0.   4.\n",
      "   11.   0.   1.  12.   7.   0.   0.   2.  14.   5.  10.  12.   0.   0.\n",
      "    0.   0.   6.  13.  10.   0.   0.   0.]\n",
      " [  0.   0.   0.  12.  13.   5.   0.   0.   0.   0.   0.  11.  16.   9.\n",
      "    0.   0.   0.   0.   3.  15.  16.   6.   0.   0.   0.   7.  15.  16.\n",
      "   16.   2.   0.   0.   0.   0.   1.  16.  16.   3.   0.   0.   0.   0.\n",
      "    1.  16.  16.   6.   0.   0.   0.   0.   1.  16.  16.   6.   0.   0.\n",
      "    0.   0.   0.  11.  16.  10.   0.   0.]\n",
      " [  0.   0.   0.   4.  15.  12.   0.   0.   0.   0.   3.  16.  15.  14.\n",
      "    0.   0.   0.   0.   8.  13.   8.  16.   0.   0.   0.   0.   1.   6.\n",
      "   15.  11.   0.   0.   0.   1.   8.  13.  15.   1.   0.   0.   0.   9.\n",
      "   16.  16.   5.   0.   0.   0.   0.   3.  13.  16.  16.  11.   5.   0.\n",
      "    0.   0.   0.   3.  11.  16.   9.   0.]]\n",
      "(1797L,)\n",
      "[0 1 2 ..., 8 9 8]\n",
      "(569L, 30L)\n",
      "[[  1.79900000e+01   1.03800000e+01   1.22800000e+02   1.00100000e+03\n",
      "    1.18400000e-01   2.77600000e-01   3.00100000e-01   1.47100000e-01\n",
      "    2.41900000e-01   7.87100000e-02   1.09500000e+00   9.05300000e-01\n",
      "    8.58900000e+00   1.53400000e+02   6.39900000e-03   4.90400000e-02\n",
      "    5.37300000e-02   1.58700000e-02   3.00300000e-02   6.19300000e-03\n",
      "    2.53800000e+01   1.73300000e+01   1.84600000e+02   2.01900000e+03\n",
      "    1.62200000e-01   6.65600000e-01   7.11900000e-01   2.65400000e-01\n",
      "    4.60100000e-01   1.18900000e-01]\n",
      " [  2.05700000e+01   1.77700000e+01   1.32900000e+02   1.32600000e+03\n",
      "    8.47400000e-02   7.86400000e-02   8.69000000e-02   7.01700000e-02\n",
      "    1.81200000e-01   5.66700000e-02   5.43500000e-01   7.33900000e-01\n",
      "    3.39800000e+00   7.40800000e+01   5.22500000e-03   1.30800000e-02\n",
      "    1.86000000e-02   1.34000000e-02   1.38900000e-02   3.53200000e-03\n",
      "    2.49900000e+01   2.34100000e+01   1.58800000e+02   1.95600000e+03\n",
      "    1.23800000e-01   1.86600000e-01   2.41600000e-01   1.86000000e-01\n",
      "    2.75000000e-01   8.90200000e-02]\n",
      " [  1.96900000e+01   2.12500000e+01   1.30000000e+02   1.20300000e+03\n",
      "    1.09600000e-01   1.59900000e-01   1.97400000e-01   1.27900000e-01\n",
      "    2.06900000e-01   5.99900000e-02   7.45600000e-01   7.86900000e-01\n",
      "    4.58500000e+00   9.40300000e+01   6.15000000e-03   4.00600000e-02\n",
      "    3.83200000e-02   2.05800000e-02   2.25000000e-02   4.57100000e-03\n",
      "    2.35700000e+01   2.55300000e+01   1.52500000e+02   1.70900000e+03\n",
      "    1.44400000e-01   4.24500000e-01   4.50400000e-01   2.43000000e-01\n",
      "    3.61300000e-01   8.75800000e-02]]\n",
      "(569L,)\n",
      "[0 0 0 0 0 0 0 0 0 0 0 0 0 0 0 0 0 0 0 1 1 1 0 0 0 0 0 0 0 0 0 0 0 0 0 0 0\n",
      " 1 0 0 0 0 0 0 0 0 1 0 1 1 1 1 1 0 0 1 0 0 1 1 1 1 0 1 0 0 1 1 1 1 0 1 0 0\n",
      " 1 0 1 0 0 1 1 1 0 0 1 0 0 0 1 1 1 0 1 1 0 0 1 1 1 0 0 1 1 1 1 0 1 1 0 1 1\n",
      " 1 1 1 1 1 1 0 0 0 1 0 0 1 1 1 0 0 1 0 1 0 0 1 0 0 1 1 0 1 1 0 1 1 1 1 0 1\n",
      " 1 1 1 1 1 1 1 1 0 1 1 1 1 0 0 1 0 1 1 0 0 1 1 0 0 1 1 1 1 0 1 1 0 0 0 1 0\n",
      " 1 0 1 1 1 0 1 1 0 0 1 0 0 0 0 1 0 0 0 1 0 1 0 1 1 0 1 0 0 0 0 1 1 0 0 1 1\n",
      " 1 0 1 1 1 1 1 0 0 1 1 0 1 1 0 0 1 0 1 1 1 1 0 1 1 1 1 1 0 1 0 0 0 0 0 0 0\n",
      " 0 0 0 0 0 0 0 1 1 1 1 1 1 0 1 0 1 1 0 1 1 0 1 0 0 1 1 1 1 1 1 1 1 1 1 1 1\n",
      " 1 0 1 1 0 1 0 1 1 1 1 1 1 1 1 1 1 1 1 1 1 0 1 1 1 0 1 0 1 1 1 1 0 0 0 1 1\n",
      " 1 1 0 1 0 1 0 1 1 1 0 1 1 1 1 1 1 1 0 0 0 1 1 1 1 1 1 1 1 1 1 1 0 0 1 0 0\n",
      " 0 1 0 0 1 1 1 1 1 0 1 1 1 1 1 0 1 1 1 0 1 1 0 0 1 1 1 1 1 1 0 1 1 1 1 1 1\n",
      " 1 0 1 1 1 1 1 0 1 1 0 1 1 1 1 1 1 1 1 1 1 1 1 0 1 0 0 1 0 1 1 1 1 1 0 1 1\n",
      " 0 1 0 1 1 0 1 0 1 1 1 1 1 1 1 1 0 0 1 1 1 1 1 1 0 1 1 1 1 1 1 1 1 1 1 0 1\n",
      " 1 1 1 1 1 1 0 1 0 1 1 0 1 1 1 1 1 0 0 1 0 1 0 1 1 1 1 1 0 1 1 0 1 0 1 0 0\n",
      " 1 1 1 0 1 1 1 1 1 1 1 1 1 1 1 0 1 0 0 1 1 1 1 1 1 1 1 1 1 1 1 1 1 1 1 1 1\n",
      " 1 1 1 1 1 1 1 0 0 0 0 0 0 1]\n"
     ]
    }
   ],
   "source": [
    "print digits.data.shape\n",
    "print digits.data[:3,:]\n",
    "print digits.target.shape\n",
    "print digits.target\n",
    "\n",
    "print breast_cancer.data.shape\n",
    "print breast_cancer.data[:3,:]\n",
    "print breast_cancer.target.shape\n",
    "print breast_cancer.target"
   ]
  },
  {
   "cell_type": "code",
   "execution_count": 11,
   "metadata": {
    "collapsed": false
   },
   "outputs": [
    {
     "name": "stdout",
     "output_type": "stream",
     "text": [
      "(array([178, 182, 177, 183, 181, 182, 181, 179, 354], dtype=int64), array([ 0.,  1.,  2.,  3.,  4.,  5.,  6.,  7.,  8.,  9.]))\n",
      "(array([212, 357], dtype=int64), array([ 0. ,  0.5,  1. ]))\n",
      "357\n"
     ]
    }
   ],
   "source": [
    "print np.histogram(digits_target, 9)\n",
    "print np.histogram(breast_cancer_target, 2)\n",
    "print(sum(breast_cancer_target))"
   ]
  },
  {
   "cell_type": "code",
   "execution_count": null,
   "metadata": {
    "collapsed": true
   },
   "outputs": [],
   "source": [
    "clf_gaus = GaussianNB()\n",
    "clf_bern = BernoulliNB()\n",
    "clf_mult = MultinomialNB()\n",
    "\n",
    "scores_gaus_digits = cross_val_score(clf_gaus, digits_data, digits_target)\n",
    "scores_bern_digits = cross_val_score(clf_bern, digits_data, digits_target)\n",
    "scores_mult_digits = cross_val_score(clf_mult, digits_data, digits_target)\n",
    "\n",
    "scores_gaus_breast = cross_val_score(clf_gaus, breast_cancer_data, breast_cancer_target)\n",
    "scores_bern_breast = cross_val_score(clf_bern, breast_cancer_data, breast_cancer_target)\n",
    "scores_mult_breast = cross_val_score(clf_mult, breast_cancer_data, breast_cancer_target)\n",
    "\n",
    "print scores_gaus_digits.mean()\n",
    "print scores_bern_digits.mean()\n",
    "print scores_mult_digits.mean()\n",
    "\n",
    "print scores_gaus_breast.mean()\n",
    "print scores_bern_breast.mean()\n",
    "print scores_mult_breast.mean()"
   ]
  },
  {
   "cell_type": "code",
   "execution_count": 49,
   "metadata": {
    "collapsed": false
   },
   "outputs": [
    {
     "name": "stdout",
     "output_type": "stream",
     "text": [
      "[ 0.79459459  0.86338798  0.81767956  0.80555556  0.77653631  0.88826816\n",
      "  0.88826816  0.80898876  0.84745763  0.84090909]\n",
      "0.833164579407\n"
     ]
    }
   ],
   "source": [
    "clf1 = tree.DecisionTreeClassifier(random_state=16)\n",
    "\n",
    "scores1 = cross_val_score(clf1, digits_data, digits_target, cv=10)\n",
    "\n",
    "print scores1\n",
    "print scores1.mean()\n",
    "\n",
    "with open(\"bagging_and_random_forest_task_task1.txt\", \"w\") as text_file:\n",
    "    text_file.write(\"%s\" % scores1.mean())"
   ]
  },
  {
   "cell_type": "code",
   "execution_count": 50,
   "metadata": {
    "collapsed": false
   },
   "outputs": [
    {
     "name": "stdout",
     "output_type": "stream",
     "text": [
      "[ 0.87567568  0.95081967  0.9281768   0.94444444  0.91061453  0.98324022\n",
      "  0.96648045  0.90449438  0.8700565   0.91477273]\n",
      "0.924877538983\n"
     ]
    }
   ],
   "source": [
    "clf2 = BaggingClassifier(n_estimators = 100, random_state=16)\n",
    "\n",
    "scores2 = cross_val_score(clf2, digits_data, digits_target, cv=10)\n",
    "\n",
    "print scores2\n",
    "print scores2.mean()\n",
    "\n",
    "with open(\"bagging_and_random_forest_task_task2.txt\", \"w\") as text_file:\n",
    "    text_file.write(\"%s\" % scores2.mean())"
   ]
  },
  {
   "cell_type": "code",
   "execution_count": 63,
   "metadata": {
    "collapsed": false
   },
   "outputs": [
    {
     "name": "stdout",
     "output_type": "stream",
     "text": [
      "[ 0.89189189  0.9726776   0.91160221  0.92222222  0.93854749  0.9273743\n",
      "  0.93854749  0.96629213  0.93220339  0.92613636]\n",
      "0.932749508173\n"
     ]
    }
   ],
   "source": [
    "clf3 = BaggingClassifier(n_estimators = 100, max_features=int(math.sqrt(digits_data.shape[1])), random_state=16)\n",
    "\n",
    "scores3 = cross_val_score(clf3, digits_data, digits_target, cv=10)\n",
    "\n",
    "print scores3\n",
    "print scores3.mean()\n",
    "\n",
    "with open(\"bagging_and_random_forest_task_task3.txt\", \"w\") as text_file:\n",
    "    text_file.write(\"%s\" % scores3.mean())"
   ]
  },
  {
   "cell_type": "code",
   "execution_count": 65,
   "metadata": {
    "collapsed": false
   },
   "outputs": [
    {
     "name": "stdout",
     "output_type": "stream",
     "text": [
      "[ 0.9027027   0.9726776   0.93370166  0.95        0.96089385  0.96648045\n",
      "  0.97765363  0.97191011  0.91525424  0.94886364]\n",
      "0.950013787476\n"
     ]
    }
   ],
   "source": [
    "clf4 = BaggingClassifier(\n",
    "    base_estimator=tree.DecisionTreeClassifier(max_features=int(math.sqrt(digits_data.shape[1])), \n",
    "                                               random_state=16), \n",
    "    n_estimators = 100,\n",
    "    random_state=16)\n",
    "\n",
    "\n",
    "scores4 = cross_val_score(clf4, digits_data, digits_target, cv=10)\n",
    "\n",
    "print scores4\n",
    "print scores4.mean()\n",
    "\n",
    "with open(\"bagging_and_random_forest_task_task4.txt\", \"w\") as text_file:\n",
    "    text_file.write(\"%s\" % scores4.mean())"
   ]
  },
  {
   "cell_type": "code",
   "execution_count": 74,
   "metadata": {
    "collapsed": false
   },
   "outputs": [
    {
     "data": {
      "text/plain": [
       "GridSearchCV(cv=10, error_score='raise',\n",
       "       estimator=RandomForestClassifier(bootstrap=True, class_weight=None, criterion='gini',\n",
       "            max_depth=None, max_features='auto', max_leaf_nodes=None,\n",
       "            min_samples_leaf=1, min_samples_split=2,\n",
       "            min_weight_fraction_leaf=0.0, n_estimators=100, n_jobs=1,\n",
       "            oob_score=False, random_state=1, verbose=0, warm_start=False),\n",
       "       fit_params={}, iid=True, n_jobs=1,\n",
       "       param_grid={'max_features': [1, 4, 8, 16, 40, 50], 'max_depth': [1, 2, 5, 10]},\n",
       "       pre_dispatch='2*n_jobs', refit=True, scoring=None, verbose=0)"
      ]
     },
     "execution_count": 74,
     "metadata": {},
     "output_type": "execute_result"
    }
   ],
   "source": [
    "clf_gaus = GaussianNB()\n",
    "clf_bern = BernoulliNB()\n",
    "clf_mult = MultinomialNB()\n",
    "\n",
    "max_features_list = [1, int(math.sqrt(digits_data.shape[1])/2), int(math.sqrt(digits_data.shape[1])), int(math.sqrt(digits_data.shape[1])*2), 40, 50]\n",
    "max_depth_list = [1, 2, 5, 10]\n",
    "\n",
    "clf_grid = GridSearchCV(clf_rf,\n",
    "            dict(max_features = max_features_list,\n",
    "                 max_depth = max_depth_list),\n",
    "                 cv=10)\n",
    "\n",
    "clf_grid.fit(digits_data, digits_target)\n",
    "\n"
   ]
  },
  {
   "cell_type": "code",
   "execution_count": 77,
   "metadata": {
    "collapsed": false
   },
   "outputs": [
    {
     "data": {
      "image/png": "[encoded data removed]",
      "text/plain": [
       "<matplotlib.figure.Figure at 0xb9196a0>"
      ]
     },
     "metadata": {},
     "output_type": "display_data"
    }
   ],
   "source": [
    "scores = [x[1] for x in clf_grid.grid_scores_]\n",
    "scores = np.array(scores).reshape(len(max_depth_list), len(max_features_list))\n",
    "\n",
    "for ind, i in enumerate(max_depth_list):\n",
    "    plt.plot(max_features_list, scores[ind], label='max_depth: ' + str(i))\n",
    "plt.legend()\n",
    "plt.xlabel('max_features')\n",
    "plt.ylabel('Mean score')\n",
    "plt.show()"
   ]
  },
  {
   "cell_type": "code",
   "execution_count": 71,
   "metadata": {
    "collapsed": false
   },
   "outputs": [
    {
     "data": {
      "text/plain": [
       "GridSearchCV(cv=10, error_score='raise',\n",
       "       estimator=RandomForestClassifier(bootstrap=True, class_weight=None, criterion='gini',\n",
       "            max_depth=8, max_features='auto', max_leaf_nodes=None,\n",
       "            min_samples_leaf=1, min_samples_split=2,\n",
       "            min_weight_fraction_leaf=0.0, n_estimators=10, n_jobs=1,\n",
       "            oob_score=False, random_state=1, verbose=0, warm_start=False),\n",
       "       fit_params={}, iid=True, n_jobs=1,\n",
       "       param_grid={'n_estimators': [10, 50, 100, 200], 'max_depth': [1, 2, 5, 10]},\n",
       "       pre_dispatch='2*n_jobs', refit=True, scoring=None, verbose=0)"
      ]
     },
     "execution_count": 71,
     "metadata": {},
     "output_type": "execute_result"
    }
   ],
   "source": [
    "clf_rf2 = RandomForestClassifier(max_depth = int(math.sqrt(digits_data.shape[1])), random_state = 1)\n",
    "\n",
    "n_estimators_list = [10, 50, 100, 200]\n",
    "max_depth_list = [1, 2, 5, 10]\n",
    "\n",
    "clf_grid2 = GridSearchCV(clf_rf2,\n",
    "            dict(n_estimators = n_estimators_list,\n",
    "                 max_depth = max_depth_list),\n",
    "                 cv=10)\n",
    "\n",
    "clf_grid2.fit(digits_data, digits_target)"
   ]
  },
  {
   "cell_type": "code",
   "execution_count": 73,
   "metadata": {
    "collapsed": false
   },
   "outputs": [
    {
     "data": {
      "image/png": "[encoded data removed]",
      "text/plain": [
       "<matplotlib.figure.Figure at 0xc9216a0>"
      ]
     },
     "metadata": {},
     "output_type": "display_data"
    }
   ],
   "source": [
    "scores2 = [x[1] for x in clf_grid2.grid_scores_]\n",
    "scores2 = np.array(scores2).reshape(len(n_estimators_list), len(max_depth_list))\n",
    "\n",
    "for ind, i in enumerate(n_estimators_list):\n",
    "    plt.plot(max_depth_list, scores2[ind], label='max_depth: ' + str(i))\n",
    "plt.legend()\n",
    "plt.xlabel('n_estimators_list')\n",
    "plt.ylabel('Mean score')\n",
    "plt.show()"
   ]
  },
  {
   "cell_type": "code",
   "execution_count": null,
   "metadata": {
    "collapsed": true
   },
   "outputs": [],
   "source": []
  }
 ],
 "metadata": {
  "anaconda-cloud": {},
  "kernelspec": {
   "display_name": "Python 2",
   "language": "python",
   "name": "python2"
  },
  "language_info": {
   "codemirror_mode": {
    "name": "ipython",
    "version": 2
   },
   "file_extension": ".py",
   "mimetype": "text/x-python",
   "name": "python",
   "nbconvert_exporter": "python",
   "pygments_lexer": "ipython2",
   "version": "2.7.12"
  }
 },
 "nbformat": 4,
 "nbformat_minor": 0
}
